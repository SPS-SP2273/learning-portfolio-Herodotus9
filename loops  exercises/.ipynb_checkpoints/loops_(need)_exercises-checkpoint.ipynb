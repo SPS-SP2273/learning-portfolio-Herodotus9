{
 "cells": [
  {
   "attachments": {},
   "cell_type": "markdown",
   "id": "123456",
   "metadata": {},
   "source": [
    "<div style=\"text-align:left;font-size:2em\"><span style=\"font-weight:bolder;font-size:1.25em\">SP2273 | Learning Portfolio</span><br><br><span style=\"font-weight:bold;color:darkred\">Loops (Need) Exercises</span></div>"
   ]
  },
  {
   "cell_type": "markdown",
   "id": "e86b161b-20f0-46ef-878e-bbbb6158d14b",
   "metadata": {},
   "source": [
    "Exercise 1 (Celcius to Farenheit) ☻\n",
    "\n",
    "You are provided with the following list of temperatures in Celsius. \n",
    "\n",
    "Write a quick Python snippet that converts each temperature to Fahrenheit and prints both temperatures."
   ]
  },
  {
   "cell_type": "code",
   "execution_count": 9,
   "id": "479ec7fc-f2ed-4c9b-9b11-5d057ba3de6b",
   "metadata": {},
   "outputs": [
    {
     "name": "stdout",
     "output_type": "stream",
     "text": [
      "0 °C is 32.0 °F\n",
      "5 °C is 41.0 °F\n",
      "10 °C is 50.0 °F\n",
      "15 °C is 59.0 °F\n",
      "20 °C is 68.0 °F\n",
      "25 °C is 77.0 °F\n",
      "30 °C is 86.0 °F\n",
      "35 °C is 95.0 °F\n",
      "40 °C is 104.0 °F\n",
      "45 °C is 113.0 °F\n",
      "50 °C is 122.0 °F\n"
     ]
    }
   ],
   "source": [
    "temperatures_celsius = [\n",
    "    0, 5, 10, 15, 20, 25,\n",
    "    30, 35, 40, 45, 50\n",
    "]\n",
    "\n",
    "#Temperature in degrees Fahrenheit (°F) = (Temperature in degrees Celsius (°C) * 9/5) + 32.\n",
    "\n",
    "for x in temperatures_celsius:\n",
    "    fahrenheit = (x * 9/5) + 32\n",
    "    print(f'{x} °C is {fahrenheit} °F')"
   ]
  },
  {
   "cell_type": "code",
   "execution_count": 1,
   "id": "cc488eea-9e86-482d-9aeb-5a6135689ba9",
   "metadata": {},
   "outputs": [
    {
     "name": "stdout",
     "output_type": "stream",
     "text": [
      "0 °C is 32.0 °F\n",
      "5 °C is 41.0 °F\n",
      "10 °C is 50.0 °F\n",
      "15 °C is 59.0 °F\n",
      "20 °C is 68.0 °F\n",
      "25 °C is 77.0 °F\n",
      "30 °C is 86.0 °F\n",
      "35 °C is 95.0 °F\n",
      "40 °C is 104.0 °F\n",
      "45 °C is 113.0 °F\n",
      "50 °C is 122.0 °F\n"
     ]
    }
   ],
   "source": [
    "#Is there a better way to name the elements that you are iterating through instead of x such that it is more informative of what they represent? \n",
    "#Remember to cultivate this good habit as we are writing programmes for humans.\n",
    "\n",
    "temperatures_celsius = [\n",
    "    0, 5, 10, 15, 20, 25,\n",
    "    30, 35, 40, 45, 50\n",
    "]\n",
    "\n",
    "for temp_celsius in temperatures_celsius:\n",
    "    fahrenheit = (temp_celsius * 9/5) + 32\n",
    "    print(f'{temp_celsius} °C is {fahrenheit} °F')"
   ]
  },
  {
   "cell_type": "markdown",
   "id": "46df50cb-67f8-4f55-96db-ed4f5aca2ba3",
   "metadata": {},
   "source": [
    "Exercise 2 (Multiplication table) ☻"
   ]
  },
  {
   "cell_type": "code",
   "execution_count": 14,
   "id": "98a89f92-f6f9-4c73-890f-faab4a2fe154",
   "metadata": {},
   "outputs": [
    {
     "name": "stdout",
     "output_type": "stream",
     "text": [
      "A1\tA2\tA3\t\n",
      "\n",
      "B1\tB2\tB3\t\n",
      "\n",
      "C1\tC2\tC3\t\n",
      "\n"
     ]
    }
   ],
   "source": [
    "for letter in ['A', 'B', 'C']:\n",
    "    for number in [1, 2, 3]:\n",
    "        print(f'{letter}{number}', end='\\t')\n",
    "    print('\\n')"
   ]
  },
  {
   "cell_type": "markdown",
   "id": "dd1f1aa6-95aa-4b14-a296-15389936c03d",
   "metadata": {},
   "source": [
    "Write a Python snippet that prints a multiplication table (up to 5) for numbers 1 through 5 using nested for loops. \n",
    "\n",
    "The output should be formatted as shown below:\n",
    "\n",
    "1 : 1   2   3   4   5   \n",
    "2 : 2   4   6   8   10  \n",
    "3 : 3   6   9   12  15  \n",
    "4 : 4   8   12  16  20  \n",
    "5 : 5   10  15  20  25  "
   ]
  },
  {
   "cell_type": "code",
   "execution_count": 80,
   "id": "dbe5d0b4-6849-42f5-b07d-8de882132e07",
   "metadata": {},
   "outputs": [
    {
     "name": "stdout",
     "output_type": "stream",
     "text": [
      "1   :\t1\t2\t3\t4\t5\t\n",
      "\n",
      "2   :\t2\t4\t6\t8\t10\t\n",
      "\n",
      "3   :\t3\t6\t9\t12\t15\t\n",
      "\n",
      "4   :\t4\t8\t12\t16\t20\t\n",
      "\n",
      "5   :\t5\t10\t15\t20\t25\t\n",
      "\n"
     ]
    }
   ],
   "source": [
    "for title in range (1,6):\n",
    "    print(f'{title}   :',end='\\t')\n",
    "    for val in range (1,6):\n",
    "        ans = title * val\n",
    "        print(f'{ans}',end='\\t')\n",
    "    print('\\n')"
   ]
  },
  {
   "cell_type": "code",
   "execution_count": 25,
   "id": "47a47aa8-3a3f-40dc-a765-9a093e7b020d",
   "metadata": {},
   "outputs": [
    {
     "name": "stdout",
     "output_type": "stream",
     "text": [
      "1  :  1    2    3    4    5    \n",
      "2  :  2    4    6    8    10   \n",
      "3  :  3    6    9    12   15   \n",
      "4  :  4    8    12   16   20   \n",
      "5  :  5    10   15   20   25   \n"
     ]
    }
   ],
   "source": [
    "#Good attempt! Notice your output is rather different from the expected output on the SP2273 website. Perhaps you might want to consider these points and revise accordingly:\n",
    "\n",
    "    #How can you change line 2 such that the spacing around the colon is what you see in the expected output?\n",
    "        #Add 2 spaces in the code after the :\n",
    "    #How can you change line 2 such that it allows print to continue in the same line without adding tab?\n",
    "        #Remove the \\t and just put end=''\n",
    "    #How can you change the formatting of line 5 such that the number of characters between each value is fixed?\n",
    "        #can specify the number of spacing using :5 after the ans\n",
    "        #\\t has to be removed since we are now using specific number of spaces rather than tab\n",
    "    #Do you need to print a new line after each number?\n",
    "        #No, can just use print()\n",
    "\n",
    "for title in range(1, 6):\n",
    "    print(f'{title:<2} :  ', end='')\n",
    "    for val in range(1, 6):\n",
    "        ans = title * val\n",
    "        print(f'{ans:<5}', end='')\n",
    "    print()\n",
    "\n",
    "#Using :<2, aka left justify with 2 spaces allows the double digits and single digits number to be aligned according to the example given in sp2273 website"
   ]
  }
 ],
 "metadata": {
  "kernelspec": {
   "display_name": "Python 3 (ipykernel)",
   "language": "python",
   "name": "python3"
  },
  "language_info": {
   "codemirror_mode": {
    "name": "ipython",
    "version": 3
   },
   "file_extension": ".py",
   "mimetype": "text/x-python",
   "name": "python",
   "nbconvert_exporter": "python",
   "pygments_lexer": "ipython3",
   "version": "3.11.5"
  },
  "toc": {
   "base_numbering": 1,
   "nav_menu": {},
   "number_sections": true,
   "sideBar": true,
   "skip_h1_title": false,
   "title_cell": "Table of Contents",
   "title_sidebar": "Contents",
   "toc_cell": false,
   "toc_position": {},
   "toc_section_display": true,
   "toc_window_display": false
  },
  "vscode": {
   "interpreter": {
    "hash": "31f2aee4e71d21fbe5cf8b01ff0e069b9275f58929596ceb00d14d90e3e16cd6"
   }
  }
 },
 "nbformat": 4,
 "nbformat_minor": 5
}
