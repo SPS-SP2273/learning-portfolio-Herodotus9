{
 "cells": [
  {
   "attachments": {},
   "cell_type": "markdown",
   "id": "123456",
   "metadata": {},
   "source": [
    "<div style=\"text-align:left;font-size:2em\"><span style=\"font-weight:bolder;font-size:1.25em\">SP2273 | Learning Portfolio</span><br><br><span style=\"font-weight:bold;color:darkred\">Loops (Nice)</span></div>"
   ]
  },
  {
   "attachments": {},
   "cell_type": "markdown",
   "id": "6405f213",
   "metadata": {},
   "source": [
    "# 1 There is more to list comprehension"
   ]
  },
  {
   "cell_type": "code",
   "execution_count": 1,
   "id": "a2668acc-53ce-4e0d-baae-4028b89e775c",
   "metadata": {},
   "outputs": [
    {
     "data": {
      "text/plain": [
       "[[0, 'A'],\n",
       " [0, 'B'],\n",
       " [0, 'C'],\n",
       " [1, 'A'],\n",
       " [1, 'B'],\n",
       " [1, 'C'],\n",
       " [2, 'A'],\n",
       " [2, 'B'],\n",
       " [2, 'C'],\n",
       " [3, 'A'],\n",
       " [3, 'B'],\n",
       " [3, 'C'],\n",
       " [4, 'A'],\n",
       " [4, 'B'],\n",
       " [4, 'C']]"
      ]
     },
     "execution_count": 1,
     "metadata": {},
     "output_type": "execute_result"
    }
   ],
   "source": [
    "#You can have more than one loop in a list comprehension.\n",
    "\n",
    "[[a,b] for a in range(5) for b in ['A', 'B', 'C']]"
   ]
  },
  {
   "cell_type": "code",
   "execution_count": 2,
   "id": "3971fdae-c3a7-467e-8f0a-f3e7cc21214c",
   "metadata": {},
   "outputs": [
    {
     "data": {
      "text/plain": [
       "[[1, 'A'], [1, 'B'], [1, 'C'], [3, 'A'], [3, 'B'], [3, 'C']]"
      ]
     },
     "execution_count": 2,
     "metadata": {},
     "output_type": "execute_result"
    }
   ],
   "source": [
    "#You can even incorporate a condition!\n",
    "\n",
    "[[a,b] for a in range(5) for b in ['A', 'B', 'C'] if a % 2 != 0]"
   ]
  },
  {
   "cell_type": "code",
   "execution_count": 3,
   "id": "ea4efa1d-2477-4916-9d9f-18e01fb09896",
   "metadata": {},
   "outputs": [
    {
     "name": "stdout",
     "output_type": "stream",
     "text": [
      "[1, 2, 3, 4, 5, 6, 7]\n"
     ]
    }
   ],
   "source": [
    "nested_list=[[1, 2, 3], [4, 5, 6, 7]]\n",
    "[y for x in nested_list for y in x]\n",
    "nested_list=[[1, 2, 3], [4, 5, 6, 7]]\n",
    "\n",
    "output =[]\n",
    "for x in nested_list:\n",
    "    for y in x:\n",
    "        output.append(y)\n",
    "\n",
    "print(output)\n"
   ]
  },
  {
   "attachments": {},
   "cell_type": "markdown",
   "id": "d19da295",
   "metadata": {},
   "source": [
    "# 2 Zipping a dictionary"
   ]
  },
  {
   "cell_type": "code",
   "execution_count": 4,
   "id": "0f2771d1-79a5-40eb-8823-15de157b3755",
   "metadata": {},
   "outputs": [
    {
     "data": {
      "text/plain": [
       "{'Natasha Romanoff': 'Black Widow',\n",
       " 'Tony Stark': 'Iron Man',\n",
       " 'Stephen Strange': 'Doctor Strange'}"
      ]
     },
     "execution_count": 4,
     "metadata": {},
     "output_type": "execute_result"
    }
   ],
   "source": [
    "#zip() offers one of the easiest ways to combine two lists into a dictionary:\n",
    "\n",
    "super_names=[\"Black Widow\", \"Iron Man\", \"Doctor Strange\"]\n",
    "real_names=[\"Natasha Romanoff\", \"Tony Stark\", \"Stephen Strange\"]\n",
    "\n",
    "dict(zip(real_names, super_names))\n",
    "\n",
    "#In the above dict() is used to recast zip()’s output into a dictionary."
   ]
  },
  {
   "attachments": {},
   "cell_type": "markdown",
   "id": "0fd87294",
   "metadata": {},
   "source": [
    "# 3 for and while has an else"
   ]
  },
  {
   "cell_type": "code",
   "execution_count": 5,
   "id": "17d44231-0264-4a11-8bdc-7b3f31153c5f",
   "metadata": {},
   "outputs": [
    {
     "name": "stdout",
     "output_type": "stream",
     "text": [
      "No negative numbers in the list\n"
     ]
    }
   ],
   "source": [
    "numbers=[0, 1, 2, 3, 4, 5, 6, 7, 8, 9]\n",
    "\n",
    "for i in numbers:\n",
    "    if i < 0: break\n",
    "else:\n",
    "    print('No negative numbers in the list')"
   ]
  },
  {
   "cell_type": "markdown",
   "id": "5f373c1b-28a2-479f-8e18-abb480042646",
   "metadata": {},
   "source": [
    "The for and while loops in Python come with an optional else statement! \n",
    "\n",
    "The code in the else block is executed only if the loops are **completed**. The else code-block will not run if you exit the loop prematurely (e.g. by using break).\n",
    "\n",
    "Shown alongside is a trivial example. You should add a negative number to the list, and re-run the snippet. There will be no message this time.\n",
    "\n",
    "So, the else statement can be used to distinguish between the loops completing as planned or if there was a break (or return or an exception)."
   ]
  },
  {
   "cell_type": "code",
   "execution_count": 9,
   "id": "929ce3eb-5274-4d9d-a9fd-37dba7d93d80",
   "metadata": {},
   "outputs": [],
   "source": [
    "numbers=[0, 1, 2, 3, 4, 5, 6, 7, 8, 9, -5]\n",
    "\n",
    "for i in numbers:\n",
    "    if i < 0: break\n",
    "else:\n",
    "    print('No negative numbers in the list')"
   ]
  },
  {
   "cell_type": "code",
   "execution_count": 7,
   "id": "2456ea1f-b246-4e16-bd6b-4eb1047bfef7",
   "metadata": {},
   "outputs": [
    {
     "name": "stdin",
     "output_type": "stream",
     "text": [
      "Enter the principle amount in $:  1000\n",
      "Enter the interest rate in %:  2\n",
      "Enter the time in years:  10\n"
     ]
    },
    {
     "name": "stdout",
     "output_type": "stream",
     "text": [
      "Balance after 10 year/s: $1218.99\n"
     ]
    }
   ],
   "source": [
    "#Compound Interest Calculator\n",
    "\n",
    "principle = 0 \n",
    "rate = 0 \n",
    "time = 0 \n",
    "\n",
    "while True: \n",
    "     principle = float(input(\"Enter the principle amount in $: \")) \n",
    "     if principle < 0: \n",
    "          print(\"Principle can't be less than zero\") \n",
    "     else: \n",
    "          break \n",
    "while True: \n",
    "     rate = float(input(\"Enter the interest rate in %: \")) \n",
    "     if rate < 0: \n",
    "          print(\"Interest rate can't be less than zero\") \n",
    "     else: \n",
    "          break \n",
    "while True: \n",
    "     time = int(input(\"Enter the time in years: \")) \n",
    "     if time < 0: \n",
    "          print(\"Time can't be less than zero\") \n",
    "     else: \n",
    "          break \n",
    "\n",
    "total = principle * pow((1 + rate / 100), time) \n",
    "print(f\"Balance after {time} year/s: ${total:.2f}\")"
   ]
  },
  {
   "attachments": {},
   "cell_type": "markdown",
   "id": "ea0cfb21",
   "metadata": {},
   "source": [
    "# Exercises"
   ]
  },
  {
   "attachments": {},
   "cell_type": "markdown",
   "id": "2e0b33b8",
   "metadata": {},
   "source": [
    "### Exercise 1"
   ]
  },
  {
   "cell_type": "code",
   "execution_count": 23,
   "id": "04422534-536b-4355-b125-2adc34b67f4a",
   "metadata": {},
   "outputs": [
    {
     "name": "stdout",
     "output_type": "stream",
     "text": [
      "apple\n",
      "banana\n",
      "jackfruit\n",
      "pineapple\n",
      "watermelons\n",
      "peaches\n",
      "mangoes\n",
      "strawberries\n",
      "passionfruit\n"
     ]
    }
   ],
   "source": [
    "#We want a snippet of code based on a for loop to remove fruits starting with the letter ‘p’ from the following list.\n",
    "\n",
    "fruits = [\"apple\", \"banana\", \"jackfruit\",\n",
    "          \"pineapple\", \"papaya\", \"watermelons\",\n",
    "          \"peaches\", \"durian\",  \"mangoes\",\n",
    "          \"strawberries\", \"passionfruit\"\n",
    "          ]\n",
    "\n",
    "#The following has been suggested as a solution. However, it does not work!\n",
    "\n",
    "for fruit in fruits:\n",
    "    print(fruit)\n",
    "    if fruit[0] == \"p\":\n",
    "        fruits.remove(fruit)\n",
    "\n",
    "#Identify, understand, explain and fix the bug."
   ]
  },
  {
   "cell_type": "code",
   "execution_count": 10,
   "id": "08833713-cbea-47fc-b423-98fbaa6743bc",
   "metadata": {},
   "outputs": [
    {
     "name": "stdout",
     "output_type": "stream",
     "text": [
      "['apple', 'banana', 'jackfruit', 'papaya', 'watermelons', 'durian', 'mangoes', 'strawberries']\n"
     ]
    }
   ],
   "source": [
    "print(fruits)\n"
   ]
  },
  {
   "attachments": {},
   "cell_type": "markdown",
   "id": "3f0bbd84",
   "metadata": {},
   "source": [
    "### Exercise 1 solution"
   ]
  },
  {
   "cell_type": "markdown",
   "id": "811b34f7-b57c-436a-bf1b-6976ee681bba",
   "metadata": {},
   "source": [
    "When the for loop looks at the list, apple, banana and jackfruit does not trigger the if code block since they do not start with p. \n",
    "\n",
    "But when it moves into pineapple, pineapple is removed since it starts with p. \n",
    "\n",
    "At that moment, index 3 is removed from the list, which is pineapple. index 4, papaya, will move forwards and become the new index 3.\n",
    "\n",
    "The issue arises as the for loop will now move on from index 3 to index 4 AFTER this shifting has occurred. Index 5 has become the new index 4, which is why papaya has been ignored as the code moves to check watermelons.\n",
    "\n",
    "To solve this, we can copy the elements we want to keep into another list."
   ]
  },
  {
   "cell_type": "code",
   "execution_count": 5,
   "id": "e0f0b325-5ec1-4aef-8301-a2e51c71a462",
   "metadata": {},
   "outputs": [
    {
     "name": "stdout",
     "output_type": "stream",
     "text": [
      "['apple', 'banana', 'jackfruit', 'watermelons', 'durian', 'mangoes', 'strawberries']\n"
     ]
    }
   ],
   "source": [
    "fruits = [\"apple\", \"banana\", \"jackfruit\",\n",
    "          \"pineapple\", \"papaya\", \"watermelons\",\n",
    "          \"peaches\", \"durian\",  \"mangoes\",\n",
    "          \"strawberries\", \"passionfruit\"\n",
    "          ]\n",
    "\n",
    "# Create a new list to store fruits that don't start with 'p'\n",
    "new_fruits = []\n",
    "for fruit in fruits:\n",
    "    if fruit[0] != \"p\":\n",
    "        new_fruits.append(fruit)\n",
    "\n",
    "# Update the original fruits list with the filtered list\n",
    "fruits = new_fruits\n",
    "\n",
    "print(fruits)\n"
   ]
  },
  {
   "cell_type": "code",
   "execution_count": 13,
   "id": "dd6863c8-6905-4084-8d16-f9c3fdcd345b",
   "metadata": {},
   "outputs": [
    {
     "name": "stdout",
     "output_type": "stream",
     "text": [
      "['apple', 'banana', 'jackfruit', 'watermelons', 'durian', 'mangoes', 'strawberries']\n"
     ]
    }
   ],
   "source": [
    "#Provided Solution\n",
    "fruits = [\"apple\", \"banana\", \"jackfruit\",\n",
    "          \"pineapple\", \"papaya\", \"watermelons\",\n",
    "          \"peaches\", \"durian\",  \"mangoes\",\n",
    "          \"strawberries\", \"passionfruit\"\n",
    "          ]\n",
    "\n",
    "copy_of_fruits = fruits.copy()\n",
    "\n",
    "# Not that we are looping(iterating) over the copy\n",
    "for fruit in copy_of_fruits:\n",
    "    if fruit[0] == \"p\":\n",
    "        fruits.remove(fruit)\n",
    "\n",
    "print(fruits)"
   ]
  },
  {
   "cell_type": "code",
   "execution_count": 14,
   "id": "7ce6a021-07bb-402d-82e1-9bac923f1580",
   "metadata": {},
   "outputs": [
    {
     "data": {
      "text/plain": [
       "['apple',\n",
       " 'banana',\n",
       " 'jackfruit',\n",
       " 'watermelons',\n",
       " 'durian',\n",
       " 'mangoes',\n",
       " 'strawberries']"
      ]
     },
     "execution_count": 14,
     "metadata": {},
     "output_type": "execute_result"
    }
   ],
   "source": [
    "#Provided solution but cleaner\n",
    "\n",
    "fruits = [\"apple\", \"banana\", \"jackfruit\",\n",
    "          \"pineapple\", \"papaya\", \"watermelons\",\n",
    "          \"peaches\", \"durian\",  \"mangoes\",\n",
    "          \"strawberries\", \"passionfruit\"\n",
    "          ]\n",
    "\n",
    "[fruit for fruit in fruits if fruit[0] != \"p\"]\n"
   ]
  },
  {
   "cell_type": "markdown",
   "id": "b36a75bd-8d27-4f2e-99d3-b355d12c9428",
   "metadata": {},
   "source": [
    "### Exercise 2"
   ]
  },
  {
   "cell_type": "code",
   "execution_count": 37,
   "id": "6a2d287f-5004-4634-99f8-01938d5fb834",
   "metadata": {},
   "outputs": [
    {
     "name": "stdout",
     "output_type": "stream",
     "text": [
      "1335413610432\n",
      "1335413610432\n",
      "[[], [], []]\n",
      "[[1], [1], [1]]\n",
      "[[1, 1], [1, 1], [1, 1]]\n",
      "[[1, 1, 1], [1, 1, 1], [1, 1, 1]]\n",
      "[[1, 1, 1], [1, 1, 1], [1, 1, 1]]\n",
      "[[1, 1, 1, 2], [1, 1, 1, 2], [1, 1, 1, 2]]\n",
      "[[1, 1, 1, 2, 4], [1, 1, 1, 2, 4], [1, 1, 1, 2, 4]]\n",
      "[[1, 1, 1, 2, 4, 8], [1, 1, 1, 2, 4, 8], [1, 1, 1, 2, 4, 8]]\n",
      "[[1, 1, 1, 2, 4, 8], [1, 1, 1, 2, 4, 8], [1, 1, 1, 2, 4, 8]]\n",
      "[[1, 1, 1, 2, 4, 8, 3], [1, 1, 1, 2, 4, 8, 3], [1, 1, 1, 2, 4, 8, 3]]\n",
      "[[1, 1, 1, 2, 4, 8, 3, 9], [1, 1, 1, 2, 4, 8, 3, 9], [1, 1, 1, 2, 4, 8, 3, 9]]\n",
      "[[1, 1, 1, 2, 4, 8, 3, 9, 27], [1, 1, 1, 2, 4, 8, 3, 9, 27], [1, 1, 1, 2, 4, 8, 3, 9, 27]]\n",
      "[[1, 1, 1, 2, 4, 8, 3, 9, 27], [1, 1, 1, 2, 4, 8, 3, 9, 27], [1, 1, 1, 2, 4, 8, 3, 9, 27]]\n"
     ]
    }
   ],
   "source": [
    "#The following code is an attempt to create a list [n, n^2, n^3] for several values of n. We can specify the maximum value of by changing maximum_n.\n",
    "\n",
    "maximum_n = 3\n",
    "result = [[]] * maximum_n\n",
    "print(id(result[0]))\n",
    "print(id(result[1]))\n",
    "for n in range(1, maximum_n + 1):\n",
    "    print(result)\n",
    "    result[n - 1].append(n)\n",
    "    print(result)\n",
    "    result[n - 1].append(n**2)\n",
    "    print(result)\n",
    "    result[n - 1].append(n**3)\n",
    "    print(result)\n",
    "\n",
    "print(result)\n",
    "#For maximum_n = 5 the content of result should be as shown below.\n",
    "#[[1, 1, 1],\n",
    "# [2, 4, 8],\n",
    "# [3, 9, 27],\n",
    "# [4, 16, 64],\n",
    "# [5, 25, 125]]\n",
    "\n",
    "#Identify, understand, explain and fix the bug."
   ]
  },
  {
   "cell_type": "markdown",
   "id": "7e6b0f69-e1be-404c-b895-c322cc05065c",
   "metadata": {},
   "source": [
    "### Exercise 2 Solution"
   ]
  },
  {
   "cell_type": "markdown",
   "id": "5db7416f-c7da-46c3-baf6-77d4aa4555f3",
   "metadata": {},
   "source": [
    "As shown by the print statements showing the id, the numbers are the same. \n",
    "\n",
    "Within the line of code result = [[]] * maximum_n creates multiple [] that have same id.\n",
    "\n",
    "The interpreter is confused about which list to refer to when appending later on. \n",
    "\n",
    "This results in the interpretr appended the values obtained in the for loop into the larger list and the individual element lists.\n",
    "\n",
    "List are mutable, using immutable objects would prevent the interpreter from confusing which to append to since you cannot append to immutables."
   ]
  },
  {
   "cell_type": "code",
   "execution_count": 46,
   "id": "4738fbf1-e99f-4ecf-b9eb-51fa2c90e236",
   "metadata": {},
   "outputs": [
    {
     "name": "stdout",
     "output_type": "stream",
     "text": [
      "[[1, 1, 1], [2, 4, 8], [3, 9, 27], [4, 16, 64], [5, 25, 125]]\n"
     ]
    }
   ],
   "source": [
    "#Can use list comprehension, so don't need to use lists within lists, since the code in run inside the larger list.\n",
    "\n",
    "maximum_n = 5\n",
    "result = [[n, n**2, n**3] for n in range(1, maximum_n + 1)]\n",
    "print(result)"
   ]
  },
  {
   "cell_type": "code",
   "execution_count": 41,
   "id": "b28080d9-1c03-448d-a3de-ec9788fe1005",
   "metadata": {},
   "outputs": [
    {
     "name": "stdout",
     "output_type": "stream",
     "text": [
      "[[1, 1, 1], [2, 4, 8], [3, 9, 27], [4, 16, 64], [5, 25, 125]]\n"
     ]
    }
   ],
   "source": [
    "#brute force\n",
    "\n",
    "maximum_n = 5\n",
    "result = [[], [], [], [], []]\n",
    "\n",
    "for n in range(1, maximum_n + 1):\n",
    "    result[n - 1].append(n)\n",
    "    result[n - 1].append(n**2)\n",
    "    result[n - 1].append(n**3)\n",
    "\n",
    "print(result)"
   ]
  },
  {
   "cell_type": "code",
   "execution_count": 50,
   "id": "e138358c-f9f9-464e-b9dc-48ae77d1360e",
   "metadata": {},
   "outputs": [
    {
     "name": "stdout",
     "output_type": "stream",
     "text": [
      "0 1335413610624\n",
      "1 1335413610624\n",
      "2 1335413610624\n",
      "3 1335413610624\n",
      "4 1335413610624\n"
     ]
    }
   ],
   "source": [
    "#Provided Solution\n",
    "\n",
    "#The problem arises because [[]] * 5 creates 5 references to the same empty list []. \n",
    "#Running a list comprehension will create 5 different empty lists [].\n",
    "\n",
    "#Let’s check if what I have said is true.\n",
    "maximum_n = 5\n",
    "\n",
    "result = [[]] * maximum_n\n",
    "\n",
    "for count, element in enumerate(result):\n",
    "    print(count, id(element))\n",
    "maximum_n = 5\n",
    "\n",
    "result = [[] for _ in range(maximum_n)]"
   ]
  },
  {
   "cell_type": "code",
   "execution_count": 49,
   "id": "7062158a-c9fe-40e1-813a-ed84398db480",
   "metadata": {},
   "outputs": [
    {
     "name": "stdout",
     "output_type": "stream",
     "text": [
      "0 1335403139840\n",
      "1 1335404812928\n",
      "2 1335413632704\n",
      "3 1335403147584\n",
      "4 1335413591168\n"
     ]
    }
   ],
   "source": [
    "for count, element in enumerate(result):\n",
    "    print(count, id(element))"
   ]
  },
  {
   "cell_type": "code",
   "execution_count": 52,
   "id": "90b435e3-1371-4d3b-8df6-9b3f9652f6fb",
   "metadata": {},
   "outputs": [
    {
     "name": "stdout",
     "output_type": "stream",
     "text": [
      "[[1, 1, 1], [2, 4, 8], [3, 9, 27], [4, 16, 64], [5, 25, 125]]\n"
     ]
    }
   ],
   "source": [
    "maximum_n = 5\n",
    "# result = [[]] * maximum_n\n",
    "result = [[] for _ in range(maximum_n)]\n",
    "\n",
    "for n in range(1, maximum_n + 1):\n",
    "    result[n - 1].append(n)\n",
    "    result[n - 1].append(n**2)\n",
    "    result[n - 1].append(n**3)\n",
    "print(result)"
   ]
  },
  {
   "cell_type": "markdown",
   "id": "2f7838d3-758d-41f2-9428-d4c61556d6fa",
   "metadata": {},
   "source": [
    "### Exercise 3"
   ]
  },
  {
   "cell_type": "markdown",
   "id": "1fc10c5d-ae3b-4315-89e1-eb094cc80a13",
   "metadata": {},
   "source": [
    "Use %%timeit to compare the execution speeds of the following:\n",
    "\n",
    "| Option| Option 1            | Option 2       | Option 1 Result  |Option 2 Results|\n",
    "|-------|---------------------|----------------|------------------|----------------|\n",
    "| 1 | Creating a list of squares with for loop| Creating a list of squares with while loop|161 µs ± 3.61 µs per loop | 193 µs ± 4.17 µs per loop|\n",
    "| 2 | Creating a list of squares with a for loop.| Creating a list of squares with a list comprehension loop. |161 µs ± 3.61 µs per loop|136 µs ± 4.34 µs per loop|\n",
    "| 3 | Creating a list of squares using list append()| Creating a list of squares using list +=|160 µs ± 1.76 µs per loop|247 µs ± 8.9 µs per loop|\n",
    "| 4 | Creating a list of squares using list append()| Creating a list of squares using append() of Numpy|160 µs ± 1.76 µs per loop|5.2 ms ± 224 µs per loop |\n",
    "| 5 | Creating a list of squares using Numpy| Creating a list of squares using List comprehension loop.|4.98 µs ± 246 ns per loop|136 µs ± 4.34 µs per loop|\n"
   ]
  },
  {
   "cell_type": "code",
   "execution_count": 4,
   "id": "e40ebca9-0785-48b3-8574-2100c1676379",
   "metadata": {},
   "outputs": [
    {
     "name": "stdout",
     "output_type": "stream",
     "text": [
      "161 µs ± 3.61 µs per loop (mean ± std. dev. of 7 runs, 10,000 loops each)\n"
     ]
    }
   ],
   "source": [
    "%%timeit\n",
    "\n",
    "# Creating a list of squares with for loop\n",
    "squares_for_loop = []\n",
    "for x in range(1000):\n",
    "    squares_for_loop.append(x ** 2)"
   ]
  },
  {
   "cell_type": "code",
   "execution_count": 3,
   "id": "37ea6159-c04d-423c-b71f-79c69a097569",
   "metadata": {},
   "outputs": [
    {
     "name": "stdout",
     "output_type": "stream",
     "text": [
      "193 µs ± 4.17 µs per loop (mean ± std. dev. of 7 runs, 10,000 loops each)\n"
     ]
    }
   ],
   "source": [
    "%%timeit\n",
    "\n",
    "# Creating a list of squares with while loop\n",
    "squares_while_loop = []\n",
    "y = 0\n",
    "while y < 1000:\n",
    "    squares_while_loop.append(y ** 2)\n",
    "    y += 1"
   ]
  },
  {
   "cell_type": "code",
   "execution_count": 15,
   "id": "01ce5c86-315d-4186-ac2a-47c0e5398ff8",
   "metadata": {},
   "outputs": [
    {
     "name": "stdout",
     "output_type": "stream",
     "text": [
      "136 µs ± 4.34 µs per loop (mean ± std. dev. of 7 runs, 10,000 loops each)\n"
     ]
    }
   ],
   "source": [
    "%%timeit\n",
    "\n",
    "# Creating a list of squares with a list comprehension loop\n",
    "squares_list_comprehension = [i ** 2 for i in range(1000)]"
   ]
  },
  {
   "cell_type": "code",
   "execution_count": 16,
   "id": "de12ec50-093b-47a8-a729-14b3f4548ccf",
   "metadata": {},
   "outputs": [
    {
     "name": "stdout",
     "output_type": "stream",
     "text": [
      "160 µs ± 1.76 µs per loop (mean ± std. dev. of 7 runs, 10,000 loops each)\n"
     ]
    }
   ],
   "source": [
    "%%timeit\n",
    "\n",
    "# Creating a list of squares using list append()\n",
    "squares_append = []\n",
    "for j in range(1000):\n",
    "    squares_append.append(j ** 2)"
   ]
  },
  {
   "cell_type": "code",
   "execution_count": 17,
   "id": "4ccb88e9-ebef-4689-ae7e-0d7656885b35",
   "metadata": {},
   "outputs": [
    {
     "name": "stdout",
     "output_type": "stream",
     "text": [
      "247 µs ± 8.9 µs per loop (mean ± std. dev. of 7 runs, 1,000 loops each)\n"
     ]
    }
   ],
   "source": [
    "%%timeit\n",
    "\n",
    "# Creating a list of squares using list +=\n",
    "squares_conc = []\n",
    "for e in range(1000):\n",
    "    squares_conc += [e ** 2]"
   ]
  },
  {
   "cell_type": "code",
   "execution_count": 20,
   "id": "7122f29d-6124-436d-87fa-7982e6e5aca0",
   "metadata": {},
   "outputs": [
    {
     "name": "stdout",
     "output_type": "stream",
     "text": [
      "5.2 ms ± 224 µs per loop (mean ± std. dev. of 7 runs, 100 loops each)\n"
     ]
    }
   ],
   "source": [
    "%%timeit\n",
    "\n",
    "import numpy as np\n",
    "\n",
    "# Creating a list of squares using append() of NumPy\n",
    "squares_numpy = np.array([])\n",
    "for f in range(1000):\n",
    "    squares_numpy_append = np.append(squares_numpy, f ** 2)"
   ]
  },
  {
   "cell_type": "code",
   "execution_count": 21,
   "id": "2b802e35-8586-4b94-8c45-5702d2ce674a",
   "metadata": {},
   "outputs": [
    {
     "name": "stdout",
     "output_type": "stream",
     "text": [
      "4.98 µs ± 246 ns per loop (mean ± std. dev. of 7 runs, 100,000 loops each)\n"
     ]
    }
   ],
   "source": [
    "%%timeit\n",
    "\n",
    "import numpy as np\n",
    "\n",
    "# Creating a list of squares using NumPy\n",
    "sq_numpy = np.arange(1000) ** 2"
   ]
  }
 ],
 "metadata": {
  "kernelspec": {
   "display_name": "Python 3 (ipykernel)",
   "language": "python",
   "name": "python3"
  },
  "language_info": {
   "codemirror_mode": {
    "name": "ipython",
    "version": 3
   },
   "file_extension": ".py",
   "mimetype": "text/x-python",
   "name": "python",
   "nbconvert_exporter": "python",
   "pygments_lexer": "ipython3",
   "version": "3.11.5"
  },
  "toc": {
   "base_numbering": 1,
   "nav_menu": {},
   "number_sections": true,
   "sideBar": true,
   "skip_h1_title": false,
   "title_cell": "Table of Contents",
   "title_sidebar": "Contents",
   "toc_cell": false,
   "toc_position": {},
   "toc_section_display": true,
   "toc_window_display": false
  },
  "vscode": {
   "interpreter": {
    "hash": "31f2aee4e71d21fbe5cf8b01ff0e069b9275f58929596ceb00d14d90e3e16cd6"
   }
  }
 },
 "nbformat": 4,
 "nbformat_minor": 5
}
