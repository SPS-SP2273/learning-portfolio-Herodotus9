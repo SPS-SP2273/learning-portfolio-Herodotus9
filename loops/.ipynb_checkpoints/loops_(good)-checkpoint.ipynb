{
 "cells": [
  {
   "attachments": {},
   "cell_type": "markdown",
   "id": "123456",
   "metadata": {},
   "source": [
    "<div style=\"text-align:left;font-size:2em\"><span style=\"font-weight:bolder;font-size:1.25em\">SP2273 | Learning Portfolio</span><br><br><span style=\"font-weight:bold;color:darkred\">Loops (Good)</span></div>"
   ]
  },
  {
   "attachments": {},
   "cell_type": "markdown",
   "id": "1969a115",
   "metadata": {},
   "source": [
    "# What to expect in this chapter"
   ]
  },
  {
   "cell_type": "markdown",
   "id": "10ea46a0-5172-4735-85a1-10676b92de00",
   "metadata": {},
   "source": [
    "In this chapter, I will show you how to exercise more control over what happens in loops by using the continue and break statements. \n",
    "\n",
    "I will also introduce you to list comprehension, a super-optimised variant of the for a loop. You can use this to create list from other lists."
   ]
  },
  {
   "attachments": {},
   "cell_type": "markdown",
   "id": "48ec9276",
   "metadata": {},
   "source": [
    "# 1 Interrupting the flow"
   ]
  },
  {
   "cell_type": "code",
   "execution_count": 1,
   "id": "62a949fd-4c7d-465b-9886-42b891533758",
   "metadata": {},
   "outputs": [
    {
     "name": "stdout",
     "output_type": "stream",
     "text": [
      "0 1\n",
      "1 10\n",
      "2 100\n",
      "3 1000\n"
     ]
    }
   ],
   "source": [
    "#There are many instances when you want to change the flow of a loop from within. The two commands, break and continue, allow us to do just that.\n",
    "#The commands are pretty self-explanatory\n",
    "\n",
    "for power in range(5):\n",
    "    number = 10**power\n",
    "    if number > 5000:\n",
    "        break\n",
    "    print(power, number)"
   ]
  },
  {
   "cell_type": "markdown",
   "id": "0fb57a0c-c4ef-4867-9281-290b56bd7249",
   "metadata": {},
   "source": [
    "We use break to break-out of the loop and terminate it.\n",
    "\n",
    "We typically use it with if so that we break out if a certain condition is met.\n",
    "\n",
    "This will also work with a while loop."
   ]
  },
  {
   "cell_type": "code",
   "execution_count": 2,
   "id": "3d168d71-61c7-4672-b8bf-9d5b30fd9883",
   "metadata": {},
   "outputs": [
    {
     "name": "stdout",
     "output_type": "stream",
     "text": [
      "0 1\n",
      "1 10\n",
      "2 100\n",
      "4 10000\n"
     ]
    }
   ],
   "source": [
    "for power in range(5):\n",
    "    if power == 3:\n",
    "        continue        # Don't proceed further\n",
    "                        # IN THE CURRENT LOOP\n",
    "                        # if i == 3\n",
    "    number = 10**power\n",
    "    print(power, number)\n",
    "\n",
    "#Sometimes we want to skip an iteration and just move on to the next. continue allows us to do this by skipping everything after it.\n",
    "#Notice how there is no printout for power = 3.\n",
    "#continue is also typically used with if.\n",
    "#This will also work with a while loop."
   ]
  },
  {
   "cell_type": "code",
   "execution_count": 3,
   "id": "5b5e75dd-48b9-4305-9709-48aed43639de",
   "metadata": {},
   "outputs": [
    {
     "name": "stdout",
     "output_type": "stream",
     "text": [
      "1\n",
      "3\n",
      "5\n",
      "7\n",
      "9\n"
     ]
    }
   ],
   "source": [
    "for number in range(10):\n",
    "    # Don't proceed if the remainder is zero\n",
    "    # I.e. if the number is even\n",
    "    if number % 2 == 0:\n",
    "        continue\n",
    "    print(number)\n",
    "\n",
    "#the list will only give odd numbers"
   ]
  },
  {
   "cell_type": "code",
   "execution_count": 8,
   "id": "58f3c579-536c-44f2-b29c-fd9816b944ea",
   "metadata": {},
   "outputs": [
    {
     "name": "stdout",
     "output_type": "stream",
     "text": [
      "0\n",
      "2\n",
      "4\n",
      "6\n",
      "8\n"
     ]
    }
   ],
   "source": [
    "for number in range(10):\n",
    "    if number % 2 != 0:\n",
    "        continue\n",
    "    print(number)\n",
    "\n",
    "#list only gives even numbers"
   ]
  },
  {
   "cell_type": "code",
   "execution_count": 4,
   "id": "a0b49fbe-8039-49d7-a4bb-8813a57bc827",
   "metadata": {},
   "outputs": [
    {
     "name": "stdout",
     "output_type": "stream",
     "text": [
      "0\n",
      "1\n",
      "2\n",
      "3\n",
      "4\n"
     ]
    }
   ],
   "source": [
    "#Let me redo the while example from the past chapter using break.\n",
    "#Notice that I setup the loop to run forever1 and use break to stop it.\n",
    "\n",
    "number=0\n",
    "\n",
    "while True:\n",
    "    print(number)\n",
    "    number += 1\n",
    "    if number > 4: break"
   ]
  },
  {
   "cell_type": "markdown",
   "id": "c3ebcd19-8001-4b62-92c8-ff8110c8a8bc",
   "metadata": {},
   "source": [
    "Remember you can use break and continue (with impunity) to interrupt the flow of loops."
   ]
  },
  {
   "attachments": {},
   "cell_type": "markdown",
   "id": "6a8c719e",
   "metadata": {},
   "source": [
    "# 2 List comprehension!"
   ]
  },
  {
   "cell_type": "markdown",
   "id": "f4032719-0a04-413b-bca4-c271f383cc90",
   "metadata": {},
   "source": [
    "The exercises of the previous chapter had you using loops to create lists. \n",
    "\n",
    "However, creating new lists from other lists is so common that Python has an optimised syntax called list comprehension to do just that. Here is how it works."
   ]
  },
  {
   "attachments": {},
   "cell_type": "markdown",
   "id": "265791aa",
   "metadata": {},
   "source": [
    "## 2.1 Basic syntax"
   ]
  },
  {
   "cell_type": "code",
   "execution_count": 9,
   "id": "bd7dd336-0ee8-4752-a73c-6a154ddf16a9",
   "metadata": {},
   "outputs": [
    {
     "data": {
      "text/plain": [
       "[0, 1, 2, 3, 4]"
      ]
     },
     "execution_count": 9,
     "metadata": {},
     "output_type": "execute_result"
    }
   ],
   "source": [
    "[number for number in range(5)]\n",
    "\n",
    "#The adjoining creates a simple list with numbers from 0 to 4.\n",
    "#The syntax is very similar to that of a for loop. \n",
    "#You just need to put the thing you want as an output at the front."
   ]
  },
  {
   "cell_type": "code",
   "execution_count": 10,
   "id": "3cfffcca-5fbc-4a35-8442-528e811f6805",
   "metadata": {},
   "outputs": [
    {
     "data": {
      "text/plain": [
       "[0, 1, 4, 9, 16]"
      ]
     },
     "execution_count": 10,
     "metadata": {},
     "output_type": "execute_result"
    }
   ],
   "source": [
    "#If you want to create a list of squares, we just have to:\n",
    "\n",
    "[number**2 for number in range(5)]"
   ]
  },
  {
   "attachments": {},
   "cell_type": "markdown",
   "id": "27fde227",
   "metadata": {},
   "source": [
    "## 2.2 List comprehension with conditions"
   ]
  },
  {
   "cell_type": "code",
   "execution_count": 11,
   "id": "05f56d37-2f9f-4ed6-9091-a30227d7e0a6",
   "metadata": {},
   "outputs": [
    {
     "data": {
      "text/plain": [
       "[0, 2, 4, 6, 8]"
      ]
     },
     "execution_count": 11,
     "metadata": {},
     "output_type": "execute_result"
    }
   ],
   "source": [
    "#List comprehension has several useful features. One such allows us to specify a condition. Here is an example:\n",
    "\n",
    "[number for number in range(10) if number % 2 ==0]"
   ]
  },
  {
   "attachments": {},
   "cell_type": "markdown",
   "id": "c87ae080",
   "metadata": {},
   "source": [
    "# 3 Other useful stuff"
   ]
  },
  {
   "attachments": {},
   "cell_type": "markdown",
   "id": "90637c70",
   "metadata": {},
   "source": [
    "## 3.1 for with unpacking"
   ]
  },
  {
   "cell_type": "code",
   "execution_count": 12,
   "id": "80419fa5-395c-4811-8b9d-c1b56c70901f",
   "metadata": {},
   "outputs": [
    {
     "name": "stdout",
     "output_type": "stream",
     "text": [
      "x = 1, y = 2, z = 3\n"
     ]
    }
   ],
   "source": [
    "#Python allows a neat trick called unpacking, which works like this:\n",
    "\n",
    "x, y, z=[1, 2, 3]\n",
    "print(f'x = {x}, y = {y}, z = {z}')"
   ]
  },
  {
   "cell_type": "code",
   "execution_count": 13,
   "id": "276d06ed-3bc9-4123-8538-7761098661d2",
   "metadata": {},
   "outputs": [
    {
     "name": "stdout",
     "output_type": "stream",
     "text": [
      "Natasha Romanoff is Marvel's Black Widow!\n",
      "Tony Stark is Marvel's Iron Man!\n",
      "Stephen Strange is Marvel's Doctor Strange!\n"
     ]
    }
   ],
   "source": [
    "#Unpacking can be put to good use (for example) when we are dealing with 2D list. \n",
    "#We can combine unpacking with a for loop to extract elements as follows:\n",
    "\n",
    "py_superhero_info = [['Natasha Romanoff', 'Black Widow'],\n",
    "                     ['Tony Stark', 'Iron Man'],\n",
    "                     ['Stephen Strange', 'Doctor Strange']]\n",
    "\n",
    "for real_name, super_name in py_superhero_info:\n",
    "    print(f\"{real_name} is Marvel's {super_name}!\")"
   ]
  },
  {
   "attachments": {},
   "cell_type": "markdown",
   "id": "ea0cf858",
   "metadata": {},
   "source": [
    "## 3.2 for with zip()"
   ]
  },
  {
   "cell_type": "code",
   "execution_count": 16,
   "id": "c1f71312-524b-4c8a-81a8-af57d8ed9678",
   "metadata": {},
   "outputs": [
    {
     "name": "stdout",
     "output_type": "stream",
     "text": [
      "Natasha Romanoff is Marvel's Black Widow!\n",
      "Tony Stark is Marvel's Iron Man!\n",
      "Stephen Strange is Marvel's Doctor Strange!\n"
     ]
    }
   ],
   "source": [
    "#Let’s revisit the example from the previous chapter that had two lists of real and superhero names that we used to print. \n",
    "#There is yet another way to solve this task using a function called zip(). \n",
    "#zip() is a neat function that can do some cool things. For the moment let me show you how to use zip() to combine two lists.\n",
    "\n",
    "super_names = [\"Black Widow\", \"Iron Man\", \"Doctor Strange\"]\n",
    "real_names = [\"Natasha Romanoff\", \"Tony Stark\", \"Stephen Strange\"]\n",
    "\n",
    "for real_name, super_name in zip(real_names,super_names):\n",
    "    print(f\"{real_name} is Marvel's {super_name}!\")\n",
    "\n",
    "# the zip() function is used to combine the two lists list1 and list2 into a single sequence of tuples zipped. \n",
    "    #The resulting tuples contain one element from list1 and one element from list2, paired together.\n",
    "\n",
    "#Note that the zip() function returns a zip object, which is an iterator. \n",
    "#This means that you cannot access its elements directly, \n",
    "#but you must iterate over it using a for loop or convert it to a list or other sequence using the list() function,"
   ]
  },
  {
   "attachments": {},
   "cell_type": "markdown",
   "id": "6c8e4f64",
   "metadata": {},
   "source": [
    "## 3.3 for with dictionaries"
   ]
  },
  {
   "cell_type": "code",
   "execution_count": 12,
   "id": "459863b0-fe88-4898-ae5f-2f68cd9224f0",
   "metadata": {},
   "outputs": [
    {
     "name": "stdout",
     "output_type": "stream",
     "text": [
      "Natasha Romanoff is Marvel's Black Widow!\n",
      "Tony Stark is Marvel's Iron Man!\n",
      "Stephen Strange is Marvel's Doctor Strange!\n"
     ]
    }
   ],
   "source": [
    "#You will invariably need to loop through dictionaries in your programming career. Here is how you can do it with a for loop.\n",
    "\n",
    "superhero_info={\"Natasha Romanoff\": \"Black Widow\",\n",
    "                \"Tony Stark\": \"Iron Man\",\n",
    "                \"Stephen Strange\": \"Doctor Strange\"}\n",
    "\n",
    "for key, value in superhero_info.items():\n",
    "    print(f\"{key} is Marvel's {value}!\")"
   ]
  },
  {
   "cell_type": "markdown",
   "id": "653b31c9-71f6-465b-8b97-2edc0732db42",
   "metadata": {},
   "source": [
    "The ‘hidden’ function items() spits out both the key and the corresponding value.\n",
    "\n",
    "If you like, you can directly access the keys as follows:"
   ]
  },
  {
   "cell_type": "code",
   "execution_count": 18,
   "id": "38e35eb7-a498-4db2-97d8-3afbd9de3561",
   "metadata": {},
   "outputs": [
    {
     "name": "stdout",
     "output_type": "stream",
     "text": [
      "Natasha Romanoff is Marvel's Black Widow!\n",
      "Tony Stark is Marvel's Iron Man!\n",
      "Stephen Strange is Marvel's Doctor Strange!\n"
     ]
    }
   ],
   "source": [
    "superhero_info={\"Natasha Romanoff\": \"Black Widow\",\n",
    "                \"Tony Stark\": \"Iron Man\",\n",
    "                \"Stephen Strange\": \"Doctor Strange\"}\n",
    "\n",
    "for key in superhero_info.keys():\n",
    "    value=superhero_info[key]\n",
    "    print(f\"{key} is Marvel's {value}!\")\n",
    "\n",
    "#By the way, I have used the variable names key and value to highlight their roles in the dictionary. \n",
    "#You can use whatever you like. In fact, using real_name and super_name is preferred."
   ]
  },
  {
   "attachments": {},
   "cell_type": "markdown",
   "id": "dd15c27d",
   "metadata": {},
   "source": [
    "## Footnotes"
   ]
  }
 ],
 "metadata": {
  "kernelspec": {
   "display_name": "Python 3 (ipykernel)",
   "language": "python",
   "name": "python3"
  },
  "language_info": {
   "codemirror_mode": {
    "name": "ipython",
    "version": 3
   },
   "file_extension": ".py",
   "mimetype": "text/x-python",
   "name": "python",
   "nbconvert_exporter": "python",
   "pygments_lexer": "ipython3",
   "version": "3.11.5"
  },
  "toc": {
   "base_numbering": 1,
   "nav_menu": {},
   "number_sections": true,
   "sideBar": true,
   "skip_h1_title": false,
   "title_cell": "Table of Contents",
   "title_sidebar": "Contents",
   "toc_cell": false,
   "toc_position": {},
   "toc_section_display": true,
   "toc_window_display": false
  },
  "vscode": {
   "interpreter": {
    "hash": "31f2aee4e71d21fbe5cf8b01ff0e069b9275f58929596ceb00d14d90e3e16cd6"
   }
  }
 },
 "nbformat": 4,
 "nbformat_minor": 5
}
