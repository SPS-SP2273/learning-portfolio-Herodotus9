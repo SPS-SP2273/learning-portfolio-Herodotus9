{
 "cells": [
  {
   "attachments": {},
   "cell_type": "markdown",
   "id": "123456",
   "metadata": {},
   "source": [
    "<div style=\"text-align:left;font-size:2em\"><span style=\"font-weight:bolder;font-size:1.25em\">SP2273 | Learning Portfolio</span><br><br><span style=\"font-weight:bold;color:darkred\">Loops (Need)</span></div>"
   ]
  },
  {
   "attachments": {},
   "cell_type": "markdown",
   "id": "c278d2ea",
   "metadata": {},
   "source": [
    "# What to expect in this chapter"
   ]
  },
  {
   "cell_type": "markdown",
   "id": "361261b5-ad7b-4548-9776-eb419ebd0b69",
   "metadata": {},
   "source": [
    "One of the most powerful features of programming is the ability to repeat a task over and over again. This can be as mundane as renaming a set of files or more involved, like running the same statistical analysis on many experimental data sets. While humans quickly become tired (and bored) with such tasks, computers excel at mindless repetitive tasks. This section will show you how to repeat things in Python. This topic is called loops or iterations and is one of the most valuable features of any programming language.\n",
    "\n",
    "Python offers two mechanisms for looping. One is the for statement, and the other is the while statement. We will spend more time on the former as it is the more used of the two."
   ]
  },
  {
   "attachments": {},
   "cell_type": "markdown",
   "id": "c668b83a",
   "metadata": {},
   "source": [
    "# 1 The for iterator"
   ]
  },
  {
   "cell_type": "code",
   "execution_count": 23,
   "id": "5fe70782-c20f-40bb-9af8-b4025da8e85b",
   "metadata": {},
   "outputs": [
    {
     "name": "stdout",
     "output_type": "stream",
     "text": [
      "Natasha Romanoff is a Marvel superhero!\n",
      "Tony Stark is a Marvel superhero!\n",
      "Stephen Strange is a Marvel superhero!\n"
     ]
    }
   ],
   "source": [
    "real_names = [\"Natasha Romanoff\", \"Tony Stark\", \"Stephen Strange\"]\n",
    "\n",
    "name=real_names[0]\n",
    "print(f\"{name} is a Marvel superhero!\")\n",
    "\n",
    "name=real_names[1]\n",
    "print(f\"{name} is a Marvel superhero!\")\n",
    "\n",
    "name=real_names[2]\n",
    "print(f\"{name} is a Marvel superhero!\")\n",
    "\n",
    "#This is a poor method, because:\n",
    "\n",
    "#    it does not scale very well (imagine if you have a 100 names!),\n",
    "#    it is cumbersome to make changes, you have to do it three times.\n",
    "#    it is highly error prone, since you need to type something new (even if you are copying and pasting most of it).\n",
    "\n",
    "#This is where a for loop can come in handy.\n",
    "#In Python, a for loop is used to iterate over a sequence (such as a list, tuple, or string) or other iterable objects (such as files or generators). "
   ]
  },
  {
   "attachments": {},
   "cell_type": "markdown",
   "id": "04138a03",
   "metadata": {},
   "source": [
    "## 1.1 for with a list"
   ]
  },
  {
   "cell_type": "code",
   "execution_count": 21,
   "id": "e699a0e0-ed60-4f3e-bcad-9b05f7c66e9d",
   "metadata": {},
   "outputs": [
    {
     "name": "stdout",
     "output_type": "stream",
     "text": [
      "Natasha Romanoff is a Marvel superhero!\n",
      "Tony Stark is a Marvel superhero!\n",
      "Stephen Strange is a Marvel superhero!\n"
     ]
    }
   ],
   "source": [
    "for name in real_names:\n",
    "    print(f\"{name} is a Marvel superhero!\")\n",
    "\n",
    "#Notice the structure of the for loop;\n",
    "\n",
    "    #it goes through the list and assigns name the value of each element of the list.\n",
    "    #it then runs the code-block using this value of name.\n",
    "    #the code block is deginted by using : and tabs like with if.\n"
   ]
  },
  {
   "cell_type": "markdown",
   "id": "2386d8a1-d424-4104-a992-c7451975e041",
   "metadata": {},
   "source": [
    "Notice the structure of the for loop;\n",
    "\n",
    "1. it goes through the list and assigns name the value of each element of the list.\n",
    "1. it then runs the code-block using this value of name.\n",
    "1. the code block is designated by using : and tabs like with if.\n",
    "2. Remember that for can be used to directly loop through a list."
   ]
  },
  {
   "cell_type": "code",
   "execution_count": 22,
   "id": "30d6b9ac-1926-410a-b0c8-5d75ed12b32c",
   "metadata": {},
   "outputs": [
    {
     "name": "stdout",
     "output_type": "stream",
     "text": [
      "Natasha Romanoff is a Marvel superhero!\n",
      "Tony Stark is a Marvel superhero!\n",
      "Stephen Strange is a Marvel superhero!\n"
     ]
    }
   ],
   "source": [
    "for x in real_names:\n",
    "    print(f\"{x} is a Marvel superhero!\")\n",
    "\n",
    "#By the way, there is nothing special about the names of the variables I have used. \n",
    "    #The above code works too. However, it will not be very readable because x is a bit cryptic in this contex"
   ]
  },
  {
   "attachments": {},
   "cell_type": "markdown",
   "id": "ed5358f7",
   "metadata": {},
   "source": [
    "## 1.2 for with enumerate"
   ]
  },
  {
   "cell_type": "code",
   "execution_count": 26,
   "id": "dba2bce2-61a6-44d3-92ca-f6672b7dd2b0",
   "metadata": {},
   "outputs": [
    {
     "name": "stdout",
     "output_type": "stream",
     "text": [
      "0: Natasha Romanoff is a Marvel superhero!\n",
      "1: Tony Stark is a Marvel superhero!\n",
      "2: Stephen Strange is a Marvel superhero!\n"
     ]
    }
   ],
   "source": [
    "super_names = [\"Black Widow\", \"Iron Man\", \"Doctor Strange\"]\n",
    "real_names = [\"Natasha Romanoff\", \"Tony Stark\", \"Stephen Strange\"]\n",
    "\n",
    "for count, name in enumerate(real_names):\n",
    "    print(f'{count}: {name} is a Marvel superhero!')\n",
    "\n",
    "#Since the for loop only accepts one list, we need to do something else to access the data in both lists. One option is to use enumerate(). \n",
    "#Let me first show you how enumerate() works."
   ]
  },
  {
   "cell_type": "code",
   "execution_count": 32,
   "id": "c947d919-d172-4005-9efa-bfeab947ca11",
   "metadata": {},
   "outputs": [
    {
     "name": "stdout",
     "output_type": "stream",
     "text": [
      "Natasha Romanoff is Black Widow!\n",
      "Tony Stark is Iron Man!\n",
      "Stephen Strange is Doctor Strange!\n"
     ]
    }
   ],
   "source": [
    "#You can think of enumerate() as something that keeps count. \n",
    "#In the above example, enumerate() not only gives the elements of the list, it also gives you a number (that is stored in count).\n",
    "#Its the part that shows 0:, 1:, 2:\n",
    "\n",
    "#Other than counting, we can use the count given by enumerate() to index the other list!\n",
    "super_names = [\"Black Widow\", \"Iron Man\", \"Doctor Strange\"]\n",
    "real_names = [\"Natasha Romanoff\", \"Tony Stark\", \"Stephen Strange\"]\n",
    "\n",
    "for index, name in enumerate(real_names):\n",
    "    superhero_name = super_names[index]\n",
    "    print(f'{name} is {superhero_name}!')"
   ]
  },
  {
   "cell_type": "code",
   "execution_count": 33,
   "id": "6235e4fd-1001-4353-8ca8-8a02467a790c",
   "metadata": {},
   "outputs": [
    {
     "name": "stdout",
     "output_type": "stream",
     "text": [
      "100: Natasha Romanoff is a Marvel superhero!\n",
      "101: Tony Stark is a Marvel superhero!\n",
      "102: Stephen Strange is a Marvel superhero!\n"
     ]
    }
   ],
   "source": [
    "#Before we move on, I would like to highlight some stuff:\n",
    "\n",
    "#Notice how I changed the variable name used with enumerate() to (count and index) to match their logical use. \n",
    "#This makes it easy to immediately see what you are doing (i.e., the intention) with the code. \n",
    "#Python does not really care about this, but remember that we write programmes for humans!\n",
    "#Although by default, enumerate() starts counting from 0, we can easily change it to start at another value, say 100.\n",
    "\n",
    "for count, name in enumerate(real_names, 100):\n",
    "    print(f'{count}: {name} is a Marvel superhero!')\n",
    "\n",
    "#Remember that for can be combined with enumerate() to count while looping through a list."
   ]
  },
  {
   "cell_type": "markdown",
   "id": "ddf5b404-7593-4808-bd09-74255a4a27ec",
   "metadata": {},
   "source": [
    "Remember that for can be combined with enumerate() to count while looping through a list."
   ]
  },
  {
   "attachments": {},
   "cell_type": "markdown",
   "id": "fd7c0b00",
   "metadata": {},
   "source": [
    "## 1.3 for with range"
   ]
  },
  {
   "cell_type": "code",
   "execution_count": 34,
   "id": "07956fa3-4ed4-429c-908d-02ecc4d2a8b7",
   "metadata": {},
   "outputs": [
    {
     "name": "stdout",
     "output_type": "stream",
     "text": [
      "0\n",
      "1\n",
      "2\n",
      "3\n",
      "4\n"
     ]
    }
   ],
   "source": [
    "#Yet, another way to achieve the result above is by using the function range(). But, first lets see what range() can do.\n",
    "\n",
    "for i in range(5):\n",
    "    print(i)"
   ]
  },
  {
   "cell_type": "code",
   "execution_count": 2,
   "id": "ca074387-1f66-4f3d-b9d2-0f1600d94606",
   "metadata": {},
   "outputs": [
    {
     "name": "stdout",
     "output_type": "stream",
     "text": [
      "5\n",
      "4\n",
      "3\n",
      "2\n",
      "1\n"
     ]
    }
   ],
   "source": [
    "#Suppose you want the range function to go in a descending order instead, how can you achieve this?\n",
    "\n",
    "for i in range(5, 0, -1):\n",
    "    print(i)"
   ]
  },
  {
   "cell_type": "code",
   "execution_count": 35,
   "id": "4e215fda-94be-4459-9ec7-7559183cfcae",
   "metadata": {},
   "outputs": [
    {
     "name": "stdout",
     "output_type": "stream",
     "text": [
      "5\n",
      "6\n",
      "7\n",
      "8\n",
      "9\n"
     ]
    }
   ],
   "source": [
    "#We can tailor the starting and ending values…\n",
    "\n",
    "for i in range(5, 10):\n",
    "    print(i)"
   ]
  },
  {
   "cell_type": "code",
   "execution_count": 10,
   "id": "56d7bc41-c81d-4794-a512-d88e913cc15a",
   "metadata": {},
   "outputs": [
    {
     "name": "stdout",
     "output_type": "stream",
     "text": [
      "10\n",
      "9\n",
      "8\n",
      "7\n",
      "6\n"
     ]
    }
   ],
   "source": [
    "#Suppose you want the range function to go in a descending order instead, how can you achieve this?\n",
    "\n",
    "for i in range(10, 5, -1):\n",
    "    print(i)"
   ]
  },
  {
   "cell_type": "code",
   "execution_count": 36,
   "id": "ae82346f-136e-4832-9774-dd07ad9fa3bc",
   "metadata": {},
   "outputs": [
    {
     "name": "stdout",
     "output_type": "stream",
     "text": [
      "1\n",
      "4\n",
      "7\n"
     ]
    }
   ],
   "source": [
    "#We can even adjust the step size.\n",
    "\n",
    "for i in range(1, 10, 3):\n",
    "    print(i)"
   ]
  },
  {
   "cell_type": "code",
   "execution_count": 39,
   "id": "28e4630d-bf88-4f99-835f-7f4f9c3f1de4",
   "metadata": {},
   "outputs": [
    {
     "name": "stdout",
     "output_type": "stream",
     "text": [
      "Natasha Romanoff is Marvel's Black Widow!\n",
      "Tony Stark is Marvel's Iron Man!\n",
      "Stephen Strange is Marvel's Doctor Strange!\n"
     ]
    }
   ],
   "source": [
    "#Note:\n",
    "\n",
    "#    Functions like range() and enumerate() only work with looping structures.\n",
    "#    range() always ends one short of the ending number.\n",
    "\n",
    "#In Python, the len() function returns the length of a sequence or other object that supports length calculation. \n",
    "#The length of an object is the number of items it contains, such as the number of characters in a string, \n",
    "#the number of elements in a list, or the number of keys in a dictionary.\n",
    "for i in range(len(real_names)):\n",
    "    real_name = real_names[i]\n",
    "    super_name = super_names[i]        \n",
    "    print(f\"{real_name} is Marvel's {super_name}!\")\n",
    "\n",
    "#Notice that I have used the len(real_names) to get how many times the loop should run.\n",
    "\n",
    "# Remember\n",
    "#Remember that for can be run a given number of times using range().\n"
   ]
  },
  {
   "cell_type": "markdown",
   "id": "d4b40726-9989-4b88-8887-61893705f1a9",
   "metadata": {},
   "source": [
    "Remember that for can be run a given number of times using range()."
   ]
  },
  {
   "attachments": {},
   "cell_type": "markdown",
   "id": "3e769bd7",
   "metadata": {},
   "source": [
    "# 2 while"
   ]
  },
  {
   "cell_type": "code",
   "execution_count": 41,
   "id": "27bc274e-57d1-4aea-9501-17a5f1e2bd7a",
   "metadata": {},
   "outputs": [
    {
     "name": "stdout",
     "output_type": "stream",
     "text": [
      "0\n",
      "1\n",
      "2\n",
      "3\n",
      "4\n"
     ]
    }
   ],
   "source": [
    "number = 0\n",
    "\n",
    "while number < 5:\n",
    "    print(number)\n",
    "    number += 1\n",
    "\n",
    "#A while loop is set up so that it keeps on running while a condition is True\n",
    "\n",
    "#So the while loop checks the condition at the start and begins another loop if it is True.\n",
    "\n",
    "#A useful feature of the while loop is that you do not need to know beforehand how many iterations are needed."
   ]
  },
  {
   "cell_type": "code",
   "execution_count": 18,
   "id": "58575efb-a1ba-43d2-8868-fefbd3d2ba8b",
   "metadata": {},
   "outputs": [
    {
     "ename": "NameError",
     "evalue": "name 'number' is not defined",
     "output_type": "error",
     "traceback": [
      "\u001b[1;31m---------------------------------------------------------------------------\u001b[0m",
      "\u001b[1;31mNameError\u001b[0m                                 Traceback (most recent call last)",
      "Cell \u001b[1;32mIn[18], line 3\u001b[0m\n\u001b[0;32m      1\u001b[0m \u001b[38;5;66;03m#What happens when you move this line of code to be inside the while loop?\u001b[39;00m\n\u001b[1;32m----> 3\u001b[0m \u001b[38;5;28;01mwhile\u001b[39;00m \u001b[43mnumber\u001b[49m \u001b[38;5;241m<\u001b[39m \u001b[38;5;241m5\u001b[39m:\n\u001b[0;32m      4\u001b[0m     number \u001b[38;5;241m=\u001b[39m \u001b[38;5;241m0\u001b[39m\n\u001b[0;32m      5\u001b[0m     \u001b[38;5;28mprint\u001b[39m(number)\n",
      "\u001b[1;31mNameError\u001b[0m: name 'number' is not defined"
     ]
    }
   ],
   "source": [
    "#What happens when you move this line of code to be inside the while loop?\n",
    "\n",
    "while number < 5:\n",
    "    number = 0\n",
    "    print(number)\n",
    "    number += 1\n",
    "\n",
    "#NameError: name 'number' is not defined\n",
    "#A variable must be assigned a value before it can be used in an expression or statement. \n",
    "#The while loop attempts to compare the variable \"number\" to 5, but since number has not been assigned a value yet, Python raises a NameError.\n",
    "#As such, the line 1 code has to be outside so that the variable 'number' in the while loop has a value to refer to when comparing to 5."
   ]
  }
 ],
 "metadata": {
  "kernelspec": {
   "display_name": "Python 3 (ipykernel)",
   "language": "python",
   "name": "python3"
  },
  "language_info": {
   "codemirror_mode": {
    "name": "ipython",
    "version": 3
   },
   "file_extension": ".py",
   "mimetype": "text/x-python",
   "name": "python",
   "nbconvert_exporter": "python",
   "pygments_lexer": "ipython3",
   "version": "3.11.5"
  },
  "toc": {
   "base_numbering": 1,
   "nav_menu": {},
   "number_sections": true,
   "sideBar": true,
   "skip_h1_title": false,
   "title_cell": "Table of Contents",
   "title_sidebar": "Contents",
   "toc_cell": false,
   "toc_position": {},
   "toc_section_display": true,
   "toc_window_display": false
  },
  "vscode": {
   "interpreter": {
    "hash": "31f2aee4e71d21fbe5cf8b01ff0e069b9275f58929596ceb00d14d90e3e16cd6"
   }
  }
 },
 "nbformat": 4,
 "nbformat_minor": 5
}
