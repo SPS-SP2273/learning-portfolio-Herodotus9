{
 "cells": [
  {
   "attachments": {},
   "cell_type": "markdown",
   "id": "123456",
   "metadata": {},
   "source": [
    "<div style=\"text-align:left;font-size:2em\"><span style=\"font-weight:bolder;font-size:1.25em\">SP2273 | Learning Portfolio</span><br><br><span style=\"font-weight:bold;color:darkred\">Storing Data (Good) Exercises</span></div>"
   ]
  },
  {
   "cell_type": "markdown",
   "id": "b4c5a06d-b9ef-44f2-a379-766efafc3576",
   "metadata": {},
   "source": [
    "Exercise 1 (Total recall) ☻\n",
    "\n",
    "Purely from memory, write short descriptions of the following terms:\n",
    "\n",
    "If you cannot recall the answers, please refer to the notes and put this information you could not recall in italics."
   ]
  },
  {
   "cell_type": "markdown",
   "id": "f2993f28-f657-49ee-8ecf-5fd98d03cb36",
   "metadata": {},
   "source": [
    "|  **Term**   |    **Brief Description** |\n",
    "| :--: | :--- |\n",
    "|  Subsetting  |   It means to choose |\n",
    "|  Indexing  |   It means to only select 1 element |\n",
    "|  Slicing  |   It means to choose a range of values |\n",
    "| Masking|It means to filter out and display only the desired elements|\n",
    "\n",
    "Referred to the notes\n",
    "1. Subsetting means to ‘select’.\n",
    "1. Indexing refers to selecting one element.\n",
    "1. Slicing refers to selecting a range of elements."
   ]
  },
  {
   "cell_type": "markdown",
   "id": "950a4437-dfee-4181-bdc3-9209adfd597e",
   "metadata": {},
   "source": [
    "Exercise 2 (Show me the ‘odd’ letters) ☻"
   ]
  },
  {
   "cell_type": "code",
   "execution_count": 1,
   "id": "73447ee0-939f-407f-a7e7-26a92d748e14",
   "metadata": {},
   "outputs": [
    {
     "data": {
      "text/plain": [
       "['A', 'C', 'E', 'G', 'I']"
      ]
     },
     "execution_count": 1,
     "metadata": {},
     "output_type": "execute_result"
    }
   ],
   "source": [
    "import numpy as np\n",
    "\n",
    "np_array_2d = np.array([[1, \"A\"], [3, \"C\"], [2, \"B\"], [4, \"D\"],\n",
    "                        [5, \"E\"], [7, \"G\"], [6, \"F\"], [8, \"H\"],\n",
    "                        [10, \"J\"], [9, \"I\"]])\n",
    "\n",
    "mask_numb = np_array_2d[:,0]\n",
    "int_mask_num = mask_numb.astype(int)   #ensure values are integers\n",
    "odd_num = int_mask_num % 2 != 0       #identify odd numbers\n",
    "answer_array = np_array_2d[odd_num, 1]     #masking odd numbers\n",
    "ans = list(answer_array)\n",
    "ans"
   ]
  },
  {
   "cell_type": "code",
   "execution_count": 7,
   "id": "77479e35-2a09-4de8-8515-40ecfea40f25",
   "metadata": {},
   "outputs": [
    {
     "data": {
      "text/plain": [
       "['A', 'C', 'E', 'G', 'I']"
      ]
     },
     "execution_count": 7,
     "metadata": {},
     "output_type": "execute_result"
    }
   ],
   "source": [
    "# More efficient code\n",
    "\n",
    "mask_numbers = np_array_2d[:, 0].astype(int)  \n",
    "mask_odd = mask_numbers % 2 != 0\n",
    "ans2 = list(np_array_2d[mask_odd, 1])\n",
    "\n",
    "ans2"
   ]
  }
 ],
 "metadata": {
  "kernelspec": {
   "display_name": "Python 3 (ipykernel)",
   "language": "python",
   "name": "python3"
  },
  "language_info": {
   "codemirror_mode": {
    "name": "ipython",
    "version": 3
   },
   "file_extension": ".py",
   "mimetype": "text/x-python",
   "name": "python",
   "nbconvert_exporter": "python",
   "pygments_lexer": "ipython3",
   "version": "3.11.5"
  },
  "toc": {
   "base_numbering": 1,
   "nav_menu": {},
   "number_sections": true,
   "sideBar": true,
   "skip_h1_title": false,
   "title_cell": "Table of Contents",
   "title_sidebar": "Contents",
   "toc_cell": false,
   "toc_position": {},
   "toc_section_display": true,
   "toc_window_display": false
  },
  "vscode": {
   "interpreter": {
    "hash": "31f2aee4e71d21fbe5cf8b01ff0e069b9275f58929596ceb00d14d90e3e16cd6"
   }
  }
 },
 "nbformat": 4,
 "nbformat_minor": 5
}
