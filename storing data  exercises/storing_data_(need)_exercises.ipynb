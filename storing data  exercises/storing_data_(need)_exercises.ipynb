{
 "cells": [
  {
   "attachments": {},
   "cell_type": "markdown",
   "id": "123456",
   "metadata": {},
   "source": [
    "<div style=\"text-align:left;font-size:2em\"><span style=\"font-weight:bolder;font-size:1.25em\">SP2273 | Learning Portfolio</span><br><br><span style=\"font-weight:bold;color:darkred\">Storing Data (Need) Exercises</span></div>"
   ]
  },
  {
   "cell_type": "markdown",
   "id": "2de770f9-9924-4285-a1fd-d8d426ca787a",
   "metadata": {},
   "source": [
    "Exercise 1 (Total recall?) ☻\n",
    "\n",
    "Purely from memory, jot down:\n",
    "\n",
    "1. Two similarities between lists and arrays.\n",
    "    - len() can be used to find the size of both lists and arrays\n",
    "    - Both use [] to contain elements\n",
    "    - The sum, max and min of both lists and arrays can be found\n",
    "1. Two differences between lists and arrays.\n",
    "    - Arrays are fussy about the type of values contained within while lists are not.\n",
    "    - Lists uses sum(), min() and max() while arrays uses .sum, .min, .max\n",
    "    - Multiplying a list multiplies the number of elements in a list while the individual element values in dicitonaries will be multipled.\n",
    "    - *adding lists causes them to grow while adding arrays is an element-wise operation.*\n",
    "    - *Squaring a list does not work while squaring an array causes the individual elements in the array to have their values be squared*\n",
    "    - *(roughly speaking) an operation on a list works on the whole list. In contrast, an operation on an array works on the individual elements of the array.*\n",
    "1. What is a dictionary?\n",
    "    - It is collection of data sorted into key value pairs.\n",
    "    - *Dictionaries hold data (values) paired with a key.*\n",
    "   \n",
    "If you cannot recall the answers, please refer to the course notes and put this information you could not recall in italics.\n"
   ]
  },
  {
   "cell_type": "code",
   "execution_count": 3,
   "id": "648c9ed4-b3d6-40f3-b75d-36ffe050ea70",
   "metadata": {},
   "outputs": [
    {
     "name": "stdout",
     "output_type": "stream",
     "text": [
      "a1\n",
      "c3\n",
      "e5\n",
      "g7\n",
      "i9\n"
     ]
    }
   ],
   "source": [
    "#Exercise 2 (Indexing) ☻\n",
    "\n",
    "#Modify the following code to print out all elements with an odd number. I have done the one corresponding to i9 for you.\n",
    "\n",
    "py_list = [\"a1\", \"b2\", \"c3\", \"d4\", \"e5\", \"f6\", \"g7\", \"h8\", \"i9\", \"j10\"]\n",
    "print(py_list[0])   # Prints 'a1'\n",
    "print(py_list[2])   # Prints 'c3'\n",
    "print(py_list[4])   # Prints 'e5'\n",
    "print(py_list[6])   # Prints 'g7'\n",
    "print(py_list[8])   # Prints 'i9'"
   ]
  },
  {
   "cell_type": "code",
   "execution_count": 24,
   "id": "5c902c4e-fff6-4ff8-a397-38ad02008c9f",
   "metadata": {},
   "outputs": [
    {
     "name": "stdout",
     "output_type": "stream",
     "text": [
      "a1\n",
      "c3\n",
      "e5\n",
      "g7\n",
      "i9\n"
     ]
    }
   ],
   "source": [
    "for item in py_list:\n",
    "    if py_list.index(item) % 2 == 0:\n",
    "        print(item)"
   ]
  },
  {
   "cell_type": "markdown",
   "id": "e3e8d8f8-9d18-4437-bdc0-acd83650b23b",
   "metadata": {},
   "source": [
    "Exercise 3 (Index again) ☻\n",
    "\n",
    "Given the following list in Python:\n",
    "\n",
    "1. Access and print the element at index 4 using forward indexing.\n",
    "2. Access and print the element at index 4 from the end of the list using reverse indexing."
   ]
  },
  {
   "cell_type": "code",
   "execution_count": 32,
   "id": "3d226df8-6edc-49f1-a254-c217bc7fa5bd",
   "metadata": {},
   "outputs": [
    {
     "data": {
      "text/plain": [
       "'Beryllium'"
      ]
     },
     "execution_count": 32,
     "metadata": {},
     "output_type": "execute_result"
    }
   ],
   "source": [
    "elements = ['Hydrogen',\n",
    "            'Helium', 'Lithium',\n",
    "            'Beryllium', 'Boron', 'Carbon',\n",
    "            'Nitrogen', 'Oxygen',\n",
    "            'Fluorine',\n",
    "            'Neon']\n",
    "\n",
    "#1\n",
    "elements[3]"
   ]
  },
  {
   "cell_type": "code",
   "execution_count": 33,
   "id": "4eafaa19-91ce-461e-8030-e14f5a7b63f6",
   "metadata": {},
   "outputs": [
    {
     "data": {
      "text/plain": [
       "'Beryllium'"
      ]
     },
     "execution_count": 33,
     "metadata": {},
     "output_type": "execute_result"
    }
   ],
   "source": [
    "#2\n",
    "elements[-7]"
   ]
  },
  {
   "cell_type": "markdown",
   "id": "4349c39d-94ba-4517-a0d6-70c88a230076",
   "metadata": {},
   "source": [
    "Exercise 4 (How many ones) ☻\n",
    "\n",
    "Use the concepts you learned in this chapter to determine the number of 1’s in the following list of numbers."
   ]
  },
  {
   "cell_type": "code",
   "execution_count": 64,
   "id": "90c25a87-cce6-4151-9421-c9869f49132a",
   "metadata": {},
   "outputs": [
    {
     "data": {
      "text/plain": [
       "9"
      ]
     },
     "execution_count": 64,
     "metadata": {},
     "output_type": "execute_result"
    }
   ],
   "source": [
    "import numpy as np\n",
    "\n",
    "numbers=[45, 60, 1, 30, 96, 1, 96, 57, 16, 1,\n",
    "        99, 62, 86, 43, 42, 60, 59, 1, 1, 35,\n",
    "        83, 47, 34, 28, 68, 23, 22, 92, 1, 79,\n",
    "        1, 29, 94, 72, 46, 47, 1, 74, 32, 20,\n",
    "        8, 37, 35, 1, 89, 29, 86, 19, 43, 61]                  \n",
    "\n",
    "numb_array = np.array(numbers)\n",
    "\n",
    "sum(numb_array == 1)"
   ]
  }
 ],
 "metadata": {
  "kernelspec": {
   "display_name": "Python 3 (ipykernel)",
   "language": "python",
   "name": "python3"
  },
  "language_info": {
   "codemirror_mode": {
    "name": "ipython",
    "version": 3
   },
   "file_extension": ".py",
   "mimetype": "text/x-python",
   "name": "python",
   "nbconvert_exporter": "python",
   "pygments_lexer": "ipython3",
   "version": "3.11.5"
  },
  "toc": {
   "base_numbering": 1,
   "nav_menu": {},
   "number_sections": true,
   "sideBar": true,
   "skip_h1_title": false,
   "title_cell": "Table of Contents",
   "title_sidebar": "Contents",
   "toc_cell": false,
   "toc_position": {},
   "toc_section_display": true,
   "toc_window_display": false
  },
  "vscode": {
   "interpreter": {
    "hash": "31f2aee4e71d21fbe5cf8b01ff0e069b9275f58929596ceb00d14d90e3e16cd6"
   }
  }
 },
 "nbformat": 4,
 "nbformat_minor": 5
}
