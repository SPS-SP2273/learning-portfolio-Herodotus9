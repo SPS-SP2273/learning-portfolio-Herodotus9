{
 "cells": [
  {
   "attachments": {},
   "cell_type": "markdown",
   "id": "123456",
   "metadata": {},
   "source": [
    "<div style=\"text-align:left;font-size:2em\"><span style=\"font-weight:bolder;font-size:1.25em\">SP2273 | Learning Portfolio</span><br><br><span style=\"font-weight:bold;color:darkred\">Storing Data (Good)</span></div>"
   ]
  },
  {
   "attachments": {},
   "cell_type": "markdown",
   "id": "3336aaf6",
   "metadata": {},
   "source": [
    "# What to expect in this chapter"
   ]
  },
  {
   "attachments": {},
   "cell_type": "markdown",
   "id": "356aae19",
   "metadata": {},
   "source": [
    "# 1 Subsetting: Indexing and Slicing"
   ]
  },
  {
   "cell_type": "markdown",
   "id": "73a52824-01c9-4de5-a5a0-f6dfd871c220",
   "metadata": {},
   "source": [
    "So, in summary, what we mean when we say…\n",
    "\n",
    "    Subsetting means to ‘select’.\n",
    "    Indexing refers to selecting one element.\n",
    "    Slicing refers to selecting a range of elements."
   ]
  },
  {
   "attachments": {},
   "cell_type": "markdown",
   "id": "75206455",
   "metadata": {},
   "source": [
    "## 1.1 Lists & Arrays in 1D | Subsetting & Indexing"
   ]
  },
  {
   "cell_type": "code",
   "execution_count": 8,
   "id": "000a0f01-3749-4987-ba62-1a9963d25872",
   "metadata": {},
   "outputs": [
    {
     "data": {
      "text/plain": [
       "('a1',\n",
       " 'j10',\n",
       " array(['a1', 'b2', 'c3'], dtype='<U3'),\n",
       " array(['b2', 'c3', 'd4', 'e5', 'f6'], dtype='<U3'),\n",
       " array(['b2', 'd4', 'f6'], dtype='<U3'),\n",
       " array(['f6', 'g7', 'h8', 'i9', 'j10'], dtype='<U3'),\n",
       " array(['a1', 'b2', 'c3', 'd4', 'e5'], dtype='<U3'),\n",
       " array(['f6', 'e5', 'd4'], dtype='<U3'),\n",
       " array(['j10', 'i9', 'h8', 'g7', 'f6', 'e5', 'd4', 'c3', 'b2', 'a1'],\n",
       "       dtype='<U3'))"
      ]
     },
     "execution_count": 8,
     "metadata": {},
     "output_type": "execute_result"
    }
   ],
   "source": [
    "import numpy as np\n",
    "\n",
    "py_list=[\"a1\", \"b2\", \"c3\", \"d4\", \"e5\",\n",
    "         \"f6\", \"g7\", \"h8\", \"i9\", \"j10\"]\n",
    "np_array=np.array(py_list)\n",
    "\n",
    "# Pick one\n",
    "x = py_list  # OR\n",
    "x = np_array\n",
    "\n",
    "x[0], x[-1], x[0:3], x[1:6], x[1:6:2], x[5:], x[:5], x[5:2:-1], x[::-1]"
   ]
  },
  {
   "cell_type": "markdown",
   "id": "1b725799-9105-47af-bc96-7abe78110f96",
   "metadata": {},
   "source": [
    "Remember slicing in Python can be a bit tricky.\n",
    "If you slice with [i:j], the slice will start at i and end at j-1, giving you a total of j-i elements."
   ]
  },
  {
   "attachments": {},
   "cell_type": "markdown",
   "id": "a7129a22",
   "metadata": {},
   "source": [
    "## 1.2 Arrays only | Subsetting by masking"
   ]
  },
  {
   "cell_type": "code",
   "execution_count": 9,
   "id": "a6ef93bf-cd4b-49db-8bd4-39d5128848b6",
   "metadata": {},
   "outputs": [
    {
     "data": {
      "text/plain": [
       "array([False, False, False,  True,  True,  True,  True,  True,  True,\n",
       "        True])"
      ]
     },
     "execution_count": 9,
     "metadata": {},
     "output_type": "execute_result"
    }
   ],
   "source": [
    "np_array = np.array([1, 2, 3, 4, 5, 6, 7, 8, 9, 10])\n",
    "my_mask = np_array > 3\n",
    "my_mask"
   ]
  },
  {
   "cell_type": "code",
   "execution_count": 10,
   "id": "49af1970-11ef-45a1-9d03-9384e7082818",
   "metadata": {},
   "outputs": [
    {
     "data": {
      "text/plain": [
       "array([ 4,  5,  6,  7,  8,  9, 10])"
      ]
     },
     "execution_count": 10,
     "metadata": {},
     "output_type": "execute_result"
    }
   ],
   "source": [
    "np_array[my_mask]"
   ]
  },
  {
   "cell_type": "markdown",
   "id": "af781c5e-23f5-4df8-bd0f-c7cff035b488",
   "metadata": {},
   "source": [
    "Remember that subsetting by masking only works with NumPy arrays."
   ]
  },
  {
   "cell_type": "code",
   "execution_count": 11,
   "id": "69fe4404-1c87-47cd-80f5-4427977f668a",
   "metadata": {},
   "outputs": [
    {
     "data": {
      "text/plain": [
       "array([1, 2, 3])"
      ]
     },
     "execution_count": 11,
     "metadata": {},
     "output_type": "execute_result"
    }
   ],
   "source": [
    "np_array[~(np_array > 3)]                 # '~' means 'NOT'\n",
    "#We can invert our mask by using the ~. ~ is called the Bitwise Not operator."
   ]
  },
  {
   "cell_type": "code",
   "execution_count": 12,
   "id": "3465e2b9-5c8d-4be6-bc28-1c56d9d3683a",
   "metadata": {},
   "outputs": [
    {
     "data": {
      "text/plain": [
       "array([4, 5, 6, 7])"
      ]
     },
     "execution_count": 12,
     "metadata": {},
     "output_type": "execute_result"
    }
   ],
   "source": [
    "np_array[(np_array > 3) & (np_array < 8)] # '&' means 'AND'"
   ]
  },
  {
   "cell_type": "code",
   "execution_count": 14,
   "id": "5c2aea46-0b9d-4a51-8f30-b13ce2b81df2",
   "metadata": {},
   "outputs": [
    {
     "data": {
      "text/plain": [
       "array([ 1,  2,  9, 10])"
      ]
     },
     "execution_count": 14,
     "metadata": {},
     "output_type": "execute_result"
    }
   ],
   "source": [
    "np_array[(np_array < 3) | (np_array > 8)] # '|' means 'OR'\n",
    "\n",
    "# We can combine one mask OR another mask. (OR will show something if either mask is true.)"
   ]
  },
  {
   "cell_type": "markdown",
   "id": "c526e3a9-b620-46aa-af9b-d2dcc61da3d8",
   "metadata": {},
   "source": [
    "\n",
    "\n",
    "Remember:\n",
    "\n",
    "    Always use the Bitwise NOT(~), Bitwise OR(|) and Bitwise AND(&) when combining masks with NumPy.\n",
    "    Always use brackets to clarify what you are asking the mask to do.\n",
    "\n"
   ]
  },
  {
   "attachments": {},
   "cell_type": "markdown",
   "id": "ba4e19a9",
   "metadata": {},
   "source": [
    "## 1.3 Lists & Arrays in 2D | Indexing & Slicing"
   ]
  },
  {
   "cell_type": "code",
   "execution_count": 3,
   "id": "2aed6be5-e8a8-47cd-94ea-48c1fc48761a",
   "metadata": {},
   "outputs": [
    {
     "data": {
      "text/plain": [
       "[4, 'D']"
      ]
     },
     "execution_count": 3,
     "metadata": {},
     "output_type": "execute_result"
    }
   ],
   "source": [
    "import numpy as np\n",
    "\n",
    "py_list_2d = [[1, \"A\"], [2, \"B\"], [3, \"C\"], [4, \"D\"],\n",
    "              [5, \"E\"], [6, \"F\"], [7, \"G\"], [8, \"H\"],\n",
    "              [9, \"I\"], [10, \"J\"]]\n",
    "\n",
    "np_array_2d = np.array(py_list_2d)\n",
    "\n",
    "py_list_2d[3]\n",
    "#What is at position 4 (index 3) within the list?"
   ]
  },
  {
   "cell_type": "code",
   "execution_count": 8,
   "id": "68e37bd5-86f1-41f4-9dc5-d1dea7969f71",
   "metadata": {},
   "outputs": [
    {
     "data": {
      "text/plain": [
       "array(['4', 'D'], dtype='<U11')"
      ]
     },
     "execution_count": 8,
     "metadata": {},
     "output_type": "execute_result"
    }
   ],
   "source": [
    "np_array_2d[3]\n",
    "#What is the FIRST element at position 4 (index 3) within the array?\n",
    "#The u<11 refer to the type of data\n",
    "#U means Unicode string\n",
    "#11 means The maximum length of the strings in the array"
   ]
  },
  {
   "cell_type": "code",
   "execution_count": 42,
   "id": "4681afbd-c834-459a-bf98-7ede67e6c628",
   "metadata": {},
   "outputs": [
    {
     "data": {
      "text/plain": [
       "4"
      ]
     },
     "execution_count": 42,
     "metadata": {},
     "output_type": "execute_result"
    }
   ],
   "source": [
    "py_list_2d[3][0]\n",
    "#What is the FIRST element at position 4 (index 3) within the list?"
   ]
  },
  {
   "cell_type": "code",
   "execution_count": 9,
   "id": "78a7594c-8cd1-48a8-b74f-4a8294bb0a91",
   "metadata": {},
   "outputs": [
    {
     "data": {
      "text/plain": [
       "'4'"
      ]
     },
     "execution_count": 9,
     "metadata": {},
     "output_type": "execute_result"
    }
   ],
   "source": [
    "np_array_2d[3, 0]\n",
    "#What is the FIRST element at position 4 (index 3) within the array?\n",
    "#Notice how the syntax for arrays uses just a single pair of square brackets ([ ])."
   ]
  },
  {
   "cell_type": "code",
   "execution_count": 11,
   "id": "89cc2ffe-987e-416b-bbc2-8c76f9dfb8c7",
   "metadata": {},
   "outputs": [
    {
     "data": {
      "text/plain": [
       "[[1, 'A'], [2, 'B'], [3, 'C']]"
      ]
     },
     "execution_count": 11,
     "metadata": {},
     "output_type": "execute_result"
    }
   ],
   "source": [
    "py_list_2d[:3]\n",
    "#What are the first three elements in the list?"
   ]
  },
  {
   "cell_type": "code",
   "execution_count": 10,
   "id": "f6bbdd91-c35e-4f05-9d67-1cc5bfd4f941",
   "metadata": {},
   "outputs": [
    {
     "data": {
      "text/plain": [
       "array([['1', 'A'],\n",
       "       ['2', 'B'],\n",
       "       ['3', 'C']], dtype='<U11')"
      ]
     },
     "execution_count": 10,
     "metadata": {},
     "output_type": "execute_result"
    }
   ],
   "source": [
    "np_array_2d[:3]\n",
    "#What are the first three elements in the array?"
   ]
  },
  {
   "cell_type": "code",
   "execution_count": 47,
   "id": "ad75b1fd-26c3-4246-8f33-b0a4aff6fbad",
   "metadata": {},
   "outputs": [
    {
     "data": {
      "text/plain": [
       "[1, 'A']"
      ]
     },
     "execution_count": 47,
     "metadata": {},
     "output_type": "execute_result"
    }
   ],
   "source": [
    "py_list_2d[:3][0]\n",
    "\n",
    "#You might think that this will yield the first elements (i.e., [1, 2, 3]) of all the sub-lists up to index 2.\n",
    "#No! Instead, it gives the first of the list you get from py_list_2d[:3]."
   ]
  },
  {
   "cell_type": "code",
   "execution_count": 12,
   "id": "40fe62f0-3c9c-40a2-8657-708641a43812",
   "metadata": {},
   "outputs": [
    {
     "data": {
      "text/plain": [
       "array(['1', '2', '3'], dtype='<U11')"
      ]
     },
     "execution_count": 12,
     "metadata": {},
     "output_type": "execute_result"
    }
   ],
   "source": [
    "np_array_2d[:3, 0]\n",
    "#Notice how differently NumPy arrays work.\n",
    "#one [] is enough"
   ]
  },
  {
   "cell_type": "code",
   "execution_count": 49,
   "id": "d2738571-5c78-44a9-9ad7-a41be073b4c3",
   "metadata": {},
   "outputs": [
    {
     "data": {
      "text/plain": [
       "[4, 'D']"
      ]
     },
     "execution_count": 49,
     "metadata": {},
     "output_type": "execute_result"
    }
   ],
   "source": [
    "py_list_2d[3:6][0]"
   ]
  },
  {
   "cell_type": "code",
   "execution_count": 50,
   "id": "05de5d7c-3966-4e12-8d06-0c0d404a1ed9",
   "metadata": {},
   "outputs": [
    {
     "data": {
      "text/plain": [
       "array(['4', '5', '6'], dtype='<U11')"
      ]
     },
     "execution_count": 50,
     "metadata": {},
     "output_type": "execute_result"
    }
   ],
   "source": [
    "np_array_2d[3:6, 0]"
   ]
  },
  {
   "cell_type": "code",
   "execution_count": 52,
   "id": "5ffadd79-0f98-47c5-a9b5-e1c6b7096a1d",
   "metadata": {},
   "outputs": [
    {
     "data": {
      "text/plain": [
       "array(['1', '2', '3', '4', '5', '6', '7', '8', '9', '10'], dtype='<U11')"
      ]
     },
     "execution_count": 52,
     "metadata": {},
     "output_type": "execute_result"
    }
   ],
   "source": [
    "#If you want ‘everything’ you just use :.\n",
    "\n",
    "np_array_2d[:, 0]"
   ]
  },
  {
   "attachments": {},
   "cell_type": "markdown",
   "id": "d8945418",
   "metadata": {},
   "source": [
    "## 1.4 Growing lists"
   ]
  },
  {
   "cell_type": "code",
   "execution_count": 56,
   "id": "31ceb7f5-9f5a-4353-ad91-d2e3653d2fe2",
   "metadata": {},
   "outputs": [
    {
     "data": {
      "text/plain": [
       "[1, 2, 1, 2, 1, 2, 1, 2, 1, 2]"
      ]
     },
     "execution_count": 56,
     "metadata": {},
     "output_type": "execute_result"
    }
   ],
   "source": [
    "#Creating a larger list from a smaller one.\n",
    "x=[1, 2]*5\n",
    "x\n",
    "\n",
    "#NumPy arrays are invaluable, and their slicing syntax (e.g. [:3,0]) is more intuitive than lists. \n",
    "#So, why do we even bother with lists? One advantage of lists is their ease and efficiency in growing. \n",
    "#NumPy arrays are fantastic for fast math operations, provided you do not change their size1. \n",
    "#So, I will not discuss how to change the size of a NumPy array. Instead, let me show you how to grow a list. \n",
    "#This will be useful later; for instance when you try to solve differential equations numerically."
   ]
  },
  {
   "cell_type": "code",
   "execution_count": 61,
   "id": "49e1e641-a8e5-4bc2-8188-a11eab204cfa",
   "metadata": {},
   "outputs": [
    {
     "data": {
      "text/plain": [
       "[1, 2, 3, 4]"
      ]
     },
     "execution_count": 61,
     "metadata": {},
     "output_type": "execute_result"
    }
   ],
   "source": [
    "#Three ways to grow a list by appending one element at a time\n",
    "x=[1]\n",
    "x= x + [2]\n",
    "x= x + [3]\n",
    "x= x + [4]\n",
    "x"
   ]
  },
  {
   "cell_type": "code",
   "execution_count": 13,
   "id": "09d21b62-142e-4eec-a4c5-e3178d36340a",
   "metadata": {},
   "outputs": [
    {
     "data": {
      "text/plain": [
       "[1, 2, 3, 4]"
      ]
     },
     "execution_count": 13,
     "metadata": {},
     "output_type": "execute_result"
    }
   ],
   "source": [
    "x=[1]\n",
    "x+= [2]\n",
    "x+= [3]\n",
    "x+= [4]\n",
    "x"
   ]
  },
  {
   "cell_type": "code",
   "execution_count": 19,
   "id": "aa0fb3bc-47ec-4bb3-9752-83caa8ab921b",
   "metadata": {},
   "outputs": [
    {
     "name": "stdout",
     "output_type": "stream",
     "text": [
      "[4, 5, 6, 'a', 'b', 'c']\n",
      "[4, 5, 6, ['a', 'b', 'c']]\n"
     ]
    }
   ],
   "source": [
    "#The above 2 ways that use the + operator is known as concatenation. \n",
    "#Can you think of something that concatenation can do that append cannot do?\n",
    "\n",
    "#concatenation with the + operator allows you to combine two lists, even if they contain different types of elements.\n",
    "list1 = [4, 5, 6]\n",
    "list2 = ['a', 'b', 'c']\n",
    "\n",
    "conc_list = list1 + list2\n",
    "print(conc_list)\n",
    "\n",
    "#.append adds the entire second list as a single element to the first list.\n",
    "list1 = [4, 5, 6]\n",
    "list2 = ['a', 'b', 'c']\n",
    "\n",
    "list1.append(list2)\n",
    "print(list1)"
   ]
  },
  {
   "cell_type": "code",
   "execution_count": 65,
   "id": "d92a67ad-1b6e-4f9b-af74-e1f45e154d91",
   "metadata": {},
   "outputs": [
    {
     "data": {
      "text/plain": [
       "[1, 2, 3, 4]"
      ]
     },
     "execution_count": 65,
     "metadata": {},
     "output_type": "execute_result"
    }
   ],
   "source": [
    "x=[1]\n",
    "x.append(2)\n",
    "x.append(3)\n",
    "x.append(4)\n",
    "x\n",
    "\n",
    "#Their execution speeds are different; the version with append() runs about 1.5 times faster than the rest!"
   ]
  },
  {
   "cell_type": "code",
   "execution_count": 66,
   "id": "66bc6897-a112-40b6-8930-df3fa845f2b9",
   "metadata": {},
   "outputs": [
    {
     "data": {
      "text/plain": [
       "[1, 2, 3, 4, 5, 6]"
      ]
     },
     "execution_count": 66,
     "metadata": {},
     "output_type": "execute_result"
    }
   ],
   "source": [
    "#Here are three ways of incorporating multiple elements.\n",
    "#Notice the difference between the effects of extend() and append().\n",
    "\n",
    "x = [1, 2, 3]\n",
    "x += [4, 5, 6]\n",
    "x"
   ]
  },
  {
   "cell_type": "code",
   "execution_count": 67,
   "id": "21d8331c-1aae-488a-a5df-72809582a08f",
   "metadata": {},
   "outputs": [
    {
     "data": {
      "text/plain": [
       "[1, 2, 3, 4, 5, 6]"
      ]
     },
     "execution_count": 67,
     "metadata": {},
     "output_type": "execute_result"
    }
   ],
   "source": [
    "x=[1, 2, 3]\n",
    "x.extend([4, 5, 6])\n",
    "x"
   ]
  },
  {
   "cell_type": "code",
   "execution_count": 68,
   "id": "c4106990-d115-4db8-8b69-7142212d0498",
   "metadata": {},
   "outputs": [
    {
     "data": {
      "text/plain": [
       "[1, 2, 3, [4, 5, 6]]"
      ]
     },
     "execution_count": 68,
     "metadata": {},
     "output_type": "execute_result"
    }
   ],
   "source": [
    "x=[1, 2, 3]\n",
    "x.append([4, 5, 6])\n",
    "x"
   ]
  },
  {
   "attachments": {},
   "cell_type": "markdown",
   "id": "76f9afd3",
   "metadata": {},
   "source": [
    "# Some loose ends"
   ]
  },
  {
   "attachments": {},
   "cell_type": "markdown",
   "id": "de718114",
   "metadata": {},
   "source": [
    "## 1.5 Tuples"
   ]
  },
  {
   "cell_type": "code",
   "execution_count": 70,
   "id": "9834b4f7-fe87-4980-98ec-664e48d2e32e",
   "metadata": {},
   "outputs": [
    {
     "name": "stdout",
     "output_type": "stream",
     "text": [
      "1\n"
     ]
    }
   ],
   "source": [
    "#Tuples are similar to lists, except they use ( ) and cannot be changed after creation (i.e., they are immutable).\n",
    "\n",
    "a=(1, 2, 3)     # Define tuple\n",
    "\n",
    "print(a[0])    # Access data\n",
    "\n",
    "# The following will NOT work\n",
    "#a[0]=-1\n",
    "#a[0]+= [10]"
   ]
  },
  {
   "attachments": {},
   "cell_type": "markdown",
   "id": "4c3d2efb",
   "metadata": {},
   "source": [
    "## 1.6 Be VERY careful when copying"
   ]
  },
  {
   "cell_type": "code",
   "execution_count": 73,
   "id": "9e043779-a7ac-4d77-9214-039ddbe3cef9",
   "metadata": {},
   "outputs": [],
   "source": [
    "#x=[1, 2, 3]\n",
    "#y=x           # DON'T do this!\n",
    "#z=x           # DON'T do this!\n",
    "\n",
    "x=[1, 2, 3]\n",
    "y=x.copy()\n",
    "z=x.copy()\n",
    "\n",
    "#At this stage, you only have to know that you must use copy() to be safe; you do not have to understand why. \n",
    "#However, if you want to, please refer to the discussion on \n",
    "#mutable and immutable objects [https://sps.nus.edu.sg/sp2273/docs/python_basics/03_storing-data/2_storing-data_good.html#sec-python-variables]."
   ]
  },
  {
   "attachments": {},
   "cell_type": "markdown",
   "id": "3d2b364d",
   "metadata": {},
   "source": [
    "# Exercises & Self-Assessment"
   ]
  },
  {
   "cell_type": "markdown",
   "id": "3a4dda47-a323-4caa-add7-7b261eedf798",
   "metadata": {},
   "source": [
    "\n",
    "\n",
    "\n",
    "Exercises are done in storing_data (good) exercise\n",
    "\n",
    "\n"
   ]
  },
  {
   "attachments": {},
   "cell_type": "markdown",
   "id": "e6387067",
   "metadata": {},
   "source": [
    "## Footnotes"
   ]
  }
 ],
 "metadata": {
  "kernelspec": {
   "display_name": "Python 3 (ipykernel)",
   "language": "python",
   "name": "python3"
  },
  "language_info": {
   "codemirror_mode": {
    "name": "ipython",
    "version": 3
   },
   "file_extension": ".py",
   "mimetype": "text/x-python",
   "name": "python",
   "nbconvert_exporter": "python",
   "pygments_lexer": "ipython3",
   "version": "3.11.5"
  },
  "toc": {
   "base_numbering": 1,
   "nav_menu": {},
   "number_sections": true,
   "sideBar": true,
   "skip_h1_title": false,
   "title_cell": "Table of Contents",
   "title_sidebar": "Contents",
   "toc_cell": false,
   "toc_position": {},
   "toc_section_display": true,
   "toc_window_display": false
  },
  "vscode": {
   "interpreter": {
    "hash": "31f2aee4e71d21fbe5cf8b01ff0e069b9275f58929596ceb00d14d90e3e16cd6"
   }
  }
 },
 "nbformat": 4,
 "nbformat_minor": 5
}
