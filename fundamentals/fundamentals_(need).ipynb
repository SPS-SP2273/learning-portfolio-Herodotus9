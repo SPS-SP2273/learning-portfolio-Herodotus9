{
 "cells": [
  {
   "attachments": {},
   "cell_type": "markdown",
   "id": "123456",
   "metadata": {},
   "source": [
    "<div style=\"text-align:left;font-size:2em\"><span style=\"font-weight:bolder;font-size:1.25em\">SP2273 | Learning Portfolio</span><br><br><span style=\"font-weight:bold;color:darkred\">Fundamentals (Need)</span></div>"
   ]
  },
  {
   "attachments": {},
   "cell_type": "markdown",
   "id": "4fa8e225",
   "metadata": {},
   "source": [
    "# What to expect in this chapter"
   ]
  },
  {
   "attachments": {},
   "cell_type": "markdown",
   "id": "da8f5f62",
   "metadata": {},
   "source": [
    "# 1 Functions"
   ]
  },
  {
   "cell_type": "code",
   "execution_count": 2,
   "id": "8f736504-999c-442e-82e1-0c1ccd7d476b",
   "metadata": {},
   "outputs": [
    {
     "name": "stdout",
     "output_type": "stream",
     "text": [
      "Hello world!\n",
      "World has been helloed\n"
     ]
    }
   ],
   "source": [
    "print('Hello world!')\n",
    "print('World has been helloed')"
   ]
  },
  {
   "attachments": {},
   "cell_type": "markdown",
   "id": "c2459f86",
   "metadata": {},
   "source": [
    "# 2 Remember"
   ]
  },
  {
   "cell_type": "markdown",
   "id": "2565b5b1-4320-4f5a-b2c0-d918d0da742f",
   "metadata": {},
   "source": [
    "\n",
    "\n",
    "    A function is ‘something’ that executes a specific task.\n",
    "    A function may or may not accept arguments.\n",
    "    We can define our own functions.\n",
    "\n"
   ]
  },
  {
   "attachments": {},
   "cell_type": "markdown",
   "id": "b91acacb",
   "metadata": {},
   "source": [
    "# 3 Python is interpreted"
   ]
  },
  {
   "cell_type": "code",
   "execution_count": 7,
   "id": "480c69f2-6d7b-4e95-8216-9a5f987b757c",
   "metadata": {},
   "outputs": [
    {
     "name": "stdout",
     "output_type": "stream",
     "text": [
      "Hello World\n",
      "Hello World again\n"
     ]
    }
   ],
   "source": [
    "print('Hello World')\n",
    "print('Hello World again')"
   ]
  },
  {
   "attachments": {},
   "cell_type": "markdown",
   "id": "a0e45e84",
   "metadata": {},
   "source": [
    "# 4 Python is sensitive."
   ]
  },
  {
   "cell_type": "code",
   "execution_count": 6,
   "id": "878d0df2-0078-4e3a-98fa-4a16634bfd42",
   "metadata": {},
   "outputs": [
    {
     "name": "stdout",
     "output_type": "stream",
     "text": [
      "Hello World\n"
     ]
    },
    {
     "ename": "NameError",
     "evalue": "name 'Print' is not defined",
     "output_type": "error",
     "traceback": [
      "\u001b[1;31m---------------------------------------------------------------------------\u001b[0m",
      "\u001b[1;31mNameError\u001b[0m                                 Traceback (most recent call last)",
      "Cell \u001b[1;32mIn[6], line 2\u001b[0m\n\u001b[0;32m      1\u001b[0m \u001b[38;5;28mprint\u001b[39m(\u001b[38;5;124m'\u001b[39m\u001b[38;5;124mHello World\u001b[39m\u001b[38;5;124m'\u001b[39m)      \u001b[38;5;66;03m# This WILL work\u001b[39;00m\n\u001b[1;32m----> 2\u001b[0m \u001b[43mPrint\u001b[49m(\u001b[38;5;124m'\u001b[39m\u001b[38;5;124mHello World\u001b[39m\u001b[38;5;124m'\u001b[39m)      \u001b[38;5;66;03m# This will NOT work\u001b[39;00m\n",
      "\u001b[1;31mNameError\u001b[0m: name 'Print' is not defined"
     ]
    }
   ],
   "source": [
    "print('Hello World')      # This WILL work\n",
    "Print('Hello World')      # This will NOT work"
   ]
  },
  {
   "attachments": {},
   "cell_type": "markdown",
   "id": "fcff25e0",
   "metadata": {},
   "source": [
    "# 5 Remember"
   ]
  },
  {
   "cell_type": "markdown",
   "id": "efa3c597-ae9a-4499-a75b-9c73e3abca2e",
   "metadata": {},
   "source": [
    "Python is case-sensitive."
   ]
  },
  {
   "attachments": {},
   "cell_type": "markdown",
   "id": "e4a0aa3a",
   "metadata": {},
   "source": [
    "# 6 Comments"
   ]
  },
  {
   "cell_type": "code",
   "execution_count": 9,
   "id": "cd91c292-cad7-4766-a594-456837072992",
   "metadata": {},
   "outputs": [
    {
     "name": "stdout",
     "output_type": "stream",
     "text": [
      "One\n",
      "Three\n"
     ]
    }
   ],
   "source": [
    "# This is a comment\n",
    "print('One')              # This is a comment.\n",
    "# print('Two')            # The interpreter ignores this line.\n",
    "print('Three')            # This is\n",
    "                          # also a way to\n",
    "                          # write comments\n",
    "\n",
    "#chipi chipi chupa chupa"
   ]
  },
  {
   "attachments": {},
   "cell_type": "markdown",
   "id": "16fdefe9",
   "metadata": {},
   "source": [
    "# 7 Remember"
   ]
  },
  {
   "cell_type": "markdown",
   "id": "9c023433-a49d-4d12-a29a-949cfc839908",
   "metadata": {},
   "source": [
    "Use comments to emphasize the purpose of the code."
   ]
  },
  {
   "attachments": {},
   "cell_type": "markdown",
   "id": "6fc6d80c",
   "metadata": {},
   "source": [
    "# 8 = is not the same as =="
   ]
  },
  {
   "cell_type": "code",
   "execution_count": 14,
   "id": "87df2a49-bcaf-458a-b0b8-c793ca536d3c",
   "metadata": {},
   "outputs": [
    {
     "name": "stdout",
     "output_type": "stream",
     "text": [
      "Batman\n"
     ]
    },
    {
     "data": {
      "text/plain": [
       "True"
      ]
     },
     "execution_count": 14,
     "metadata": {},
     "output_type": "execute_result"
    }
   ],
   "source": [
    "name = 'Batman'   # Make name carry 'Batman'\n",
    "print(name)\n",
    "name == 'Batman'  # Tell me if name is equal to 'Batman'?\n",
    "                  # Answer:  True or False\n"
   ]
  },
  {
   "attachments": {},
   "cell_type": "markdown",
   "id": "6d4f5fbb",
   "metadata": {},
   "source": [
    "# 9 Remember"
   ]
  },
  {
   "cell_type": "markdown",
   "id": "8c7277fc-730f-4bc1-abeb-20c89b5d7b6e",
   "metadata": {},
   "source": [
    "\n",
    "\n",
    "    = is not the same as ==.\n",
    "    = assigns a value and\n",
    "    == asks a question.\n",
    "\n"
   ]
  },
  {
   "attachments": {},
   "cell_type": "markdown",
   "id": "990e3c1d",
   "metadata": {},
   "source": [
    "# 10 Use if to make decisions"
   ]
  },
  {
   "cell_type": "code",
   "execution_count": 17,
   "id": "d7aac32d-a6b2-4f53-809f-7d0b1e06b188",
   "metadata": {},
   "outputs": [
    {
     "name": "stdout",
     "output_type": "stream",
     "text": [
      "Hello Batman!\n"
     ]
    }
   ],
   "source": [
    "name = 'Batman'\n",
    "\n",
    "if name == 'Batman':\n",
    "    print('Hello Batman!')\n",
    "else:\n",
    "    print('Get Me Batman!')\n"
   ]
  },
  {
   "cell_type": "code",
   "execution_count": 2,
   "id": "331960a5-e200-4b59-94c9-d9f33200148f",
   "metadata": {},
   "outputs": [
    {
     "name": "stdout",
     "output_type": "stream",
     "text": [
      "Get Me Batman!\n"
     ]
    }
   ],
   "source": [
    "name = 'Jojo'\n",
    "if name == 'Batman':\n",
    "    print('Hello Batman!')\n",
    "else:\n",
    "    print('Get Me Batman!')\n"
   ]
  },
  {
   "attachments": {},
   "cell_type": "markdown",
   "id": "7ed0d1b7",
   "metadata": {},
   "source": [
    "# 11 Remember"
   ]
  },
  {
   "cell_type": "markdown",
   "id": "41d33a2d-ab47-4f27-a2ef-a0a50d2991cc",
   "metadata": {},
   "source": [
    "You can use if to make decisions."
   ]
  },
  {
   "attachments": {},
   "cell_type": "markdown",
   "id": "038769dc",
   "metadata": {},
   "source": [
    "# 12 Indentations (spaces) are sooo IMPORTANT!"
   ]
  },
  {
   "cell_type": "code",
   "execution_count": 5,
   "id": "917dbc19-958e-4852-983f-f7ccd6098a76",
   "metadata": {},
   "outputs": [
    {
     "ename": "IndentationError",
     "evalue": "unexpected indent (2339074311.py, line 7)",
     "output_type": "error",
     "traceback": [
      "\u001b[1;36m  Cell \u001b[1;32mIn[5], line 7\u001b[1;36m\u001b[0m\n\u001b[1;33m    print(x)\u001b[0m\n\u001b[1;37m    ^\u001b[0m\n\u001b[1;31mIndentationError\u001b[0m\u001b[1;31m:\u001b[0m unexpected indent\n"
     ]
    }
   ],
   "source": [
    "x = 10\n",
    "print(x)\n",
    "\n",
    "\n",
    "\n",
    "x = 10\n",
    " print(x)"
   ]
  },
  {
   "attachments": {},
   "cell_type": "markdown",
   "id": "ee3beb5e",
   "metadata": {},
   "source": [
    "# 13 Remember"
   ]
  },
  {
   "cell_type": "markdown",
   "id": "f59841a9-702b-46dd-b829-4f2669bc9752",
   "metadata": {},
   "source": [
    "\n",
    "Remember\n",
    "\n",
    "    Indentations play a crucial role in Python; do not use them indiscriminately.\n",
    "    : is used to designate a block of code.\n",
    "\n",
    "Be careful\n",
    "\n",
    "Don’t mix spaces and tabs!\n",
    "Make it easy for yourself; just use the tab key consistently.\n"
   ]
  },
  {
   "attachments": {},
   "cell_type": "markdown",
   "id": "3ae0a58f",
   "metadata": {},
   "source": [
    "# 14 ‘age’ is English, age is a variable."
   ]
  },
  {
   "attachments": {},
   "cell_type": "markdown",
   "id": "82207d11",
   "metadata": {},
   "source": [
    "# 15 Brackets"
   ]
  },
  {
   "attachments": {},
   "cell_type": "markdown",
   "id": "e063207a",
   "metadata": {},
   "source": [
    "# 16 Giving Python superpowers with Packages"
   ]
  },
  {
   "attachments": {},
   "cell_type": "markdown",
   "id": "d205a0df",
   "metadata": {},
   "source": [
    "## 16.1 Some Context"
   ]
  },
  {
   "attachments": {},
   "cell_type": "markdown",
   "id": "2e313e7b",
   "metadata": {},
   "source": [
    "## 16.2 Importing the math package"
   ]
  },
  {
   "attachments": {},
   "cell_type": "markdown",
   "id": "78d22c88",
   "metadata": {},
   "source": [
    "## 16.3 Importing the numpy package"
   ]
  },
  {
   "attachments": {},
   "cell_type": "markdown",
   "id": "56e8cdf9",
   "metadata": {},
   "source": [
    "## 16.4 Why so many packages?"
   ]
  },
  {
   "attachments": {},
   "cell_type": "markdown",
   "id": "31eb115b",
   "metadata": {},
   "source": [
    "# 17 Remember"
   ]
  },
  {
   "attachments": {},
   "cell_type": "markdown",
   "id": "c95f0056",
   "metadata": {},
   "source": [
    "# 18 The dot (.)"
   ]
  },
  {
   "attachments": {},
   "cell_type": "markdown",
   "id": "67e645fb",
   "metadata": {},
   "source": [
    "# 19 Remember"
   ]
  },
  {
   "attachments": {},
   "cell_type": "markdown",
   "id": "3f8f4014",
   "metadata": {},
   "source": [
    "## Footnotes"
   ]
  }
 ],
 "metadata": {
  "kernelspec": {
   "display_name": "Python 3 (ipykernel)",
   "language": "python",
   "name": "python3"
  },
  "language_info": {
   "codemirror_mode": {
    "name": "ipython",
    "version": 3
   },
   "file_extension": ".py",
   "mimetype": "text/x-python",
   "name": "python",
   "nbconvert_exporter": "python",
   "pygments_lexer": "ipython3",
   "version": "3.11.5"
  },
  "toc": {
   "base_numbering": 1,
   "nav_menu": {},
   "number_sections": true,
   "sideBar": true,
   "skip_h1_title": false,
   "title_cell": "Table of Contents",
   "title_sidebar": "Contents",
   "toc_cell": false,
   "toc_position": {},
   "toc_section_display": true,
   "toc_window_display": false
  },
  "vscode": {
   "interpreter": {
    "hash": "31f2aee4e71d21fbe5cf8b01ff0e069b9275f58929596ceb00d14d90e3e16cd6"
   }
  }
 },
 "nbformat": 4,
 "nbformat_minor": 5
}
