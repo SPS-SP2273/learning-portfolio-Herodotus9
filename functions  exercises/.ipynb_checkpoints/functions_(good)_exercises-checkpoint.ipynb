{
 "cells": [
  {
   "attachments": {},
   "cell_type": "markdown",
   "id": "123456",
   "metadata": {},
   "source": [
    "<div style=\"text-align:left;font-size:2em\"><span style=\"font-weight:bolder;font-size:1.25em\">SP2273 | Learning Portfolio</span><br><br><span style=\"font-weight:bold;color:darkred\">Functions (Good) Exercises</span></div>"
   ]
  },
  {
   "cell_type": "markdown",
   "id": "ea116e53-71f1-4a83-a6ae-80c3e9317862",
   "metadata": {},
   "source": [
    "Exercise 1 (Celsius to Fahrenheit or Kelvin) ☻\n",
    "\n",
    "    Develop a function named convert_celsius() to convert temperatures from Celsius to either Fahrenheit or Kelvin.\n",
    "    The function should take two arguments:\n",
    "        temperature_celsius: The temperature in Celsius.\n",
    "        target_scale (string): The target scale for conversion, with the default value set to 'Fahrenheit'.\n",
    "    The function should return the temperature in Kelvin if target_scale is 'Kelvin'; \n",
    "    otherwise, it should return the temperature in Fahrenheit."
   ]
  },
  {
   "cell_type": "code",
   "execution_count": 22,
   "id": "22a03a7b-f6a2-44fd-bf59-661bc90a3525",
   "metadata": {},
   "outputs": [
    {
     "name": "stdin",
     "output_type": "stream",
     "text": [
      "Please input temperature in Celsius:  32\n",
      "Do you want to convert to Kelvin? If so, input Kelvin. Else, just enter. Kelvin\n"
     ]
    },
    {
     "name": "stdout",
     "output_type": "stream",
     "text": [
      "32.0°C is 305.15°K\n"
     ]
    }
   ],
   "source": [
    "def convert_celsius():\n",
    "    temperature_celsius = float(input('Please input temperature in Celsius: '))\n",
    "    target_scale = input('Do you want to convert to Kelvin? If so, input Kelvin. Else, just enter.')\n",
    "    \n",
    "    if target_scale == 'Kelvin':\n",
    "        K_ans = temperature_celsius + 273.15\n",
    "        print(f\"{temperature_celsius}°C is {K_ans:.2f}°K\")\n",
    "    else:\n",
    "        F_ans = temperature_celsius*(9/5) + 32\n",
    "        print(f\"{temperature_celsius}°C is {F_ans:2.f}°F\")\n",
    "try:\n",
    "    convert_celsius()\n",
    "except:\n",
    "    print(f\"Please input numbers only!\")"
   ]
  },
  {
   "cell_type": "markdown",
   "id": "a1c5d5b6-f1d1-4770-8edb-2e6539bf502c",
   "metadata": {},
   "source": [
    "Exercise 2 (Fahrenheit to Celsius or Kelvin) ☻\n",
    "\n",
    "    Develop a function called convert_fahrenheit() for converting temperatures from Fahrenheit to either Celsius or Kelvin.\n",
    "    The function should take two arguments:\n",
    "        temperature_fahrenheit: The temperature in Fahrenheit.\n",
    "        target_scale (string): The target scale for conversion, defaulting to 'Celsius'.\n",
    "    The function should return the temperature in Kelvin if target_scale is 'Kelvin'; otherwise, return it in Celsius."
   ]
  },
  {
   "cell_type": "code",
   "execution_count": 27,
   "id": "7e334d2b-4351-4e60-8cea-40ad148f94f0",
   "metadata": {},
   "outputs": [
    {
     "name": "stdin",
     "output_type": "stream",
     "text": [
      "Please input temperature in Fahrenheit:  45\n",
      "Do you want to convert to Kelvin? If so, input Kelvin. Else, just enter. \n"
     ]
    },
    {
     "name": "stdout",
     "output_type": "stream",
     "text": [
      "45.0°F is 7.22°C\n"
     ]
    }
   ],
   "source": [
    "def convert_fahrenheit():\n",
    "    temperature_fahrenheit = float(input('Please input temperature in Fahrenheit: '))\n",
    "    target_scale = input('Do you want to convert to Kelvin? If so, input Kelvin. Else, just enter.')\n",
    "    \n",
    "    if target_scale == 'Kelvin':\n",
    "        K_ans = (temperature_fahrenheit - 32)*(5/9) + 273.15\n",
    "        print(f\"{temperature_fahrenheit}°F is {K_ans:.2f}°K\")\n",
    "    else:\n",
    "        C_ans = (temperature_fahrenheit - 32)*(5/9)\n",
    "        print(f\"{temperature_fahrenheit}°F is {C_ans:.2f}°C\")\n",
    "try:\n",
    "    convert_fahrenheit()\n",
    "except:\n",
    "    print(f\"Please input numbers only!\")"
   ]
  },
  {
   "cell_type": "markdown",
   "id": "b3b645e1-1f85-4f81-9fa8-0e84f7384847",
   "metadata": {},
   "source": [
    "Exercise 3 (General Temperature Conversion) ☻\n",
    "\n",
    "Implement a function named convert_temperature() to perform general temperature conversions.\n",
    "The function should take three arguments:\n",
    "\n",
    "    temperature: The temperature to be converted.\n",
    "    source_scale (string): The scale of the input temperature (either 'Celsius', 'Fahrenheit', or 'Kelvin').\n",
    "    target_scale (string): The desired scale for the output temperature."
   ]
  },
  {
   "cell_type": "code",
   "execution_count": 8,
   "id": "57a67192-53eb-4783-bd43-529d65fe0150",
   "metadata": {},
   "outputs": [
    {
     "name": "stdin",
     "output_type": "stream",
     "text": [
      "Please enter source temperature scale in either Celsius, Fahrenheit or Kelvin: Kelvin\n",
      "Please enter output temperature scale in either Celsius, Fahrenheit or Kelvin: Celsius\n",
      "Please enter temperature 45\n"
     ]
    },
    {
     "name": "stdout",
     "output_type": "stream",
     "text": [
      "45.0°K is -228.15°C\n"
     ]
    }
   ],
   "source": [
    "#convert fahrenheit\n",
    "def convert_fahrenheit(target_scale, temperature):\n",
    "    if target_scale == 'Kelvin':\n",
    "        K_ans = (temperature - 32)*(5/9) + 273.15\n",
    "        print(f\"{temperature}°F is {K_ans:.2f}°K\")\n",
    "    elif target_scale == 'Celsius':\n",
    "        C_ans = (temperature - 32)*(5/9)\n",
    "        print(f\"{temperature}°F is {C_ans:.2f}°C\")\n",
    "    elif target_scale == 'Fahrenheit':\n",
    "        print(f\"{temperature}°F is still {temperature}°F!\")\n",
    "        \n",
    "#convert celsius\n",
    "def convert_celsius(target_scale, temperature):\n",
    "    if target_scale == 'Kelvin':\n",
    "        K_ans = temperature + 273.15\n",
    "        print(f\"{temperature}°C is {K_ans:.2f}°K\")\n",
    "    elif target_scale == 'Fahrenheit':\n",
    "        F_ans = temperature*(9/5) + 32\n",
    "        print(f\"{temperature}°C is {F_ans:2.f}°F\")\n",
    "    elif target_scale == 'Celsius':\n",
    "        print(f\"{temperature}°C is still {temperature}°C!\")\n",
    "\n",
    "#convert kelvin\n",
    "def convert_kelvin(target_scale, temperature):\n",
    "    if target_scale == 'Celsius':\n",
    "        C_ans = temperature - 273.15\n",
    "        print(f\"{temperature}°K is {C_ans:.2f}°C\")\n",
    "    elif target_scale == 'Fahrenheit':\n",
    "        F_ans = (temperature - 273.15)*(9/5) + 32\n",
    "        print(f\"{temperature}°K is {F_ans:2.f}°F\")\n",
    "    elif target_scale == 'Kelvin':\n",
    "        print(f\"{temperature}°K is still {temperature}°K!\")\n",
    "\n",
    "#general converter\n",
    "def convert_temperature():\n",
    "    \n",
    "    source_scale = input('Please enter source temperature scale in either Celsius, Fahrenheit or Kelvin:')\n",
    "    target_scale = input('Please enter output temperature scale in either Celsius, Fahrenheit or Kelvin:')\n",
    "    temperature = float(input('Please enter temperature'))\n",
    "    \n",
    "    if source_scale == 'Fahrenheit':\n",
    "        convert_fahrenheit(target_scale, temperature)\n",
    "    elif source_scale == 'Celsius':\n",
    "        convert_celsius(target_scale, temperature)\n",
    "    elif source_scale == 'Kelvin':\n",
    "        convert_kelvin(target_scale, temperature)\n",
    "    else:\n",
    "        print(f\"Please input either Celsius, Fahrenheit or Kelvin for temperature scales!\") \n",
    "\n",
    "try:\n",
    "    convert_temperature()\n",
    "except:\n",
    "    print(f\"Please input a number!\")"
   ]
  }
 ],
 "metadata": {
  "kernelspec": {
   "display_name": "Python 3 (ipykernel)",
   "language": "python",
   "name": "python3"
  },
  "language_info": {
   "codemirror_mode": {
    "name": "ipython",
    "version": 3
   },
   "file_extension": ".py",
   "mimetype": "text/x-python",
   "name": "python",
   "nbconvert_exporter": "python",
   "pygments_lexer": "ipython3",
   "version": "3.11.5"
  },
  "toc": {
   "base_numbering": 1,
   "nav_menu": {},
   "number_sections": true,
   "sideBar": true,
   "skip_h1_title": false,
   "title_cell": "Table of Contents",
   "title_sidebar": "Contents",
   "toc_cell": false,
   "toc_position": {},
   "toc_section_display": true,
   "toc_window_display": false
  },
  "vscode": {
   "interpreter": {
    "hash": "31f2aee4e71d21fbe5cf8b01ff0e069b9275f58929596ceb00d14d90e3e16cd6"
   }
  }
 },
 "nbformat": 4,
 "nbformat_minor": 5
}
