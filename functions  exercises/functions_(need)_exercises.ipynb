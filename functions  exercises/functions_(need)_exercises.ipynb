{
 "cells": [
  {
   "attachments": {},
   "cell_type": "markdown",
   "id": "123456",
   "metadata": {},
   "source": [
    "<div style=\"text-align:left;font-size:2em\"><span style=\"font-weight:bolder;font-size:1.25em\">SP2273 | Learning Portfolio</span><br><br><span style=\"font-weight:bold;color:darkred\">Functions (Need) Exercises</span></div>"
   ]
  },
  {
   "cell_type": "markdown",
   "id": "d6358cdc-4f1d-4f72-934d-6ffffb036998",
   "metadata": {},
   "source": [
    "Exercise 1 (Do you know why?) ☻"
   ]
  },
  {
   "cell_type": "code",
   "execution_count": 7,
   "id": "bd59bfcb-9ac8-4473-b3c8-80c2459e534a",
   "metadata": {},
   "outputs": [],
   "source": [
    "def greeting(name):\n",
    "    if name == 'Batman':\n",
    "        return 'Hello Batman! So, nice to meet you!'\n",
    "    return f'Hello {name}!'"
   ]
  },
  {
   "cell_type": "markdown",
   "id": "00f1debb-ffdf-4439-90aa-d5f14603ff88",
   "metadata": {},
   "source": [
    "The following code works as expected despite not having an else statement. Please use a Markdown cell to explain why?\n",
    "\n",
    "'if' does not require an 'else' for the code to work. How 'if' works is by checking if the condition is fulfilled. If the condition is 'True', the interpreter will perform the code specific under 'if'. If the condition is 'False' the interpreter simply moves onwards to the next line of code. \n",
    "\n",
    "If the name is determined to not be 'Batman', the next line of code \n",
    "\n",
    "return f'Hello {name}!' \n",
    "\n",
    "will then run."
   ]
  },
  {
   "cell_type": "markdown",
   "id": "9231d862-d389-4275-adcb-8e7c36975a15",
   "metadata": {},
   "source": [
    "Exercise 2 (Chubby or not) ☻\n",
    "\n",
    "Write a Python function named calculate_bmi.\n",
    "\n",
    "- The function should take two parameters: weight (in kilograms) and height (in meters).\n",
    "- The function should calculate the BMI (Body Mass Index) using the formula BMI = weight / (height ** 2).\n",
    "- Based on the calculated BMI, the function should return a string indicating the BMI category based on the following criteria:\n",
    "\n",
    "| **Category**    |  **BMI Range**   |  \n",
    "| :--- | :-- | \n",
    "| Underweight   |  BMI less than 18.5  |  \n",
    "| Normal weight   |  BMI between 18.5 and 24.9  |   \n",
    "| Overweight   |   \tBMI between 25 and 29.9  |  \n",
    "|Obesity| BMI 30 or more|"
   ]
  },
  {
   "cell_type": "code",
   "execution_count": 33,
   "id": "e63563f0-7c0e-4315-ab21-b99fdba1fdd9",
   "metadata": {},
   "outputs": [
    {
     "name": "stdin",
     "output_type": "stream",
     "text": [
      "Input height in centimeters 167\n",
      "Input weight in kilogram 58\n"
     ]
    },
    {
     "name": "stdout",
     "output_type": "stream",
     "text": [
      "The BMI category is: Normal weight\n"
     ]
    }
   ],
   "source": [
    "import numpy as np\n",
    "\n",
    "def calculate_bmi(weight, height):\n",
    "    \n",
    "    bmi = weight/((height/100) ** 2)\n",
    "\n",
    "#BMI categories\n",
    "    if bmi < 18.5:\n",
    "        cat = 'Underweight'\n",
    "    elif 18.5 <= bmi <= 24.9:\n",
    "        cat = 'Normal weight'\n",
    "    elif 25 <= bmi <= 29.9:\n",
    "        cat = 'Overweight'\n",
    "    else:\n",
    "        cat = 'Obesity'\n",
    "\n",
    "    return cat\n",
    "\n",
    "user_input = input('Input height in centimeters')\n",
    "user_input2 = input('Input weight in kilogram')\n",
    "\n",
    "height = int(user_input)\n",
    "weight = int(user_input2)\n",
    "\n",
    "ans = calculate_bmi(weight, height)\n",
    "print(f'The BMI category is: {ans}')"
   ]
  },
  {
   "cell_type": "markdown",
   "id": "6b9bc8a9-a217-4e7d-b21d-313cfc1ab4d4",
   "metadata": {},
   "source": [
    "What if the weight and/or height is erroneously given as negative numbers or 0? How can you modify your code to handle these?"
   ]
  },
  {
   "cell_type": "code",
   "execution_count": 17,
   "id": "68096a64-df05-4645-948b-da119b8b03c9",
   "metadata": {},
   "outputs": [
    {
     "name": "stdin",
     "output_type": "stream",
     "text": [
      "Input height in meters i\n",
      "Input weight in kilogram -9\n"
     ]
    },
    {
     "name": "stdout",
     "output_type": "stream",
     "text": [
      "Please input numerical values to calculate BMI!\n"
     ]
    }
   ],
   "source": [
    "import numpy as np\n",
    "\n",
    "def calculate_bmi(weight, height):\n",
    "    if weight < 0 or height < 0:\n",
    "        return 'Input values for BMI cannot be negative! Please input proper values'\n",
    "\n",
    "    elif weight == 0 or height == 0:\n",
    "        return 'Input values for BMI cannot be zero! Please input proper values'\n",
    "    \n",
    "    bmi = weight/(height ** 2)\n",
    "\n",
    "#BMI categories\n",
    "    if bmi < 18.5:\n",
    "        cat = 'Underweight'\n",
    "    elif 18.5 <= bmi <= 24.9:\n",
    "        cat = 'Normal weight'\n",
    "    elif 25 <= bmi <= 29.9:\n",
    "        cat = 'Overweight'\n",
    "    else:\n",
    "        cat = 'Obesity'\n",
    "\n",
    "    return cat\n",
    "\n",
    "user_input = input('Input height in meters')\n",
    "user_input2 = input('Input weight in kilogram')\n",
    "\n",
    "try:\n",
    "    height = float(user_input)\n",
    "    weight = float(user_input2)\n",
    "    ans = calculate_bmi(weight, height)\n",
    "    print(f'The BMI category is: {ans}')\n",
    "except ValueError:\n",
    "    print(\"Please input numerical values to calculate BMI!\")\n",
    "    \n"
   ]
  }
 ],
 "metadata": {
  "kernelspec": {
   "display_name": "Python 3 (ipykernel)",
   "language": "python",
   "name": "python3"
  },
  "language_info": {
   "codemirror_mode": {
    "name": "ipython",
    "version": 3
   },
   "file_extension": ".py",
   "mimetype": "text/x-python",
   "name": "python",
   "nbconvert_exporter": "python",
   "pygments_lexer": "ipython3",
   "version": "3.11.5"
  },
  "toc": {
   "base_numbering": 1,
   "nav_menu": {},
   "number_sections": true,
   "sideBar": true,
   "skip_h1_title": false,
   "title_cell": "Table of Contents",
   "title_sidebar": "Contents",
   "toc_cell": false,
   "toc_position": {},
   "toc_section_display": true,
   "toc_window_display": false
  },
  "vscode": {
   "interpreter": {
    "hash": "31f2aee4e71d21fbe5cf8b01ff0e069b9275f58929596ceb00d14d90e3e16cd6"
   }
  }
 },
 "nbformat": 4,
 "nbformat_minor": 5
}
