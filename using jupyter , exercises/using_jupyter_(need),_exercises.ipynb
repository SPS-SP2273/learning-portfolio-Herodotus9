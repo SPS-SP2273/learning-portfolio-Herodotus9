{
 "cells": [
  {
   "attachments": {},
   "cell_type": "markdown",
   "id": "123456",
   "metadata": {},
   "source": [
    "<div style=\"text-align:left;font-size:2em\"><span style=\"font-weight:bolder;font-size:1.25em\">SP2273 | Learning Portfolio</span><br><br><span style=\"font-weight:bold;color:darkred\">Using Jupyter (Need), Exercises</span></div>"
   ]
  },
  {
   "attachments": {},
   "cell_type": "markdown",
   "id": "94a65df4",
   "metadata": {},
   "source": [
    "## Quadratic Equations"
   ]
  },
  {
   "attachments": {},
   "cell_type": "markdown",
   "id": "5df0978f",
   "metadata": {},
   "source": [
    "### Introduction"
   ]
  },
  {
   "cell_type": "markdown",
   "id": "15b8cefd-a644-4f22-8c14-b11719fcb315",
   "metadata": {},
   "source": [
    "![](https://upload.wikimedia.org/wikipedia/commons/f/f8/Polynomialdeg2.svg)\n",
    "\n",
    "*(Image from the [Wikipedia page on Quadratic equations](https://en.wikipedia.org/wiki/Quadratic_equation))*\n",
    "\n",
    "The general form of a quadratic equation is:\n",
    "\n",
    " $ ax^2+ bx + c = 0 $\n"
   ]
  },
  {
   "attachments": {},
   "cell_type": "markdown",
   "id": "be8cb5aa",
   "metadata": {},
   "source": [
    "### Solutions"
   ]
  },
  {
   "cell_type": "markdown",
   "id": "b31412fa-a6ff-41d9-9b1e-b483b08994f0",
   "metadata": {},
   "source": [
    "\n",
    "$ x = \\dfrac{-b \\pm \\sqrt{b^2-4ac}}{2a} $"
   ]
  },
  {
   "attachments": {},
   "cell_type": "markdown",
   "id": "fc8c72f3",
   "metadata": {},
   "source": [
    "### Discriminant"
   ]
  },
  {
   "cell_type": "markdown",
   "id": "7340fcda-c2dd-4e38-aa40-3252fed7a6a9",
   "metadata": {},
   "source": [
    "\n",
    "| Discriminant    |  Roots   |\n",
    "| :--- | :--: |\n",
    "| $$\\Delta = b^2 - 4ac = 0$$   |  A single solution of -b/(2a)  |  \n",
    "| $$\\Delta = b^2 - 4ac \\gt 0$$   |  Two distinct solutions  |  \n",
    "| $$\\Delta = b^2 - 4ac \\lt 0$$   |  No real solutions; both are complex.  |   \n"
   ]
  },
  {
   "cell_type": "code",
   "execution_count": null,
   "id": "f2e50d9e-4287-4559-b4fc-df139cd74d93",
   "metadata": {},
   "outputs": [],
   "source": []
  }
 ],
 "metadata": {
  "kernelspec": {
   "display_name": "Python 3 (ipykernel)",
   "language": "python",
   "name": "python3"
  },
  "language_info": {
   "codemirror_mode": {
    "name": "ipython",
    "version": 3
   },
   "file_extension": ".py",
   "mimetype": "text/x-python",
   "name": "python",
   "nbconvert_exporter": "python",
   "pygments_lexer": "ipython3",
   "version": "3.11.5"
  },
  "toc": {
   "base_numbering": 1,
   "nav_menu": {},
   "number_sections": true,
   "sideBar": true,
   "skip_h1_title": false,
   "title_cell": "Table of Contents",
   "title_sidebar": "Contents",
   "toc_cell": false,
   "toc_position": {},
   "toc_section_display": true,
   "toc_window_display": false
  },
  "vscode": {
   "interpreter": {
    "hash": "31f2aee4e71d21fbe5cf8b01ff0e069b9275f58929596ceb00d14d90e3e16cd6"
   }
  }
 },
 "nbformat": 4,
 "nbformat_minor": 5
}
