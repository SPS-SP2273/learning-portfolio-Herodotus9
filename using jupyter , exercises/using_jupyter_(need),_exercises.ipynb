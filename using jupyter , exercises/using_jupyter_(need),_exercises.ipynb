{
 "cells": [
  {
   "attachments": {},
   "cell_type": "markdown",
   "id": "123456",
   "metadata": {},
   "source": [
    "<div style=\"text-align:left;font-size:2em\"><span style=\"font-weight:bolder;font-size:1.25em\">SP2273 | Learning Portfolio</span><br><br><span style=\"font-weight:bold;color:darkred\">Using Jupyter (Need), Exercises</span></div>"
   ]
  },
  {
   "attachments": {},
   "cell_type": "markdown",
   "id": "94a65df4",
   "metadata": {},
   "source": [
    "## Quadratic Equations"
   ]
  },
  {
   "attachments": {},
   "cell_type": "markdown",
   "id": "5df0978f",
   "metadata": {},
   "source": [
    "### Introduction"
   ]
  },
  {
   "cell_type": "markdown",
   "id": "15b8cefd-a644-4f22-8c14-b11719fcb315",
   "metadata": {},
   "source": [
    "![](https://upload.wikimedia.org/wikipedia/commons/f/f8/Polynomialdeg2.svg)\n",
    "\n",
    "*(Image from the [Wikipedia page on Quadratic equations](https://en.wikipedia.org/wiki/Quadratic_equation))*\n",
    "\n",
    "The general form of a quadratic equation is:\n",
    "\n",
    " $ ax^2+ bx + c = 0 $\n"
   ]
  },
  {
   "attachments": {},
   "cell_type": "markdown",
   "id": "be8cb5aa",
   "metadata": {},
   "source": [
    "### Solutions"
   ]
  },
  {
   "cell_type": "markdown",
   "id": "b31412fa-a6ff-41d9-9b1e-b483b08994f0",
   "metadata": {},
   "source": [
    "Provided $a \\ne 0$, we can use an elementary algebraic method called [completing the square](https://en.wikipedia.org/wiki/Completing_the_square) to show that a quadratic equation has the following solution:\n",
    "\n",
    "$ x = \\dfrac{-b \\pm \\sqrt{b^2-4ac}}{2a} $"
   ]
  },
  {
   "attachments": {},
   "cell_type": "markdown",
   "id": "fc8c72f3",
   "metadata": {},
   "source": [
    "### Discriminant"
   ]
  },
  {
   "cell_type": "markdown",
   "id": "7340fcda-c2dd-4e38-aa40-3252fed7a6a9",
   "metadata": {},
   "source": [
    "The quantity $\\Delta = b^2 - 4ac$ is called the **discriminant** of the equation and decides the nature of its solutions. The table below shows the various possibilities.\n",
    "\n",
    "| **Discriminant**    |  **Roots**   |\n",
    "| :--- | :--: |\n",
    "| $$\\Delta = b^2 - 4ac = 0$$   |  A single solution of -b/(2a)  |  \n",
    "| $$\\Delta = b^2 - 4ac \\gt 0$$   |  Two distinct solutions  |  \n",
    "| $$\\Delta = b^2 - 4ac \\lt 0$$   |  No real solutions; both are complex.  |   \n",
    "\n"
   ]
  },
  {
   "cell_type": "markdown",
   "id": "62c5716d-c680-4ff8-8afa-48d3ddc018c7",
   "metadata": {},
   "source": [
    "**Exercise 2 (In your own words) ☻**\n",
    "\n",
    "Use a Markdown cell to answer the following.\n"
   ]
  },
  {
   "cell_type": "markdown",
   "id": "a05597c9-6dd2-4f0b-9cd4-f87f23e5c034",
   "metadata": {},
   "source": [
    "1. What is a Git **repository**?\n",
    "1. Git keeps tracks of ____BLANK____ in the files in our repository.\n",
    "1. What is a **commit**?\n",
    "1. What is a **push**?\n",
    "1. What is a **pull**?\n",
    "1. What is the difference between **GitHub** and **GitHub Desktop**?"
   ]
  },
  {
   "cell_type": "markdown",
   "id": "8a844bf1-5885-4574-8a5e-55b83191ba4a",
   "metadata": {},
   "source": [
    "1. It is a place to store files related to jupyter projects. It also contains the entire history of changes done to the file.\n",
    "1. Git keeps tracks of changes in the files in our repository.\n",
    "1. A commit is a snapshot of the changes made to the files in a local repository at a particular moment.\n",
    "1. A push is to send comitted changes to the file to a remote repository that is not local, allowing others to be able to access the file through a folder, which in this case is my learning portfolio-folder.\n",
    "1. A pull is to retrieve a committed file fron a remote repository and merging it with the same file in my local repository. This allows me to sync any changes made to the file when it is in the remote repository with the file in the local repository.\n",
    "1. Github Desktop provides a user interface that is easier and faster to use when compared to Github, a web platform. Functions like committing changes are easier to access when on Github Desktop.\n"
   ]
  },
  {
   "cell_type": "code",
   "execution_count": null,
   "id": "d39c60b1-3d3a-4c3e-a6dc-f8ef92129ace",
   "metadata": {},
   "outputs": [],
   "source": []
  }
 ],
 "metadata": {
  "kernelspec": {
   "display_name": "Python 3 (ipykernel)",
   "language": "python",
   "name": "python3"
  },
  "language_info": {
   "codemirror_mode": {
    "name": "ipython",
    "version": 3
   },
   "file_extension": ".py",
   "mimetype": "text/x-python",
   "name": "python",
   "nbconvert_exporter": "python",
   "pygments_lexer": "ipython3",
   "version": "3.11.5"
  },
  "toc": {
   "base_numbering": 1,
   "nav_menu": {},
   "number_sections": true,
   "sideBar": true,
   "skip_h1_title": false,
   "title_cell": "Table of Contents",
   "title_sidebar": "Contents",
   "toc_cell": false,
   "toc_position": {},
   "toc_section_display": true,
   "toc_window_display": false
  },
  "vscode": {
   "interpreter": {
    "hash": "31f2aee4e71d21fbe5cf8b01ff0e069b9275f58929596ceb00d14d90e3e16cd6"
   }
  }
 },
 "nbformat": 4,
 "nbformat_minor": 5
}
