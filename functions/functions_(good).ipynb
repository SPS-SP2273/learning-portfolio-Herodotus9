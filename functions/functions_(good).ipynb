{
 "cells": [
  {
   "attachments": {},
   "cell_type": "markdown",
   "id": "123456",
   "metadata": {},
   "source": [
    "<div style=\"text-align:left;font-size:2em\"><span style=\"font-weight:bolder;font-size:1.25em\">SP2273 | Learning Portfolio</span><br><br><span style=\"font-weight:bold;color:darkred\">Functions (Good)</span></div>"
   ]
  },
  {
   "cell_type": "code",
   "execution_count": 3,
   "id": "c0058391-bf99-4503-aba4-9c945de2c506",
   "metadata": {},
   "outputs": [],
   "source": [
    "#Do not copy and paste the content notes over. Try to phrase/summarize it in your own words and understanding."
   ]
  },
  {
   "attachments": {},
   "cell_type": "markdown",
   "id": "a518ebf5",
   "metadata": {},
   "source": [
    "# What to expect in this chapter"
   ]
  },
  {
   "cell_type": "markdown",
   "id": "1f589735-d2b3-4dee-b032-63792d8863cf",
   "metadata": {},
   "source": [
    "By the end of this chapter, you will know the difference between positional, keyword, and default arguments of functions. \n",
    "\n",
    "You can also write code that checks and handles potential problems."
   ]
  },
  {
   "attachments": {},
   "cell_type": "markdown",
   "id": "aa05dee4",
   "metadata": {},
   "source": [
    "# 1 Checks, balances, and contingencies"
   ]
  },
  {
   "cell_type": "markdown",
   "id": "f3abe322-2ea3-4954-a693-b2654a87f3d8",
   "metadata": {},
   "source": [
    "Users and programmers are not infallible, and you cannot think of everything that can go wrong. \n",
    "\n",
    "So, having checks, balances, and contingencies in your code is a good idea. So, let’s talk about pre-empting problems. \n",
    "\n",
    "This topic applies to more than just functions, but let’s start here.\n",
    "\n",
    "assert and try-except are ways to incorporate checks"
   ]
  },
  {
   "attachments": {},
   "cell_type": "markdown",
   "id": "28676e11",
   "metadata": {},
   "source": [
    "## 1.1 assert"
   ]
  },
  {
   "cell_type": "code",
   "execution_count": 6,
   "id": "c113b7d1-d0bd-4ab3-900e-896ae306bfef",
   "metadata": {},
   "outputs": [],
   "source": [
    "# Assert checks a condition and halts execution if condition is violated\n",
    "# While code is halted, you have the option to get the code to print a message\n",
    " \n",
    "#The basic syntax is as follows:\n",
    "# assert \"condition\", message you want to show\n",
    "\n",
    "x = 1\n",
    "\n",
    "assert x >= 0, \"x is becoming negative!\"\n"
   ]
  },
  {
   "cell_type": "code",
   "execution_count": 8,
   "id": "74da386c-226f-4dac-89c3-ffd14ff6ad40",
   "metadata": {},
   "outputs": [],
   "source": [
    "#The program will run for as long as the condition x>=0 is True. \n",
    "#If it fails, then an AssertationError is raised, and the program stops running!\n",
    "\n",
    "x = 10\n",
    "assert x >= 0, \"x is becoming negative!\""
   ]
  },
  {
   "cell_type": "code",
   "execution_count": 23,
   "id": "4e8a4fa7-81b7-4173-b429-60cc1084b73a",
   "metadata": {},
   "outputs": [
    {
     "ename": "AssertionError",
     "evalue": "x is becoming negative!",
     "output_type": "error",
     "traceback": [
      "\u001b[1;31m---------------------------------------------------------------------------\u001b[0m",
      "\u001b[1;31mAssertionError\u001b[0m                            Traceback (most recent call last)",
      "Cell \u001b[1;32mIn[23], line 2\u001b[0m\n\u001b[0;32m      1\u001b[0m x \u001b[38;5;241m=\u001b[39m \u001b[38;5;241m-\u001b[39m\u001b[38;5;241m1\u001b[39m\n\u001b[1;32m----> 2\u001b[0m \u001b[38;5;28;01massert\u001b[39;00m x \u001b[38;5;241m>\u001b[39m\u001b[38;5;241m=\u001b[39m \u001b[38;5;241m0\u001b[39m, \u001b[38;5;124m\"\u001b[39m\u001b[38;5;124mx is becoming negative!\u001b[39m\u001b[38;5;124m\"\u001b[39m\n",
      "\u001b[1;31mAssertionError\u001b[0m: x is becoming negative!"
     ]
    }
   ],
   "source": [
    "x = -1\n",
    "assert x >= 0, \"x is becoming negative!\""
   ]
  },
  {
   "cell_type": "markdown",
   "id": "c99d8e0e-2c35-4db4-98b7-1beaff823e2e",
   "metadata": {},
   "source": [
    "## 1.2 try-except"
   ]
  },
  {
   "cell_type": "markdown",
   "id": "075d2da0-e5c7-4287-95f0-07d648807944",
   "metadata": {},
   "source": [
    "Exception\n",
    "\n",
    "For example, division by zero will raise a ZeroDivisionError\n",
    "\n",
    "try-except syntax ensures that your programme can handle some situations beyond your control. \n",
    "\n",
    "Example: try-except can be used to handle situations when Canvas server does not respond to Python code"
   ]
  },
  {
   "cell_type": "code",
   "execution_count": 9,
   "id": "8b488a1d-7ee4-43d6-a362-512be2c89e29",
   "metadata": {},
   "outputs": [
    {
     "name": "stdin",
     "output_type": "stream",
     "text": [
      "Give me a number and I will calculate its square. rrr\n"
     ]
    },
    {
     "ename": "ValueError",
     "evalue": "invalid literal for int() with base 10: 'rrr'",
     "output_type": "error",
     "traceback": [
      "\u001b[1;31m---------------------------------------------------------------------------\u001b[0m",
      "\u001b[1;31mValueError\u001b[0m                                Traceback (most recent call last)",
      "Cell \u001b[1;32mIn[9], line 2\u001b[0m\n\u001b[0;32m      1\u001b[0m number\u001b[38;5;241m=\u001b[39m\u001b[38;5;28minput\u001b[39m(\u001b[38;5;124m\"\u001b[39m\u001b[38;5;124mGive me a number and I will calculate its square.\u001b[39m\u001b[38;5;124m\"\u001b[39m)\n\u001b[1;32m----> 2\u001b[0m square\u001b[38;5;241m=\u001b[39m\u001b[38;5;28;43mint\u001b[39;49m\u001b[43m(\u001b[49m\u001b[43mnumber\u001b[49m\u001b[43m)\u001b[49m\u001b[38;5;241m*\u001b[39m\u001b[38;5;241m*\u001b[39m\u001b[38;5;241m2\u001b[39m              \u001b[38;5;66;03m# Convert English to number\u001b[39;00m\n\u001b[0;32m      3\u001b[0m \u001b[38;5;28mprint\u001b[39m(\u001b[38;5;124mf\u001b[39m\u001b[38;5;124m'\u001b[39m\u001b[38;5;124mThe square of \u001b[39m\u001b[38;5;132;01m{\u001b[39;00mnumber\u001b[38;5;132;01m}\u001b[39;00m\u001b[38;5;124m is \u001b[39m\u001b[38;5;132;01m{\u001b[39;00msquare\u001b[38;5;132;01m}\u001b[39;00m\u001b[38;5;124m!\u001b[39m\u001b[38;5;124m'\u001b[39m)\n\u001b[0;32m      5\u001b[0m \u001b[38;5;66;03m#This will work fine if the typecasting int(number) makes sense. What if the input is not a number but something else like ‘hahaha’?\u001b[39;00m\n\u001b[0;32m      6\u001b[0m \u001b[38;5;66;03m#A ValueError is raised since 'rrr' are alphabets and not integers 'int'\u001b[39;00m\n",
      "\u001b[1;31mValueError\u001b[0m: invalid literal for int() with base 10: 'rrr'"
     ]
    }
   ],
   "source": [
    "number=input(\"Give me a number and I will calculate its square.\")\n",
    "square=int(number)**2              # Convert English to number\n",
    "print(f'The square of {number} is {square}!')\n",
    "\n",
    "#This will work fine if the typecasting int(number) makes sense. What if the input is not a number but something else like ‘hahaha’?\n",
    "#A ValueError is raised since 'rrr' are alphabets and not integers 'int'"
   ]
  },
  {
   "cell_type": "code",
   "execution_count": 28,
   "id": "79c6cde8-937d-45f1-8220-9bd5e0e13346",
   "metadata": {},
   "outputs": [
    {
     "name": "stdin",
     "output_type": "stream",
     "text": [
      "Give me a number and I will calculate its square. rgtgg\n"
     ]
    },
    {
     "name": "stdout",
     "output_type": "stream",
     "text": [
      "Oh oh! I cannot square rgtgg!\n"
     ]
    }
   ],
   "source": [
    "try:\n",
    "    number=input(\"Give me a number and I will calculate its square.\")\n",
    "    square=int(number)**2\n",
    "    print(f'The square of {number} is {square}!')\n",
    "except:\n",
    "    print(f\"Oh oh! I cannot square {number}!\")"
   ]
  },
  {
   "attachments": {},
   "cell_type": "markdown",
   "id": "bce8e14e",
   "metadata": {},
   "source": [
    "## 1.3 A simple suggestion"
   ]
  },
  {
   "cell_type": "markdown",
   "id": "e35e35a2-10c9-44ae-89d8-48e7753973ff",
   "metadata": {},
   "source": [
    "When starting out with some code, it is always good for your code to signal to the outside world that it has finished certain milestones. \n",
    "\n",
    "A ‘soft’ way to do this is to include ‘print()’ statements here and there to let the outside world know what is happening in the innards of your program. \n",
    "\n",
    "Otherwise, you will stare at a blank cell, wondering what is happening."
   ]
  },
  {
   "attachments": {},
   "cell_type": "markdown",
   "id": "004ad7e4",
   "metadata": {},
   "source": [
    "# 2 Some loose ends"
   ]
  },
  {
   "attachments": {},
   "cell_type": "markdown",
   "id": "8942d2ae",
   "metadata": {},
   "source": [
    "## 2.1 Positional, keyword and default arguments"
   ]
  },
  {
   "cell_type": "markdown",
   "id": "2ebf8cc3-20ef-4255-a96d-b6e5105feacb",
   "metadata": {},
   "source": [
    "There are three ‘ways’ to pass a value to an argument: positional, keyword or default. "
   ]
  },
  {
   "cell_type": "code",
   "execution_count": 11,
   "id": "da5e2ba6-4a8e-415d-8438-6ae08d44b8c2",
   "metadata": {},
   "outputs": [],
   "source": [
    "def side_by_side(a, b, c=42):\n",
    "    return f'{a: 2d}|{b: 2d}|{c: 2d}'"
   ]
  },
  {
   "cell_type": "code",
   "execution_count": 12,
   "id": "9121fea1-4363-4933-834e-2515b325e1ca",
   "metadata": {},
   "outputs": [
    {
     "data": {
      "text/plain": [
       "' 1| 2| 3'"
      ]
     },
     "execution_count": 12,
     "metadata": {},
     "output_type": "execute_result"
    }
   ],
   "source": [
    "#Positional\n",
    "side_by_side(1, 2, 3)\n",
    "\n",
    "#I am telling Python to assign 1, 2, 3 to a, b, c using the positional order of the arguments."
   ]
  },
  {
   "cell_type": "code",
   "execution_count": 13,
   "id": "ee32ebf2-21b4-4119-abc9-3115423b6043",
   "metadata": {},
   "outputs": [
    {
     "data": {
      "text/plain": [
       "' 2| 1| 3'"
      ]
     },
     "execution_count": 13,
     "metadata": {},
     "output_type": "execute_result"
    }
   ],
   "source": [
    "#Keywords\n",
    "side_by_side(c=3, b=1, a=2)\n",
    "\n",
    "#I explicitly specify the keyword to assign the values to each of a, b, c. (order does not matter as shown above)"
   ]
  },
  {
   "cell_type": "code",
   "execution_count": 14,
   "id": "909d5c64-d3d1-4f3f-b832-9e2a71473b06",
   "metadata": {},
   "outputs": [
    {
     "data": {
      "text/plain": [
       "' 1| 2| 42'"
      ]
     },
     "execution_count": 14,
     "metadata": {},
     "output_type": "execute_result"
    }
   ],
   "source": [
    "#Default\n",
    "side_by_side(1, b=2)\n",
    "\n",
    "#Here, since c is optional, I can choose not to specify it (of course, provided I want c to be 1).\n",
    "#Note how Positional and keywords can be used to ignore the function above, where c=42. In both these cases, c has become other values c=3\n",
    "#Default just let the interpreter assumed the values of a,b,c. which are 1,2,42 respectively."
   ]
  },
  {
   "cell_type": "code",
   "execution_count": 27,
   "id": "88b3aace-5e9e-4410-83cb-7c6ef76908a8",
   "metadata": {},
   "outputs": [
    {
     "ename": "SyntaxError",
     "evalue": "positional argument follows keyword argument (4255613694.py, line 4)",
     "output_type": "error",
     "traceback": [
      "\u001b[1;36m  Cell \u001b[1;32mIn[27], line 4\u001b[1;36m\u001b[0m\n\u001b[1;33m    side_byside(a=42,2)\u001b[0m\n\u001b[1;37m                      ^\u001b[0m\n\u001b[1;31mSyntaxError\u001b[0m\u001b[1;31m:\u001b[0m positional argument follows keyword argument\n"
     ]
    }
   ],
   "source": [
    "#You can mix and match these three styles. \n",
    "#NOTE: one specific style (keyword followed by positional) confuses Python and won’t work.\n",
    "\n",
    "side_byside(a=42,2)"
   ]
  },
  {
   "cell_type": "code",
   "execution_count": 17,
   "id": "e33f2a6c-cb10-43fd-b27d-c1ddf30b8c83",
   "metadata": {},
   "outputs": [
    {
     "data": {
      "text/plain": [
       "' 1| 2| 42'"
      ]
     },
     "execution_count": 17,
     "metadata": {},
     "output_type": "execute_result"
    }
   ],
   "source": [
    "side_by_side(1, 2)           # Two positional, 1 default"
   ]
  },
  {
   "cell_type": "code",
   "execution_count": 19,
   "id": "188c3602-e19f-4a8d-90dd-60f18b23c13a",
   "metadata": {},
   "outputs": [
    {
     "data": {
      "text/plain": [
       "' 1| 2| 3'"
      ]
     },
     "execution_count": 19,
     "metadata": {},
     "output_type": "execute_result"
    }
   ],
   "source": [
    "side_by_side(1, 2, 3)        # Three positional"
   ]
  },
  {
   "cell_type": "code",
   "execution_count": 20,
   "id": "ba4b2ec1-726c-4c0b-9608-63e4f60bb192",
   "metadata": {},
   "outputs": [
    {
     "data": {
      "text/plain": [
       "' 1| 2| 42'"
      ]
     },
     "execution_count": 20,
     "metadata": {},
     "output_type": "execute_result"
    }
   ],
   "source": [
    "side_by_side(a=1, b=2)       # Two keyword, 1 default"
   ]
  },
  {
   "cell_type": "code",
   "execution_count": 21,
   "id": "d9015abd-d766-4aca-a154-57ee41775f8e",
   "metadata": {},
   "outputs": [
    {
     "data": {
      "text/plain": [
       "' 2| 1| 3'"
      ]
     },
     "execution_count": 21,
     "metadata": {},
     "output_type": "execute_result"
    }
   ],
   "source": [
    "side_by_side(c=3, b=1, a=2)  # Three keyword"
   ]
  },
  {
   "cell_type": "code",
   "execution_count": 22,
   "id": "9030ddf7-3430-4640-9a03-bb7f809c5748",
   "metadata": {},
   "outputs": [
    {
     "data": {
      "text/plain": [
       "' 1| 2| 3'"
      ]
     },
     "execution_count": 22,
     "metadata": {},
     "output_type": "execute_result"
    }
   ],
   "source": [
    "side_by_side(1, c=3, b=2)    # One positional, 2 keyword"
   ]
  },
  {
   "cell_type": "code",
   "execution_count": 23,
   "id": "155eadcd-f841-44da-a65b-9d5fdce11329",
   "metadata": {},
   "outputs": [
    {
     "data": {
      "text/plain": [
       "' 1| 2| 42'"
      ]
     },
     "execution_count": 23,
     "metadata": {},
     "output_type": "execute_result"
    }
   ],
   "source": [
    "side_by_side(1, b=2)         # One positional, 1 keyword, 1 default"
   ]
  },
  {
   "cell_type": "code",
   "execution_count": 28,
   "id": "6ffa6db1-b95b-4592-b728-92f92affb979",
   "metadata": {},
   "outputs": [
    {
     "ename": "SyntaxError",
     "evalue": "positional argument follows keyword argument (426807980.py, line 4)",
     "output_type": "error",
     "traceback": [
      "\u001b[1;36m  Cell \u001b[1;32mIn[28], line 4\u001b[1;36m\u001b[0m\n\u001b[1;33m    side_by_side(a=2, 1)\u001b[0m\n\u001b[1;37m                       ^\u001b[0m\n\u001b[1;31mSyntaxError\u001b[0m\u001b[1;31m:\u001b[0m positional argument follows keyword argument\n"
     ]
    }
   ],
   "source": [
    "#The specific style will not work because Python cannot unambiguously determine the position of 1\n",
    "\n",
    "# Keywords cannot be followed by positional arguments\n",
    "side_by_side(a=2, 1)          \n",
    "\n",
    "#SyntaxError: positional argument follows keyword argument"
   ]
  },
  {
   "attachments": {},
   "cell_type": "markdown",
   "id": "17ad55f9",
   "metadata": {},
   "source": [
    "## 2.2 Docstrings"
   ]
  },
  {
   "cell_type": "code",
   "execution_count": 31,
   "id": "6328e656-8c1b-4a14-b3ab-417759147847",
   "metadata": {},
   "outputs": [],
   "source": [
    "#Python has a docstring feature that allows us to document what a function does inside the function. \n",
    "\n",
    "def side_by_side(a, b, c=42):\n",
    "    '''\n",
    "    A test function to demonstrate how \n",
    "    positional, keyword and default arguments \n",
    "    work.\n",
    "    '''\n",
    "    return f'{a: 2d}|{b: 2d}|{c: 2d}'"
   ]
  },
  {
   "cell_type": "markdown",
   "id": "921b0bbd-51af-40dc-9d3f-bdc6a3a4a634",
   "metadata": {},
   "source": [
    "A docstring needs to be sandwiched between a pair of ''' (or \"\"\") and can span multiple lines."
   ]
  },
  {
   "cell_type": "code",
   "execution_count": 32,
   "id": "11d66339-dd8a-4d7d-b52e-a530694937cf",
   "metadata": {},
   "outputs": [
    {
     "name": "stdout",
     "output_type": "stream",
     "text": [
      "Help on function side_by_side in module __main__:\n",
      "\n",
      "side_by_side(a, b, c=42)\n",
      "    A test function to demonstrate how \n",
      "    positional, keyword and default arguments \n",
      "    work.\n",
      "\n"
     ]
    }
   ],
   "source": [
    "help(side_by_side)\n",
    "\n",
    "#Docstrings can be used for writing multiline comments, but the practice is frowned upon by Puritans; so if you misuse it be ready for their ire!"
   ]
  },
  {
   "cell_type": "code",
   "execution_count": 39,
   "id": "531eecf4-2131-4d01-82ef-d2595b06be34",
   "metadata": {},
   "outputs": [
    {
     "name": "stdout",
     "output_type": "stream",
     "text": [
      "Help on function now in module __main__:\n",
      "\n",
      "now(a, b, c=478082)\n",
      "    Lime\n",
      "    In\n",
      "    The\n",
      "    Coconut\n",
      "    \n",
      "    print(banan)\n",
      "\n"
     ]
    }
   ],
   "source": [
    "def now(a, b, c=478082):\n",
    "    '''\n",
    "    Lime\n",
    "    In\n",
    "    The\n",
    "    Coconut\n",
    "\n",
    "    print(banan)\n",
    "    '''\n",
    "    return f'{a: 2d}|{b: 2d}|{c: 2d}'\n",
    "\n",
    "help(now)"
   ]
  },
  {
   "attachments": {},
   "cell_type": "markdown",
   "id": "c4371d23",
   "metadata": {},
   "source": [
    "## 2.3 Function are first-class citizens"
   ]
  },
  {
   "cell_type": "code",
   "execution_count": 44,
   "id": "39779355-c294-4fec-bd7d-e53d7497ca53",
   "metadata": {},
   "outputs": [],
   "source": [
    "#Python functions are called first-class citizens because they have the same privileges as variables. \n",
    "#This opens up useful possibilities for scientific programming because we can pass a function as an argument to another function!\n",
    "\n",
    "import numpy as np\n",
    "\n",
    "def my_function(angle, trig_function):\n",
    "        return trig_function(angle)\n",
    "\n",
    "#Note: When we pass a function as an argument, we do not include the parenthesis ()."
   ]
  },
  {
   "cell_type": "code",
   "execution_count": 41,
   "id": "0178844d-cfc7-4ac3-9bed-fbc8183fcd4f",
   "metadata": {},
   "outputs": [
    {
     "data": {
      "text/plain": [
       "1.0"
      ]
     },
     "execution_count": 41,
     "metadata": {},
     "output_type": "execute_result"
    }
   ],
   "source": [
    "my_function(np.pi/2, np.sin) "
   ]
  },
  {
   "cell_type": "code",
   "execution_count": 45,
   "id": "23077d0b-46ac-42df-83cf-afdc4adf91f7",
   "metadata": {},
   "outputs": [
    {
     "name": "stdout",
     "output_type": "stream",
     "text": [
      "1.0\n"
     ]
    }
   ],
   "source": [
    "x=np.sin(np.pi/2)\n",
    "print(x)"
   ]
  },
  {
   "cell_type": "code",
   "execution_count": 42,
   "id": "02d8557d-5014-462f-b3b9-f1649510398d",
   "metadata": {},
   "outputs": [
    {
     "data": {
      "text/plain": [
       "6.123233995736766e-17"
      ]
     },
     "execution_count": 42,
     "metadata": {},
     "output_type": "execute_result"
    }
   ],
   "source": [
    "my_function(np.pi/2, np.cos) "
   ]
  },
  {
   "cell_type": "code",
   "execution_count": 43,
   "id": "ef4e6c2f-1a37-4227-ae49-cfe1160ec701",
   "metadata": {},
   "outputs": [
    {
     "data": {
      "text/plain": [
       "-1.0"
      ]
     },
     "execution_count": 43,
     "metadata": {},
     "output_type": "execute_result"
    }
   ],
   "source": [
    "my_function(np.pi/2, lambda x: np.cos(2*x))  "
   ]
  },
  {
   "attachments": {},
   "cell_type": "markdown",
   "id": "3ef4a05d",
   "metadata": {},
   "source": [
    "## 2.4 More about unpacking"
   ]
  },
  {
   "cell_type": "code",
   "execution_count": 48,
   "id": "b860fef1-c885-45e8-b06d-181021f2d88e",
   "metadata": {},
   "outputs": [
    {
     "data": {
      "text/plain": [
       "(1, 2, 3)"
      ]
     },
     "execution_count": 48,
     "metadata": {},
     "output_type": "execute_result"
    }
   ],
   "source": [
    "#There is more to unpacking. For example, unpacking can make extracting information from lists and arrays a breeze. Here are some examples.\n",
    "\n",
    "x, y, z = [1, 2, 3]\n",
    "x, y, z"
   ]
  },
  {
   "cell_type": "code",
   "execution_count": 49,
   "id": "93154989-7321-4a69-898d-1d85b0e384b5",
   "metadata": {},
   "outputs": [
    {
     "data": {
      "text/plain": [
       "(1, 2, 3)"
      ]
     },
     "execution_count": 49,
     "metadata": {},
     "output_type": "execute_result"
    }
   ],
   "source": [
    "x, y, z = np.array([1, 2, 3])\n",
    "x, y, z"
   ]
  },
  {
   "cell_type": "code",
   "execution_count": 50,
   "id": "35824333-8f8d-4af7-bf7f-48b635f32067",
   "metadata": {},
   "outputs": [
    {
     "data": {
      "text/plain": [
       "(1, [2, 3, 4], 5)"
      ]
     },
     "execution_count": 50,
     "metadata": {},
     "output_type": "execute_result"
    }
   ],
   "source": [
    "x, *y, z = np.array([1, 2, 3, 4, 5])\n",
    "x, y, z"
   ]
  },
  {
   "cell_type": "code",
   "execution_count": 51,
   "id": "ba31655d-02cd-4e72-ac8e-48a050e38f97",
   "metadata": {},
   "outputs": [
    {
     "data": {
      "text/plain": [
       "(1, 5)"
      ]
     },
     "execution_count": 51,
     "metadata": {},
     "output_type": "execute_result"
    }
   ],
   "source": [
    "x, *_, y = [1, 2, 3, 4, 5]\n",
    "x, y"
   ]
  },
  {
   "cell_type": "markdown",
   "id": "767a79cf-aa28-4496-900d-a410da3ee0cc",
   "metadata": {},
   "source": [
    "    What does the asterisk * do?\n",
    "        - In Python, the * is used to unpack elements from a list, tuple or other iterables into variables.\n",
    "        - In the example above, the * is used to unpack values between x and y into the _.\n",
    "        - First value goes into x and last value goes into y\n",
    "        - x is assigned 1 and y is assigned 5, _ is thus assigned [2,3,4]\n",
    "    \n",
    "    What is _ and what purpose does it serve?\n",
    "        - _ is to indicate that a value is being intentionally ignored or not used in the code\n",
    "        - When seeing _ in code, the coder is showing that the values unpacked into that variable is not of interest"
   ]
  },
  {
   "cell_type": "code",
   "execution_count": 2,
   "id": "68e7c9bf-c2df-4f81-8cbc-a7515458d33d",
   "metadata": {},
   "outputs": [
    {
     "data": {
      "text/plain": [
       "(1, 5, [2, 3, 4])"
      ]
     },
     "execution_count": 2,
     "metadata": {},
     "output_type": "execute_result"
    }
   ],
   "source": [
    "x, *_, y = [1, 2, 3, 4, 5]\n",
    "x, y,_"
   ]
  },
  {
   "cell_type": "markdown",
   "id": "0d67b826-0b32-4794-bce3-42f338563c10",
   "metadata": {},
   "source": [
    "     What happens when line 2 is changed to x,y,_ ?\n",
    "        -  The interpreter outputs the value assigned to each variable in that order, which is shown above\n",
    "        - Note that when multiple values are unpacked into a vairable, it is in the form of a list. \n",
    "        - This is seen in the [2,3,4] in the output when _ in invoked"
   ]
  }
 ],
 "metadata": {
  "kernelspec": {
   "display_name": "Python 3 (ipykernel)",
   "language": "python",
   "name": "python3"
  },
  "language_info": {
   "codemirror_mode": {
    "name": "ipython",
    "version": 3
   },
   "file_extension": ".py",
   "mimetype": "text/x-python",
   "name": "python",
   "nbconvert_exporter": "python",
   "pygments_lexer": "ipython3",
   "version": "3.11.5"
  },
  "toc": {
   "base_numbering": 1,
   "nav_menu": {},
   "number_sections": true,
   "sideBar": true,
   "skip_h1_title": false,
   "title_cell": "Table of Contents",
   "title_sidebar": "Contents",
   "toc_cell": false,
   "toc_position": {},
   "toc_section_display": true,
   "toc_window_display": false
  },
  "vscode": {
   "interpreter": {
    "hash": "31f2aee4e71d21fbe5cf8b01ff0e069b9275f58929596ceb00d14d90e3e16cd6"
   }
  }
 },
 "nbformat": 4,
 "nbformat_minor": 5
}
