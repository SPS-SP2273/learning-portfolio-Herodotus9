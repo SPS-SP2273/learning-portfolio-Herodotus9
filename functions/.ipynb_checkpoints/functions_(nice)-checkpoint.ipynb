{
 "cells": [
  {
   "attachments": {},
   "cell_type": "markdown",
   "id": "123456",
   "metadata": {},
   "source": [
    "<div style=\"text-align:left;font-size:2em\"><span style=\"font-weight:bolder;font-size:1.25em\">SP2273 | Learning Portfolio</span><br><br><span style=\"font-weight:bold;color:darkred\">Functions (Nice)</span></div>"
   ]
  },
  {
   "attachments": {},
   "cell_type": "markdown",
   "id": "a7264f01",
   "metadata": {},
   "source": [
    "# 1 Modularise and reuse"
   ]
  },
  {
   "attachments": {},
   "cell_type": "markdown",
   "id": "45e4d7c2",
   "metadata": {},
   "source": [
    "# 2 The many ways to pass arguments"
   ]
  },
  {
   "attachments": {},
   "cell_type": "markdown",
   "id": "bb64f74c",
   "metadata": {},
   "source": [
    "## 2.1 *args & **kwarg"
   ]
  },
  {
   "cell_type": "markdown",
   "id": "65828af6-c4b0-4489-b15b-c1e7e4c6a01a",
   "metadata": {},
   "source": [
    "You will often see the syntax *args and **kwarg. \n",
    "\n",
    "These stand for arguments and keyword arguments, respectively. \n",
    "\n",
    "They allow us flexible ways of using unpacking and dictionaries to pass information to functions. Let’s see how to do this.\n",
    "\n",
    "        args handles positional arguments as a tuple.\n",
    "    kwargs handles keyword arguments as a dictionary."
   ]
  },
  {
   "attachments": {},
   "cell_type": "markdown",
   "id": "72742e79",
   "metadata": {},
   "source": [
    "### *args"
   ]
  },
  {
   "cell_type": "code",
   "execution_count": 2,
   "id": "4ba7dc95",
   "metadata": {},
   "outputs": [
    {
     "data": {
      "text/plain": [
       "2"
      ]
     },
     "execution_count": 2,
     "metadata": {},
     "output_type": "execute_result"
    }
   ],
   "source": [
    "def multiply(x, y):\n",
    "    return x * y\n",
    "\n",
    "numbers = [1, 2]\n",
    "multiply(*numbers)\n",
    "\n",
    "#We can use unpacking to make passing arguments to functions a breeze!\n",
    "\n",
    "#The * is essential! Without this, Python will assign x=numbers and complain that y is missing."
   ]
  },
  {
   "cell_type": "code",
   "execution_count": 4,
   "id": "b04157ae-53a5-4457-81cb-98cd1e432552",
   "metadata": {},
   "outputs": [
    {
     "data": {
      "text/plain": [
       "6"
      ]
     },
     "execution_count": 4,
     "metadata": {},
     "output_type": "execute_result"
    }
   ],
   "source": [
    "def multiply(*args):\n",
    "    result = 1\n",
    "    for number in args:\n",
    "        result *= number\n",
    "\n",
    "    return result\n",
    "\n",
    "numbers = [1, 2, 3]\n",
    "multiply(*numbers)"
   ]
  },
  {
   "cell_type": "code",
   "execution_count": 6,
   "id": "baee02a5-b30a-4305-8197-3c4e03e56bfe",
   "metadata": {},
   "outputs": [
    {
     "data": {
      "text/plain": [
       "720"
      ]
     },
     "execution_count": 6,
     "metadata": {},
     "output_type": "execute_result"
    }
   ],
   "source": [
    "#What if we want our function to multiply more than two numbers?\n",
    "\n",
    "multiply(1, 2, 3, 4, 5,6)"
   ]
  },
  {
   "attachments": {},
   "cell_type": "markdown",
   "id": "9b3a2497",
   "metadata": {},
   "source": [
    "### **kwargs"
   ]
  },
  {
   "cell_type": "code",
   "execution_count": 8,
   "id": "c0b1789f",
   "metadata": {},
   "outputs": [
    {
     "data": {
      "text/plain": [
       "6"
      ]
     },
     "execution_count": 8,
     "metadata": {},
     "output_type": "execute_result"
    }
   ],
   "source": [
    "def multiply(x, y, z):\n",
    "    return x * y * z\n",
    "\n",
    "# Let's use the function\n",
    "numbers = {'x': 1, 'y': 2, 'z': 3}\n",
    "multiply(**numbers)"
   ]
  },
  {
   "cell_type": "code",
   "execution_count": 10,
   "id": "5bcfe4fa-ef09-40c8-9f7b-bbc52cee4d4f",
   "metadata": {},
   "outputs": [
    {
     "data": {
      "text/plain": [
       "6"
      ]
     },
     "execution_count": 10,
     "metadata": {},
     "output_type": "execute_result"
    }
   ],
   "source": [
    "#We can also pass keyword arguments using a dictionary:\n",
    "\n",
    "#The ** is essential!\n",
    "\n",
    "def multiply(x, y, z):\n",
    "    return x * y * z\n",
    "\n",
    "# Let's use the function\n",
    "numbers = {'y': 2, 'z': 3}\n",
    "multiply(1, **numbers)"
   ]
  },
  {
   "cell_type": "code",
   "execution_count": 12,
   "id": "3499d3b7-df95-435f-82f3-35cc324de20f",
   "metadata": {},
   "outputs": [
    {
     "data": {
      "text/plain": [
       "30"
      ]
     },
     "execution_count": 12,
     "metadata": {},
     "output_type": "execute_result"
    }
   ],
   "source": [
    "#We can mix positional arguments and a dictionary!\n",
    "\n",
    "def add_powers(numbers, power):\n",
    "    result = 0\n",
    "    for number in numbers:\n",
    "        result += number**power\n",
    "\n",
    "    return result\n",
    "\n",
    "# Let's use the function\n",
    "kwargs = {'numbers': [1, 2, 3, 4], 'power': 2}\n",
    "add_powers(**kwargs)"
   ]
  },
  {
   "cell_type": "code",
   "execution_count": 16,
   "id": "601bf09c-e51b-434c-a193-0ed5652a74b7",
   "metadata": {},
   "outputs": [
    {
     "data": {
      "text/plain": [
       "14"
      ]
     },
     "execution_count": 16,
     "metadata": {},
     "output_type": "execute_result"
    }
   ],
   "source": [
    "def add_powers(**kwargs):\n",
    "    numbers = kwargs['numbers']\n",
    "    power = kwargs['power']\n",
    "\n",
    "    result = 0\n",
    "    for number in numbers:\n",
    "        result += number**power\n",
    "\n",
    "    return result\n",
    "\n",
    "\n",
    "# Let's use the function\n",
    "add_powers(numbers=[1, 2, 3], power=2)\n"
   ]
  },
  {
   "cell_type": "code",
   "execution_count": 18,
   "id": "50a7cc7d-9210-40e8-a893-64a26e5b838c",
   "metadata": {},
   "outputs": [
    {
     "data": {
      "text/plain": [
       "36"
      ]
     },
     "execution_count": 18,
     "metadata": {},
     "output_type": "execute_result"
    }
   ],
   "source": [
    "#We can also set up our function to accept any keyword arguments!\n",
    "kwargs = {'numbers': [1, 2, 3], 'power': 3}\n",
    "add_powers(**kwargs)"
   ]
  },
  {
   "attachments": {},
   "cell_type": "markdown",
   "id": "af9da3fe",
   "metadata": {},
   "source": [
    "# 3 Gotchas with passing variables to functions"
   ]
  },
  {
   "attachments": {},
   "cell_type": "markdown",
   "id": "4f4c9a5f",
   "metadata": {},
   "source": [
    "## 3.1 The Problem"
   ]
  },
  {
   "cell_type": "code",
   "execution_count": 21,
   "id": "c41e6c73-9931-4e1f-b700-f0ff3257cd8a",
   "metadata": {},
   "outputs": [
    {
     "name": "stdout",
     "output_type": "stream",
     "text": [
      "BEFORE|\tNumber: 10, Array: [10], List: [10]\n",
      "Doing something!\n",
      "AFTER|\tNumber: 10, Array: [20], List: [10, 10]\n"
     ]
    }
   ],
   "source": [
    "import numpy as np\n",
    "\n",
    "def do_something(inside_number, inside_array, inside_list):\n",
    "    print('Doing something!')\n",
    "    inside_number *= 2\n",
    "    inside_array *= 2\n",
    "    inside_list *= 2\n",
    "\n",
    "outside_number=10\n",
    "outside_array=np.array([10])\n",
    "outside_list=[10]\n",
    "\n",
    "print(f\"BEFORE|\\tNumber: {outside_number}, Array: {outside_array}, List: {outside_list}\")\n",
    "do_something(outside_number, outside_list, outside_array)\n",
    "print(f\"AFTER|\\tNumber: {outside_number}, Array: {outside_array}, List: {outside_list}\")\n",
    "\n",
    "#So, the function has changed the values of some variable outside the function! But, not all variables are affected."
   ]
  },
  {
   "attachments": {},
   "cell_type": "markdown",
   "id": "416c92c7",
   "metadata": {},
   "source": [
    "## 3.2 An Explanation"
   ]
  },
  {
   "cell_type": "markdown",
   "id": "ae6f2542-8ec1-4913-b075-62eb45a14a06",
   "metadata": {},
   "source": [
    "For ‘immutable’ variables, what happens inside the function does not change the variable outside. In other languages, this behaviour is called passing by value.\n",
    "- Immutable variables are those whose values cannot be changed after they are created.\n",
    "- Common examples of immutable data types in Python include integers, floats, strings, tuples, and frozensets.\n",
    "- When you modify an immutable variable, what happens is you're actually creating a new object rather than modifying the original one.\n",
    "- 1 example is x = x+1, a new int has been created, which the x now refers to.\n",
    "\n",
    "For ‘mutable’ variables, what happens inside the function does change the variable outside. In other languages, this behaviour is called passing by reference.\n",
    "- Mutable variables are those whose values can be changed after they are created.\n",
    "- Common examples of mutable data types in Python include lists, dictionaries, sets, and instances of custom classes.\n",
    "- When you modify a mutable variable, you're actually modifying the original object.\n",
    "\n",
    "So, in Python, you must be very careful about the mutability of the variable you are passing. Otherwise, you will spend a long time trying to understand why your code is acting weird."
   ]
  },
  {
   "attachments": {},
   "cell_type": "markdown",
   "id": "ea1c472d",
   "metadata": {},
   "source": [
    "# 4 There is more to exceptions"
   ]
  },
  {
   "attachments": {},
   "cell_type": "markdown",
   "id": "d67e5a15",
   "metadata": {},
   "source": [
    "## 4.1 A list of exceptions"
   ]
  },
  {
   "cell_type": "markdown",
   "id": "44bbc484-189d-4052-b303-0ec0195310a4",
   "metadata": {},
   "source": [
    "| Exception           | Description                                                                                        |\n",
    "|---------------------|----------------------------------------------------------------------------------------------------|\n",
    "| AssertionError     | Raised when the assert statement fails.                                                             |\n",
    "| AttributeError     | Raised on the attribute assignment or reference fails.                                               |\n",
    "| EOFError            | Raised when the input() function hits the end-of-file condition.                                      |\n",
    "| FloatingPointError | Raised when a floating point operation fails.                                                        |\n",
    "| ImportError        | Raised when the imported module is not found.                                                        |\n",
    "| IndexError         | Raised when the index of a sequence is out of range.                                                 |\n",
    "| KeyError           | Raised when a key is not found in a dictionary.                                                      |\n",
    "| NameError          | Raised when a variable is not found in the local or global scope.                                     |\n",
    "| OSError            | Raised when a system operation causes a system-related error.                                         |\n",
    "| OverflowError      | Raised when the result of an arithmetic operation is too large to be represented.                     |\n",
    "| RuntimeError       | Raised when an error does not fall under any other category.                                          |\n",
    "| SyntaxError        | Raised by the parser when a syntax error is encountered.                                              |\n",
    "| IndentationError   | Raised when there is an incorrect indentation.                                                        |\n",
    "| SystemError        | Raised when the interpreter detects internal error.                                                   |\n",
    "| SystemExit         | Raised by the sys.exit() function.                                                                   |\n",
    "| TypeError          | Raised when a function or operation is applied to an object of an incorrect type.                     |\n",
    "| UnboundLocalError  | Raised when a reference is made to a local variable in a function or method, but no value has been bound to that variable. |\n",
    "| ValueError         | Raised when a function gets an argument of correct type but improper value.                           |\n",
    "| ZeroDivisionError  | Raised when the second operand of a division or module operation is zero.                             |\n"
   ]
  },
  {
   "attachments": {},
   "cell_type": "markdown",
   "id": "e03df00f",
   "metadata": {},
   "source": [
    "## 4.2 Handling specific exceptions"
   ]
  },
  {
   "cell_type": "code",
   "execution_count": 23,
   "id": "b62b7076-2c97-44df-b7a3-a7d4d8632f74",
   "metadata": {},
   "outputs": [
    {
     "name": "stdin",
     "output_type": "stream",
     "text": [
      "Give me a number and I will calculate its square. j\n"
     ]
    },
    {
     "name": "stdout",
     "output_type": "stream",
     "text": [
      "Oh oh! I cannot square j!\n"
     ]
    }
   ],
   "source": [
    "try:\n",
    "    number=input(\"Give me a number and I will calculate its square.\")\n",
    "    square=int(number)**2\n",
    "    print(f'The square of {number} is {square}!')\n",
    "except ValueError:\n",
    "    print(f\"Oh oh! I cannot square {number}!\")"
   ]
  },
  {
   "attachments": {},
   "cell_type": "markdown",
   "id": "e6b65e91",
   "metadata": {},
   "source": [
    "## 4.3 try also has an else"
   ]
  },
  {
   "cell_type": "code",
   "execution_count": 25,
   "id": "97bf9288-2a53-4adb-8f7f-f3a2552c0f62",
   "metadata": {},
   "outputs": [
    {
     "name": "stdin",
     "output_type": "stream",
     "text": [
      "Give me a number and I will calculate its square. 7\n"
     ]
    },
    {
     "name": "stdout",
     "output_type": "stream",
     "text": [
      "The square of 7 is 49!\n",
      "Yeah! Things ran without a problem!\n"
     ]
    }
   ],
   "source": [
    "#The try-except statement also has an optional else block that is run only if everything works smoothly\n",
    "\n",
    "try:\n",
    "    number=input(\"Give me a number and I will calculate its square.\")\n",
    "    square=int(number)**2\n",
    "    print(f'The square of {number} is {square}!')\n",
    "except ValueError:\n",
    "    print(f\"Oh oh! I cannot square {number}!\")\n",
    "else:\n",
    "    print('Yeah! Things ran without a problem!')"
   ]
  },
  {
   "attachments": {},
   "cell_type": "markdown",
   "id": "77d22014",
   "metadata": {},
   "source": [
    "# Exercises"
   ]
  },
  {
   "cell_type": "code",
   "execution_count": null,
   "id": "62c17fa3",
   "metadata": {},
   "outputs": [],
   "source": []
  },
  {
   "attachments": {},
   "cell_type": "markdown",
   "id": "0e6f0a9a",
   "metadata": {},
   "source": [
    "## Footnotes"
   ]
  }
 ],
 "metadata": {
  "kernelspec": {
   "display_name": "Python 3 (ipykernel)",
   "language": "python",
   "name": "python3"
  },
  "language_info": {
   "codemirror_mode": {
    "name": "ipython",
    "version": 3
   },
   "file_extension": ".py",
   "mimetype": "text/x-python",
   "name": "python",
   "nbconvert_exporter": "python",
   "pygments_lexer": "ipython3",
   "version": "3.11.5"
  },
  "toc": {
   "base_numbering": 1,
   "nav_menu": {},
   "number_sections": true,
   "sideBar": true,
   "skip_h1_title": false,
   "title_cell": "Table of Contents",
   "title_sidebar": "Contents",
   "toc_cell": false,
   "toc_position": {},
   "toc_section_display": true,
   "toc_window_display": false
  },
  "vscode": {
   "interpreter": {
    "hash": "31f2aee4e71d21fbe5cf8b01ff0e069b9275f58929596ceb00d14d90e3e16cd6"
   }
  }
 },
 "nbformat": 4,
 "nbformat_minor": 5
}
