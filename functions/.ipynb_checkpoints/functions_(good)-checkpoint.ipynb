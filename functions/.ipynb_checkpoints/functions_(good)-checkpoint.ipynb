{
 "cells": [
  {
   "attachments": {},
   "cell_type": "markdown",
   "id": "123456",
   "metadata": {},
   "source": [
    "<div style=\"text-align:left;font-size:2em\"><span style=\"font-weight:bolder;font-size:1.25em\">SP2273 | Learning Portfolio</span><br><br><span style=\"font-weight:bold;color:darkred\">Functions (Good)</span></div>"
   ]
  },
  {
   "attachments": {},
   "cell_type": "markdown",
   "id": "a518ebf5",
   "metadata": {},
   "source": [
    "# What to expect in this chapter"
   ]
  },
  {
   "cell_type": "markdown",
   "id": "1f589735-d2b3-4dee-b032-63792d8863cf",
   "metadata": {},
   "source": [
    "By the end of this chapter, you will know the difference between positional, keyword, and default arguments of functions. \n",
    "\n",
    "You can also write code that checks and handles potential problems."
   ]
  },
  {
   "attachments": {},
   "cell_type": "markdown",
   "id": "aa05dee4",
   "metadata": {},
   "source": [
    "# 1 Checks, balances, and contingencies"
   ]
  },
  {
   "cell_type": "markdown",
   "id": "f3abe322-2ea3-4954-a693-b2654a87f3d8",
   "metadata": {},
   "source": [
    "Users and programmers are not infallible, and you cannot think of everything that can go wrong. \n",
    "\n",
    "So, having checks, balances, and contingencies in your code is a good idea. So, let’s talk about pre-empting problems. \n",
    "\n",
    "This topic applies to more than just functions, but let’s start here.\n",
    "\n",
    "There are two standard ways Python allows us to incorporate checks: assert and try-except."
   ]
  },
  {
   "attachments": {},
   "cell_type": "markdown",
   "id": "28676e11",
   "metadata": {},
   "source": [
    "## 1.1 assert"
   ]
  },
  {
   "cell_type": "code",
   "execution_count": 22,
   "id": "c113b7d1-d0bd-4ab3-900e-896ae306bfef",
   "metadata": {},
   "outputs": [],
   "source": [
    "#Python has a command called assert that can check a condition and halt execution if necessary. \n",
    "#It also gives the option of printing a message.\n",
    "\n",
    "#The basic syntax is as follows:\n",
    "#assert condition-to-check, message\n",
    "\n",
    "#assert stops the flow if the condition fails. Here is an example.\n",
    "\n",
    "x = 1\n",
    "\n",
    "assert x >= 0, \"x is becoming negative!\"\n"
   ]
  },
  {
   "cell_type": "code",
   "execution_count": 20,
   "id": "74da386c-226f-4dac-89c3-ffd14ff6ad40",
   "metadata": {},
   "outputs": [],
   "source": [
    "\n",
    "#The program will run for as long as the condition is True. If it fails, then an AssertationError is raised, and the program stops running!\n",
    "\n",
    "x = 10\n",
    "assert x >= 0, \"x is becoming negative!\""
   ]
  },
  {
   "cell_type": "code",
   "execution_count": 23,
   "id": "4e8a4fa7-81b7-4173-b429-60cc1084b73a",
   "metadata": {},
   "outputs": [
    {
     "ename": "AssertionError",
     "evalue": "x is becoming negative!",
     "output_type": "error",
     "traceback": [
      "\u001b[1;31m---------------------------------------------------------------------------\u001b[0m",
      "\u001b[1;31mAssertionError\u001b[0m                            Traceback (most recent call last)",
      "Cell \u001b[1;32mIn[23], line 2\u001b[0m\n\u001b[0;32m      1\u001b[0m x \u001b[38;5;241m=\u001b[39m \u001b[38;5;241m-\u001b[39m\u001b[38;5;241m1\u001b[39m\n\u001b[1;32m----> 2\u001b[0m \u001b[38;5;28;01massert\u001b[39;00m x \u001b[38;5;241m>\u001b[39m\u001b[38;5;241m=\u001b[39m \u001b[38;5;241m0\u001b[39m, \u001b[38;5;124m\"\u001b[39m\u001b[38;5;124mx is becoming negative!\u001b[39m\u001b[38;5;124m\"\u001b[39m\n",
      "\u001b[1;31mAssertionError\u001b[0m: x is becoming negative!"
     ]
    }
   ],
   "source": [
    "x = -1\n",
    "assert x >= 0, \"x is becoming negative!\""
   ]
  },
  {
   "cell_type": "markdown",
   "id": "c99d8e0e-2c35-4db4-98b7-1beaff823e2e",
   "metadata": {},
   "source": [
    "## 1.2 try-except"
   ]
  },
  {
   "cell_type": "markdown",
   "id": "075d2da0-e5c7-4287-95f0-07d648807944",
   "metadata": {},
   "source": [
    "Exception\n",
    "\n",
    "For example, division by zero will raise a ZeroDivisionError\n",
    "\n",
    "The try-except syntax can also ensure that your programme can handle some situations beyond your control. \n",
    "\n",
    "For example, when I use Python to speak to the Canvas server, I use try-except to handle situations when the server does not respond."
   ]
  },
  {
   "cell_type": "code",
   "execution_count": 27,
   "id": "8b488a1d-7ee4-43d6-a362-512be2c89e29",
   "metadata": {},
   "outputs": [
    {
     "name": "stdin",
     "output_type": "stream",
     "text": [
      "Give me a number and I will calculate its square. rrr\n"
     ]
    },
    {
     "ename": "ValueError",
     "evalue": "invalid literal for int() with base 10: 'rrr'",
     "output_type": "error",
     "traceback": [
      "\u001b[1;31m---------------------------------------------------------------------------\u001b[0m",
      "\u001b[1;31mValueError\u001b[0m                                Traceback (most recent call last)",
      "Cell \u001b[1;32mIn[27], line 2\u001b[0m\n\u001b[0;32m      1\u001b[0m number\u001b[38;5;241m=\u001b[39m\u001b[38;5;28minput\u001b[39m(\u001b[38;5;124m\"\u001b[39m\u001b[38;5;124mGive me a number and I will calculate its square.\u001b[39m\u001b[38;5;124m\"\u001b[39m)\n\u001b[1;32m----> 2\u001b[0m square\u001b[38;5;241m=\u001b[39m\u001b[38;5;28;43mint\u001b[39;49m\u001b[43m(\u001b[49m\u001b[43mnumber\u001b[49m\u001b[43m)\u001b[49m\u001b[38;5;241m*\u001b[39m\u001b[38;5;241m*\u001b[39m\u001b[38;5;241m2\u001b[39m              \u001b[38;5;66;03m# Convert English to number\u001b[39;00m\n\u001b[0;32m      3\u001b[0m \u001b[38;5;28mprint\u001b[39m(\u001b[38;5;124mf\u001b[39m\u001b[38;5;124m'\u001b[39m\u001b[38;5;124mThe square of \u001b[39m\u001b[38;5;132;01m{\u001b[39;00mnumber\u001b[38;5;132;01m}\u001b[39;00m\u001b[38;5;124m is \u001b[39m\u001b[38;5;132;01m{\u001b[39;00msquare\u001b[38;5;132;01m}\u001b[39;00m\u001b[38;5;124m!\u001b[39m\u001b[38;5;124m'\u001b[39m)\n\u001b[0;32m      5\u001b[0m \u001b[38;5;66;03m#This will work fine if the typecasting int(number) makes sense. What if the input is not a number but something else like ‘hahaha’?\u001b[39;00m\n",
      "\u001b[1;31mValueError\u001b[0m: invalid literal for int() with base 10: 'rrr'"
     ]
    }
   ],
   "source": [
    "number=input(\"Give me a number and I will calculate its square.\")\n",
    "square=int(number)**2              # Convert English to number\n",
    "print(f'The square of {number} is {square}!')\n",
    "\n",
    "#This will work fine if the typecasting int(number) makes sense. What if the input is not a number but something else like ‘hahaha’?"
   ]
  },
  {
   "cell_type": "code",
   "execution_count": 28,
   "id": "79c6cde8-937d-45f1-8220-9bd5e0e13346",
   "metadata": {},
   "outputs": [
    {
     "name": "stdin",
     "output_type": "stream",
     "text": [
      "Give me a number and I will calculate its square. rgtgg\n"
     ]
    },
    {
     "name": "stdout",
     "output_type": "stream",
     "text": [
      "Oh oh! I cannot square rgtgg!\n"
     ]
    }
   ],
   "source": [
    "try:\n",
    "    number=input(\"Give me a number and I will calculate its square.\")\n",
    "    square=int(number)**2\n",
    "    print(f'The square of {number} is {square}!')\n",
    "except:\n",
    "    print(f\"Oh oh! I cannot square {number}!\")"
   ]
  },
  {
   "attachments": {},
   "cell_type": "markdown",
   "id": "bce8e14e",
   "metadata": {},
   "source": [
    "## 1.3 A simple suggestion"
   ]
  },
  {
   "cell_type": "markdown",
   "id": "e35e35a2-10c9-44ae-89d8-48e7753973ff",
   "metadata": {},
   "source": [
    "When starting out with some code, it is always good for your code to signal to the outside world that it has finished certain milestones. \n",
    "\n",
    "A ‘soft’ way to do this is to include ‘print()’ statements here and there to let the outside world know what is happening in the innards of your program. \n",
    "\n",
    "Otherwise, you will stare at a blank cell, wondering what is happening."
   ]
  },
  {
   "attachments": {},
   "cell_type": "markdown",
   "id": "004ad7e4",
   "metadata": {},
   "source": [
    "# 2 Some loose ends"
   ]
  },
  {
   "attachments": {},
   "cell_type": "markdown",
   "id": "8942d2ae",
   "metadata": {},
   "source": [
    "## 2.1 Positional, keyword and default arguments"
   ]
  },
  {
   "cell_type": "markdown",
   "id": "2ebf8cc3-20ef-4255-a96d-b6e5105feacb",
   "metadata": {},
   "source": [
    "There are three ‘ways’ to pass a value to an argument. \n",
    "\n",
    "I will call them positional, keyword or default. \n",
    "\n",
    "To make this clearer, consider the following function."
   ]
  },
  {
   "cell_type": "code",
   "execution_count": 30,
   "id": "da5e2ba6-4a8e-415d-8438-6ae08d44b8c2",
   "metadata": {},
   "outputs": [],
   "source": [
    "def side_by_side(a, b, c=42):\n",
    "    return f'{a: 2d}|{b: 2d}|{c: 2d}'"
   ]
  },
  {
   "cell_type": "code",
   "execution_count": 34,
   "id": "9121fea1-4363-4933-834e-2515b325e1ca",
   "metadata": {},
   "outputs": [
    {
     "data": {
      "text/plain": [
       "' 1| 2| 3'"
      ]
     },
     "execution_count": 34,
     "metadata": {},
     "output_type": "execute_result"
    }
   ],
   "source": [
    "side_by_side(1, 2, 3)\n",
    "\n",
    "#Here, I am telling Python to assign 1, 2, 3 to a, b, c using the positional order of the arguments."
   ]
  },
  {
   "cell_type": "code",
   "execution_count": 35,
   "id": "ee32ebf2-21b4-4119-abc9-3115423b6043",
   "metadata": {},
   "outputs": [
    {
     "data": {
      "text/plain": [
       "' 2| 1| 3'"
      ]
     },
     "execution_count": 35,
     "metadata": {},
     "output_type": "execute_result"
    }
   ],
   "source": [
    "side_by_side(c=3, b=1, a=2)\n",
    "\n",
    "#Here, I explicitly specify the keyword to assign the values to each of a, b, c. (No, the order does not matter)"
   ]
  },
  {
   "cell_type": "code",
   "execution_count": 36,
   "id": "909d5c64-d3d1-4f3f-b832-9e2a71473b06",
   "metadata": {},
   "outputs": [
    {
     "data": {
      "text/plain": [
       "' 1| 2| 42'"
      ]
     },
     "execution_count": 36,
     "metadata": {},
     "output_type": "execute_result"
    }
   ],
   "source": [
    "side_by_side(1, b=2)\n",
    "\n",
    "#Here, since c is optional, I can choose not to specify it (of course, provided I want c to be 1)."
   ]
  },
  {
   "cell_type": "code",
   "execution_count": 37,
   "id": "88b3aace-5e9e-4410-83cb-7c6ef76908a8",
   "metadata": {},
   "outputs": [
    {
     "data": {
      "text/plain": [
       "' 1| 2| 42'"
      ]
     },
     "execution_count": 37,
     "metadata": {},
     "output_type": "execute_result"
    }
   ],
   "source": [
    "#Below are some examples of how you can combine these three styles. \n",
    "#However, one style (keyword followed by positional) confuses Python and won’t work.\n",
    "\n",
    "side_by_side(1, 2)           # Two positional, 1 default\n",
    "## ' 1| 2| 42'\n",
    "side_by_side(1, 2, 3)        # Three positional\n",
    "## ' 1| 2| 3'\n",
    "side_by_side(a=1, b=2)       # Two keyword, 1 default\n",
    "## ' 1| 2| 42'\n",
    "side_by_side(c=3, b=1, a=2)  # Three keyword\n",
    "## ' 2| 1| 3'\n",
    "side_by_side(1, c=3, b=2)    # One positional, 2 keyword\n",
    "## ' 1| 2| 3'\n",
    "side_by_side(1, b=2)         # One positional, 1 keyword, 1 default\n",
    "## ' 1| 2| 42'"
   ]
  },
  {
   "cell_type": "code",
   "execution_count": 41,
   "id": "6ffa6db1-b95b-4592-b728-92f92affb979",
   "metadata": {},
   "outputs": [
    {
     "ename": "SyntaxError",
     "evalue": "positional argument follows keyword argument (199569723.py, line 5)",
     "output_type": "error",
     "traceback": [
      "\u001b[1;36m  Cell \u001b[1;32mIn[41], line 5\u001b[1;36m\u001b[0m\n\u001b[1;33m    side_by_side(a=2, 1)      # Won't work.\u001b[0m\n\u001b[1;37m                       ^\u001b[0m\n\u001b[1;31mSyntaxError\u001b[0m\u001b[1;31m:\u001b[0m positional argument follows keyword argument\n"
     ]
    }
   ],
   "source": [
    "#Let me reiterate that the following will not work because Python cannot unambiguously determine the position of 1?\n",
    "\n",
    "# Keywords cannot be followed \n",
    "# by positional arguments\n",
    "side_by_side(a=2, 1)      # Won't work.      \n",
    "\n",
    "#SyntaxError: positional argument follows keyword argument"
   ]
  },
  {
   "attachments": {},
   "cell_type": "markdown",
   "id": "17ad55f9",
   "metadata": {},
   "source": [
    "## 2.2 Docstrings"
   ]
  },
  {
   "cell_type": "code",
   "execution_count": 40,
   "id": "6328e656-8c1b-4a14-b3ab-417759147847",
   "metadata": {},
   "outputs": [],
   "source": [
    "#Python has a docstring feature that allows us to document what a function does inside the function. \n",
    "\n",
    "def side_by_side(a, b, c=42):\n",
    "    '''\n",
    "    A test function to demonstrate how \n",
    "    positional, keyword and default arguments \n",
    "    work.\n",
    "    '''\n",
    "    return f'{a: 2d}|{b: 2d}|{c: 2d}'"
   ]
  },
  {
   "cell_type": "markdown",
   "id": "921b0bbd-51af-40dc-9d3f-bdc6a3a4a634",
   "metadata": {},
   "source": [
    "A docstring needs to be sandwiched between a pair of ''' (or \"\"\") and can span multiple lines."
   ]
  },
  {
   "cell_type": "code",
   "execution_count": 43,
   "id": "11d66339-dd8a-4d7d-b52e-a530694937cf",
   "metadata": {},
   "outputs": [
    {
     "name": "stdout",
     "output_type": "stream",
     "text": [
      "Help on function side_by_side in module __main__:\n",
      "\n",
      "side_by_side(a, b, c=42)\n",
      "    A test function to demonstrate how \n",
      "    positional, keyword and default arguments \n",
      "    work.\n",
      "\n"
     ]
    }
   ],
   "source": [
    "help(side_by_side)\n",
    "\n",
    "#Docstrings can be used for writing multiline comments, but the practice is frowned upon by Puritans; so if you misuse it be ready for their ire!"
   ]
  },
  {
   "attachments": {},
   "cell_type": "markdown",
   "id": "c4371d23",
   "metadata": {},
   "source": [
    "## 2.3 Function are first-class citizens"
   ]
  },
  {
   "cell_type": "code",
   "execution_count": 47,
   "id": "39779355-c294-4fec-bd7d-e53d7497ca53",
   "metadata": {},
   "outputs": [
    {
     "data": {
      "text/plain": [
       "-1.0"
      ]
     },
     "execution_count": 47,
     "metadata": {},
     "output_type": "execute_result"
    }
   ],
   "source": [
    "#Python functions are called first-class citizens because they have the same privileges as variables. \n",
    "#This opens up useful possibilities for scientific programming because we can pass a function as an argument to another function!\n",
    "\n",
    "import numpy as np\n",
    "\n",
    "def my_function(angle, trig_function):\n",
    "        return trig_function(angle)\n",
    "\n",
    "# Let's use the function\n",
    "my_function(np.pi/2, np.sin)        \n",
    "## 1.0\n",
    "my_function(np.pi/2, np.cos)        \n",
    "## 6.123233995736766e-17\n",
    "my_function(np.pi/2, lambda x: np.cos(2*x))  \n",
    "## -1.0\n",
    "\n",
    "#Note: When we pass a function as an argument, we do not include the parenthesis ()."
   ]
  },
  {
   "attachments": {},
   "cell_type": "markdown",
   "id": "3ef4a05d",
   "metadata": {},
   "source": [
    "## 2.4 More about unpacking"
   ]
  },
  {
   "cell_type": "code",
   "execution_count": 48,
   "id": "b860fef1-c885-45e8-b06d-181021f2d88e",
   "metadata": {},
   "outputs": [
    {
     "data": {
      "text/plain": [
       "(1, 2, 3)"
      ]
     },
     "execution_count": 48,
     "metadata": {},
     "output_type": "execute_result"
    }
   ],
   "source": [
    "#There is more to unpacking. For example, unpacking can make extracting information from lists and arrays a breeze. Here are some examples.\n",
    "\n",
    "x, y, z = [1, 2, 3]\n",
    "x, y, z"
   ]
  },
  {
   "cell_type": "code",
   "execution_count": 49,
   "id": "93154989-7321-4a69-898d-1d85b0e384b5",
   "metadata": {},
   "outputs": [
    {
     "data": {
      "text/plain": [
       "(1, 2, 3)"
      ]
     },
     "execution_count": 49,
     "metadata": {},
     "output_type": "execute_result"
    }
   ],
   "source": [
    "x, y, z = np.array([1, 2, 3])\n",
    "x, y, z"
   ]
  },
  {
   "cell_type": "code",
   "execution_count": 50,
   "id": "35824333-8f8d-4af7-bf7f-48b635f32067",
   "metadata": {},
   "outputs": [
    {
     "data": {
      "text/plain": [
       "(1, [2, 3, 4], 5)"
      ]
     },
     "execution_count": 50,
     "metadata": {},
     "output_type": "execute_result"
    }
   ],
   "source": [
    "x, *y, z = np.array([1, 2, 3, 4, 5])\n",
    "x, y, z"
   ]
  },
  {
   "cell_type": "code",
   "execution_count": 51,
   "id": "ba31655d-02cd-4e72-ac8e-48a050e38f97",
   "metadata": {},
   "outputs": [
    {
     "data": {
      "text/plain": [
       "(1, 5)"
      ]
     },
     "execution_count": 51,
     "metadata": {},
     "output_type": "execute_result"
    }
   ],
   "source": [
    "x, *_, y = [1, 2, 3, 4, 5]\n",
    "x, y"
   ]
  }
 ],
 "metadata": {
  "kernelspec": {
   "display_name": "Python 3 (ipykernel)",
   "language": "python",
   "name": "python3"
  },
  "language_info": {
   "codemirror_mode": {
    "name": "ipython",
    "version": 3
   },
   "file_extension": ".py",
   "mimetype": "text/x-python",
   "name": "python",
   "nbconvert_exporter": "python",
   "pygments_lexer": "ipython3",
   "version": "3.11.5"
  },
  "toc": {
   "base_numbering": 1,
   "nav_menu": {},
   "number_sections": true,
   "sideBar": true,
   "skip_h1_title": false,
   "title_cell": "Table of Contents",
   "title_sidebar": "Contents",
   "toc_cell": false,
   "toc_position": {},
   "toc_section_display": true,
   "toc_window_display": false
  },
  "vscode": {
   "interpreter": {
    "hash": "31f2aee4e71d21fbe5cf8b01ff0e069b9275f58929596ceb00d14d90e3e16cd6"
   }
  }
 },
 "nbformat": 4,
 "nbformat_minor": 5
}
