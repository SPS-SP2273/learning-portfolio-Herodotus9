{
 "cells": [
  {
   "attachments": {},
   "cell_type": "markdown",
   "id": "123456",
   "metadata": {},
   "source": [
    "<div style=\"text-align:left;font-size:2em\"><span style=\"font-weight:bolder;font-size:1.25em\">SP2273 | Learning Portfolio</span><br><br><span style=\"font-weight:bold;color:darkred\">Functions (Need)</span></div>"
   ]
  },
  {
   "attachments": {},
   "cell_type": "markdown",
   "id": "87480ffc",
   "metadata": {},
   "source": [
    "# What to expect in this chapter"
   ]
  },
  {
   "attachments": {},
   "cell_type": "markdown",
   "id": "c0a5130a",
   "metadata": {},
   "source": [
    "# 1 User-defined functions"
   ]
  },
  {
   "cell_type": "markdown",
   "id": "bc081d84-32e5-4e9c-a2d3-ebb9bc620701",
   "metadata": {},
   "source": [
    "print() is an example of an internal function in Python. You can also create your own functions. There are two ways to do this: named and anonymous."
   ]
  },
  {
   "attachments": {},
   "cell_type": "markdown",
   "id": "7e978213",
   "metadata": {},
   "source": [
    "## 1.1 Named Functions"
   ]
  },
  {
   "attachments": {},
   "cell_type": "markdown",
   "id": "dcd7e412",
   "metadata": {},
   "source": [
    "### Named functions that return"
   ]
  },
  {
   "cell_type": "code",
   "execution_count": 3,
   "id": "4db4c19a-a24f-466a-9b5d-786c8bdba958",
   "metadata": {},
   "outputs": [],
   "source": [
    "def greeting(name):\n",
    "    if name == 'Batman':\n",
    "        return 'Hello Batman! So, nice to meet you!'\n",
    "    else:\n",
    "        return f'Hello {name}!'\n",
    "\n",
    "#The function’s name is greeting and it accepts a single argument called name. We can then use the function as:"
   ]
  },
  {
   "cell_type": "code",
   "execution_count": 3,
   "id": "0a49addd-1a51-4d1d-8172-a352f6728cae",
   "metadata": {},
   "outputs": [
    {
     "data": {
      "text/plain": [
       "'Hello Super Man!'"
      ]
     },
     "execution_count": 3,
     "metadata": {},
     "output_type": "execute_result"
    }
   ],
   "source": [
    "greeting(\"Super Man\")"
   ]
  },
  {
   "cell_type": "code",
   "execution_count": 4,
   "id": "c643a5ef-4f27-472a-90a6-76639e635ff1",
   "metadata": {},
   "outputs": [
    {
     "data": {
      "text/plain": [
       "'Hello Super Man!'"
      ]
     },
     "execution_count": 4,
     "metadata": {},
     "output_type": "execute_result"
    }
   ],
   "source": [
    "greeting(name=\"Super Man\")"
   ]
  },
  {
   "cell_type": "markdown",
   "id": "efe0cb22-e5cc-4531-8ef6-2e6232b59453",
   "metadata": {},
   "source": [
    "When Python sees a return keyword it jumps out of the function with the return value. \n",
    "\n",
    "You can pick up the returned value by assigning it to a variable or even use it directly like shown below\n",
    "\n",
    "Incidentally, you can use return only within a function."
   ]
  },
  {
   "cell_type": "code",
   "execution_count": 5,
   "id": "03735044-2973-41c5-9573-a3ff1867b659",
   "metadata": {},
   "outputs": [
    {
     "name": "stdout",
     "output_type": "stream",
     "text": [
      "Hello Super Man!\n"
     ]
    }
   ],
   "source": [
    "greet=greeting(name='Super Man')\n",
    "print(greet)"
   ]
  },
  {
   "cell_type": "code",
   "execution_count": 6,
   "id": "0eaea32e-7d7c-4891-ba0e-d3be7428ed3d",
   "metadata": {},
   "outputs": [
    {
     "name": "stdout",
     "output_type": "stream",
     "text": [
      "Hello Super Man!\n"
     ]
    }
   ],
   "source": [
    "print(greeting(name='Super Man'))"
   ]
  },
  {
   "cell_type": "code",
   "execution_count": 25,
   "id": "783b1787-0d0f-46d6-b354-654cdd517af4",
   "metadata": {},
   "outputs": [
    {
     "name": "stdout",
     "output_type": "stream",
     "text": [
      "5\n",
      "3.0\n",
      "1\n"
     ]
    }
   ],
   "source": [
    "#You can return almost anything, like shown below where I return my_max, my_min and my_mean \n",
    "\n",
    "import numpy as np\n",
    "\n",
    "def basic_stats(numbers):\n",
    "    np_numbers = np.array(numbers)\n",
    "    my_min = np_numbers.min()\n",
    "    my_max = np_numbers.max()\n",
    "    my_mean = np_numbers.mean()\n",
    "    return my_max, my_min, my_mean\n",
    "\n",
    "list_min, list_max, list_mean = basic_stats([1, 2, 3, 4, 5])\n",
    "\n",
    "print(list_min)\n",
    "print(list_mean)\n",
    "print(list_max)\n",
    "\n",
    "#Functions are very specific in what they, and what we use it for is also very specific.\n",
    "#The function above is specific to give max, min and mean in that order. "
   ]
  },
  {
   "cell_type": "code",
   "execution_count": 24,
   "id": "0309e807-ce69-4260-b95b-10f30710c48d",
   "metadata": {},
   "outputs": [
    {
     "data": {
      "text/plain": [
       "(5, 1, 3.0)"
      ]
     },
     "execution_count": 24,
     "metadata": {},
     "output_type": "execute_result"
    }
   ],
   "source": [
    "basic_stats([1, 2, 3, 4, 5])\n"
   ]
  },
  {
   "attachments": {},
   "cell_type": "markdown",
   "id": "2bf67cac",
   "metadata": {},
   "source": [
    "### Named functions that don’t return"
   ]
  },
  {
   "cell_type": "markdown",
   "id": "728f16bd-6e51-4aa7-8bcb-3b75144c916b",
   "metadata": {},
   "source": [
    "A function does not have to return anything. \n",
    "\n",
    "A good example is print(), which does something but does not return a value. \n",
    "\n",
    "You will often also need functions like these, for instance, to save data to a file (Shown in later chaps)"
   ]
  },
  {
   "attachments": {},
   "cell_type": "markdown",
   "id": "c1c99530",
   "metadata": {},
   "source": [
    "## 1.2  Anonymous functions"
   ]
  },
  {
   "cell_type": "code",
   "execution_count": 4,
   "id": "3d49d02e-a073-4ac3-b489-e3a7564040d8",
   "metadata": {},
   "outputs": [
    {
     "data": {
      "text/plain": [
       "'Hello Super Man!'"
      ]
     },
     "execution_count": 4,
     "metadata": {},
     "output_type": "execute_result"
    }
   ],
   "source": [
    "my_short_function = lambda name: f\"Hello {name}!\"\n",
    "\n",
    "my_short_function(name=\"Super Man\")\n",
    "\n",
    "#A lambda function always returns the value of the last statement.\n",
    "#suitable for short one-liners"
   ]
  },
  {
   "cell_type": "code",
   "execution_count": 6,
   "id": "d31d6521-0c38-45e0-a89a-3419b5369aba",
   "metadata": {},
   "outputs": [],
   "source": [
    "#The above used a name, for truly anonymous, see below\n",
    "\n",
    "numbers=[[9, 0, -10],\n",
    "         [8, 1, -11],\n",
    "         [7, 2, -12],\n",
    "         [6, 3, -13],\n",
    "         [5, 4, -14],\n",
    "         [4, 5, -15],\n",
    "         [3, 6, -16],\n",
    "         [2, 7, -17],\n",
    "         [1, 8, -18],\n",
    "         [0, 9, -19]]"
   ]
  },
  {
   "cell_type": "code",
   "execution_count": 30,
   "id": "75c0783a-a9d7-4820-af28-5e59c5ded6f1",
   "metadata": {},
   "outputs": [
    {
     "data": {
      "text/plain": [
       "[[0, 9, -19],\n",
       " [1, 8, -18],\n",
       " [2, 7, -17],\n",
       " [3, 6, -16],\n",
       " [4, 5, -15],\n",
       " [5, 4, -14],\n",
       " [6, 3, -13],\n",
       " [7, 2, -12],\n",
       " [8, 1, -11],\n",
       " [9, 0, -10]]"
      ]
     },
     "execution_count": 30,
     "metadata": {},
     "output_type": "execute_result"
    }
   ],
   "source": [
    "# Sort by comparing the default key\n",
    "# (i.e., the 1st element)\n",
    "sorted(numbers)"
   ]
  },
  {
   "cell_type": "code",
   "execution_count": 31,
   "id": "142ab499-1ff5-4210-b13b-cf3b87f144bc",
   "metadata": {},
   "outputs": [
    {
     "data": {
      "text/plain": [
       "[[9, 0, -10],\n",
       " [8, 1, -11],\n",
       " [7, 2, -12],\n",
       " [6, 3, -13],\n",
       " [5, 4, -14],\n",
       " [4, 5, -15],\n",
       " [3, 6, -16],\n",
       " [2, 7, -17],\n",
       " [1, 8, -18],\n",
       " [0, 9, -19]]"
      ]
     },
     "execution_count": 31,
     "metadata": {},
     "output_type": "execute_result"
    }
   ],
   "source": [
    "# Sort by comparing a custom key\n",
    "# that uses the 2nd element (index=1)\n",
    "sorted(numbers, key=lambda x: x[1])"
   ]
  },
  {
   "cell_type": "code",
   "execution_count": 32,
   "id": "a91de972-3716-4968-81a3-d0c1cf812f8b",
   "metadata": {},
   "outputs": [
    {
     "data": {
      "text/plain": [
       "[[0, 9, -19],\n",
       " [1, 8, -18],\n",
       " [2, 7, -17],\n",
       " [3, 6, -16],\n",
       " [4, 5, -15],\n",
       " [5, 4, -14],\n",
       " [6, 3, -13],\n",
       " [7, 2, -12],\n",
       " [8, 1, -11],\n",
       " [9, 0, -10]]"
      ]
     },
     "execution_count": 32,
     "metadata": {},
     "output_type": "execute_result"
    }
   ],
   "source": [
    "# Sort by comparing a custom key\n",
    "# that uses the sum of the elements.\n",
    "sorted(numbers, key=lambda x: sum(x))   "
   ]
  },
  {
   "cell_type": "markdown",
   "id": "8baff694-84a6-4db9-8159-bec747c1e1e9",
   "metadata": {},
   "source": [
    "## 1.3 Optional arguments"
   ]
  },
  {
   "cell_type": "code",
   "execution_count": 7,
   "id": "dc846e4a-8031-40c0-bb4c-da0ede7db52c",
   "metadata": {},
   "outputs": [
    {
     "data": {
      "text/plain": [
       "'Hello no one!'"
      ]
     },
     "execution_count": 7,
     "metadata": {},
     "output_type": "execute_result"
    }
   ],
   "source": [
    "#arguments made to our function can be optional\n",
    "#To do this, we need to give the argument a default value so that it always has something to work with.\n",
    "\n",
    "def greeting(name='no one'):\n",
    "    if name == 'Batman':\n",
    "        return 'Hello Batman! So, nice to meet you!'\n",
    "    else:\n",
    "        return f'Hello {name}!'\n",
    "\n",
    "greeting()"
   ]
  },
  {
   "cell_type": "code",
   "execution_count": 36,
   "id": "c9d334ac-951d-42f4-a769-f266a9dfe11f",
   "metadata": {},
   "outputs": [
    {
     "data": {
      "text/plain": [
       "\u001b[1;31mSignature:\u001b[0m \u001b[0mprint\u001b[0m\u001b[1;33m(\u001b[0m\u001b[1;33m*\u001b[0m\u001b[0margs\u001b[0m\u001b[1;33m,\u001b[0m \u001b[0msep\u001b[0m\u001b[1;33m=\u001b[0m\u001b[1;34m' '\u001b[0m\u001b[1;33m,\u001b[0m \u001b[0mend\u001b[0m\u001b[1;33m=\u001b[0m\u001b[1;34m'\\n'\u001b[0m\u001b[1;33m,\u001b[0m \u001b[0mfile\u001b[0m\u001b[1;33m=\u001b[0m\u001b[1;32mNone\u001b[0m\u001b[1;33m,\u001b[0m \u001b[0mflush\u001b[0m\u001b[1;33m=\u001b[0m\u001b[1;32mFalse\u001b[0m\u001b[1;33m)\u001b[0m\u001b[1;33m\u001b[0m\u001b[1;33m\u001b[0m\u001b[0m\n",
       "\u001b[1;31mDocstring:\u001b[0m\n",
       "Prints the values to a stream, or to sys.stdout by default.\n",
       "\n",
       "sep\n",
       "  string inserted between values, default a space.\n",
       "end\n",
       "  string appended after the last value, default a newline.\n",
       "file\n",
       "  a file-like object (stream); defaults to the current sys.stdout.\n",
       "flush\n",
       "  whether to forcibly flush the stream.\n",
       "\u001b[1;31mType:\u001b[0m      builtin_function_or_method"
      ]
     },
     "metadata": {},
     "output_type": "display_data"
    }
   ],
   "source": [
    "?print"
   ]
  },
  {
   "cell_type": "code",
   "execution_count": 8,
   "id": "bda5e05e-1ffb-458b-8c22-b6001691e29c",
   "metadata": {},
   "outputs": [
    {
     "name": "stdout",
     "output_type": "stream",
     "text": [
      "I am Batman!\n"
     ]
    }
   ],
   "source": [
    "#You see that print() can accept other arguments that are optional with default values. However, we can specify them as shown below\n",
    "\n",
    "# Using default values\n",
    "print('I', 'am', 'Batman!')"
   ]
  },
  {
   "cell_type": "code",
   "execution_count": 38,
   "id": "376a8fcf-cbf8-43f2-8828-3cbc92b7e22b",
   "metadata": {},
   "outputs": [
    {
     "name": "stdout",
     "output_type": "stream",
     "text": [
      "I---am---Batman!\n"
     ]
    }
   ],
   "source": [
    "# Specifying an optional argument\n",
    "print('I', 'am', 'Batman!', sep='---')  "
   ]
  },
  {
   "cell_type": "markdown",
   "id": "098c0a5d-100d-4cff-8a96-1370473f99ec",
   "metadata": {},
   "source": [
    "\n",
    "\n",
    "Remember:\n",
    "\n",
    "    you can define your own functions,\n",
    "    functions can have optional arguments,\n",
    "    functions don’t always have to return anything."
   ]
  },
  {
   "cell_type": "markdown",
   "id": "145b708c-ad66-48f6-ae0b-7181a7f36fd7",
   "metadata": {},
   "source": [
    "## 1.4 The importance of functions?"
   ]
  },
  {
   "attachments": {},
   "cell_type": "markdown",
   "id": "1412e2b9",
   "metadata": {},
   "source": [
    "# An argument for functions"
   ]
  },
  {
   "cell_type": "markdown",
   "id": "337c6400-1f72-47e9-bfd3-617e93cd416c",
   "metadata": {},
   "source": [
    "**Abstraction of details** \n",
    "\n",
    "The most important benefit of functions goes beyond programming and relates to your ability to strategize. If you break up a complicated solution into modular chunks (i.e., functions), it becomes easier to think about it because you are not dealing with all the details all at once. As a result, it is easier to focus on your overall solution because you are not distracted by unnecessary information. This hiding of ‘stuff’ is called abstraction in computer science lingo. The concept of abstraction can be tricky to grasp. So, let me share an analogy related to driving.\n",
    "\n",
    "A vehicle has many ‘abstracted’ systems, amongst which the engine is a good example. You do not need to know the engine’s details (e.g. electric, petrol, diesel, guineapig) to use it. You can use the engine of almost any car because you are not required to know what happens inside. This frees up your resources because you are not distracted by unnecessary details. Of course, there will be times when you want to know how an engine works to pick the best engine.\n",
    "\n",
    "**Reusability of code** \n",
    "\n",
    "If you encapsulate a chunk of code in a function, it becomes straightforward to reuse it instead of copying and pasting at different places. This means your code will be shorter and more compact.\n",
    "\n",
    "**Maintainability of code**\n",
    "\n",
    "With functions, your code is easier to change and maintain because you need only make changes in one place, at the function definition."
   ]
  },
  {
   "cell_type": "markdown",
   "id": "de3e92a2-788c-4a8a-9d27-7d20ef1fd62b",
   "metadata": {},
   "source": [
    "1. Abstraction of code\n",
    "- Splitting complex computations into small modules and packaging into separate functions makes code easier to think about. \n",
    "\n",
    "2. Reusability of code\n",
    "- I can just use the return value instead of copy pasting all the code from before\n",
    "\n",
    "3. Maintainability of code\n",
    "- I can easily do debugging since I can refer to the function where other code is referencing from"
   ]
  },
  {
   "attachments": {},
   "cell_type": "markdown",
   "id": "36571393",
   "metadata": {},
   "source": [
    "# A word of caution"
   ]
  },
  {
   "cell_type": "markdown",
   "id": "944740db-4556-4561-a370-89e0fec3976e",
   "metadata": {},
   "source": [
    "I have seen many instances where functions are abused; for example, by trying to do too many things or having too many arguments. \n",
    "\n",
    "They can also be overused. Having too many functions can make it difficult to read your code and also increase computational overheads. \n",
    "\n",
    "aka very confusing"
   ]
  }
 ],
 "metadata": {
  "kernelspec": {
   "display_name": "Python 3 (ipykernel)",
   "language": "python",
   "name": "python3"
  },
  "language_info": {
   "codemirror_mode": {
    "name": "ipython",
    "version": 3
   },
   "file_extension": ".py",
   "mimetype": "text/x-python",
   "name": "python",
   "nbconvert_exporter": "python",
   "pygments_lexer": "ipython3",
   "version": "3.11.5"
  },
  "toc": {
   "base_numbering": 1,
   "nav_menu": {},
   "number_sections": true,
   "sideBar": true,
   "skip_h1_title": false,
   "title_cell": "Table of Contents",
   "title_sidebar": "Contents",
   "toc_cell": false,
   "toc_position": {},
   "toc_section_display": true,
   "toc_window_display": false
  },
  "vscode": {
   "interpreter": {
    "hash": "31f2aee4e71d21fbe5cf8b01ff0e069b9275f58929596ceb00d14d90e3e16cd6"
   }
  }
 },
 "nbformat": 4,
 "nbformat_minor": 5
}
