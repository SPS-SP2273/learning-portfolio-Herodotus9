{
 "cells": [
  {
   "attachments": {},
   "cell_type": "markdown",
   "id": "123456",
   "metadata": {},
   "source": [
    "<div style=\"text-align:left;font-size:2em\"><span style=\"font-weight:bolder;font-size:1.25em\">SP2273 | Learning Portfolio</span><br><br><span style=\"font-weight:bold;color:darkred\">Fundamentals (Good) Exercises</span></div>"
   ]
  },
  {
   "cell_type": "code",
   "execution_count": 5,
   "id": "fc671055-3278-47e9-8dd3-4c94de5f80e5",
   "metadata": {},
   "outputs": [
    {
     "name": "stdout",
     "output_type": "stream",
     "text": [
      "Step 1\n"
     ]
    },
    {
     "name": "stdin",
     "output_type": "stream",
     "text": [
      "Give me a name? banana\n"
     ]
    },
    {
     "name": "stdout",
     "output_type": "stream",
     "text": [
      "banana Is Joe\n"
     ]
    }
   ],
   "source": [
    "print('Step 1')\n",
    "\n",
    "user_input = input('Give me a name?')\n",
    "print(user_input , 'Is Joe')"
   ]
  },
  {
   "cell_type": "code",
   "execution_count": 13,
   "id": "fc7353e3-ff52-4148-a8fc-c56822c997f9",
   "metadata": {},
   "outputs": [
    {
     "name": "stdout",
     "output_type": "stream",
     "text": [
      "Task\n"
     ]
    },
    {
     "name": "stdin",
     "output_type": "stream",
     "text": [
      "Enter Thy Score 45.67\n"
     ]
    },
    {
     "name": "stdout",
     "output_type": "stream",
     "text": [
      "Your grade is C.\n"
     ]
    }
   ],
   "source": [
    "print('Task')\n",
    "\n",
    "try:\n",
    "    user_input = input('Enter Thy Score')\n",
    "    fl = float(user_input)\n",
    "    rounded_val=f'{fl:.0f}'\n",
    "    x=int(rounded_val)\n",
    "\n",
    "    if 0<=x<=34:\n",
    "        print('You have failed!')\n",
    "    elif 34<x<=49:\n",
    "        print('Your grade is C.')\n",
    "    elif 49<x<=69:\n",
    "        print('Your grade is B.')\n",
    "    elif 69<x<=100:\n",
    "        print('Your grade is A.')\n",
    "    elif x<0:\n",
    "        print('How can your score be negative?')\n",
    "    else:\n",
    "        print('How can your score be above 100?')\n",
    "\n",
    "except ValueError as e:\n",
    "    print(\"Enter only numbers plz\")\n",
    "\n"
   ]
  },
  {
   "cell_type": "code",
   "execution_count": null,
   "id": "f895de35-9674-49df-8867-24946e349d9c",
   "metadata": {},
   "outputs": [],
   "source": []
  }
 ],
 "metadata": {
  "kernelspec": {
   "display_name": "Python 3 (ipykernel)",
   "language": "python",
   "name": "python3"
  },
  "language_info": {
   "codemirror_mode": {
    "name": "ipython",
    "version": 3
   },
   "file_extension": ".py",
   "mimetype": "text/x-python",
   "name": "python",
   "nbconvert_exporter": "python",
   "pygments_lexer": "ipython3",
   "version": "3.11.5"
  },
  "toc": {
   "base_numbering": 1,
   "nav_menu": {},
   "number_sections": true,
   "sideBar": true,
   "skip_h1_title": false,
   "title_cell": "Table of Contents",
   "title_sidebar": "Contents",
   "toc_cell": false,
   "toc_position": {},
   "toc_section_display": true,
   "toc_window_display": false
  },
  "vscode": {
   "interpreter": {
    "hash": "31f2aee4e71d21fbe5cf8b01ff0e069b9275f58929596ceb00d14d90e3e16cd6"
   }
  }
 },
 "nbformat": 4,
 "nbformat_minor": 5
}
