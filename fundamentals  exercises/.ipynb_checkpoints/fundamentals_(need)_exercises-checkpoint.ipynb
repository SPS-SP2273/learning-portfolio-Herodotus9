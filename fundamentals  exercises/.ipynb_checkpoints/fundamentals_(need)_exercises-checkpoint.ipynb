{
 "cells": [
  {
   "attachments": {},
   "cell_type": "markdown",
   "id": "123456",
   "metadata": {},
   "source": [
    "<div style=\"text-align:left;font-size:2em\"><span style=\"font-weight:bolder;font-size:1.25em\">SP2273 | Learning Portfolio</span><br><br><span style=\"font-weight:bold;color:darkred\">Fundamentals (Need) Exercises</span></div>"
   ]
  },
  {
   "cell_type": "markdown",
   "id": "ddbace87-74ac-4f50-9f14-93fce2c303c6",
   "metadata": {},
   "source": [
    "Exercise 1:\n",
    "\n",
    "Python is case sensitive\n",
    "\n",
    "the hash (#) is used to show comments\n",
    "\n",
    "= sets 1 value to be equal to another\n",
    "\n",
    "== checks if the 2 values are equal\n",
    "\n",
    "Inconsistent indentation causes code to not work\n",
    "\n",
    ". indicates ownership\n",
    "\n",
    "Missed\n",
    "\n",
    "*() always follow a function*\n",
    "\n",
    "*print() is a core function of python, it is a function that takes an argument and prints it to the screen*\n",
    "\n",
    "*Python interprets sequentially, 1 command at a time*\n",
    "\n",
    "*if is used to make decision*\n",
    "\n",
    "*print(age) prints the value of the variable age while print(\"age\") directly prints the word age*\n",
    "\n",
    "*() bracket is used in call to function, it is also used in mathematics*\n",
    "\n",
    "*[] is used for lists of data*\n",
    "\n",
    "*{} is used to store data into a dictionary*\n",
    "\n",
    "*import math imports math package, which allows us to use math modules in our code. import numpy does the same but for numpy package*\n"
   ]
  },
  {
   "cell_type": "code",
   "execution_count": 19,
   "id": "59548b8c-1895-467c-b9d0-eaae23e27e65",
   "metadata": {},
   "outputs": [
    {
     "name": "stdout",
     "output_type": "stream",
     "text": [
      "Exercise 2:\n",
      "3 4 5.0\n"
     ]
    }
   ],
   "source": [
    "import math\n",
    "\n",
    "print(\"Exercise 2:\")\n",
    "\n",
    "x, y = 3, 4\n",
    "z = math.sqrt(x**2 + y**2)\n",
    "print(x, y, z)\n"
   ]
  },
  {
   "cell_type": "markdown",
   "id": "9a1a576e-6b28-41b2-9ade-a1ae9f6beaab",
   "metadata": {},
   "source": [
    "Exercise 3\n",
    "\n",
    "| **#**    |  **Term**   |    **Description** |\n",
    "| :---: | :-- | :--- |\n",
    "| 1   |  Function  |   A function is a code that carries out a specific task, with parentheses, (), always following it.  |\n",
    "| 2   |  Arguements  |   Arguements are values that are passed to a function, providing information for the function to carry out its specific tasks. |\n",
    "| 3   |   Comments |   Comments are annotations used for explanations and notes thatare ignored by the interpreter when executing code. |\n",
    "| 4   |  Indentations  |   Indentations are spacings at the start of a line that designates blocks of code. |\n",
    "| 5   |  Packages  |   Packages contain modules that give python extra functionaility to carry out more tasks, with similar module types grouped together under the same package. |\n",
    "| 6   |  .  |   The dot (.) indicates ownership of a function to a module. |\n",
    "| 7   |  :  |   The colon (:) indicates the start of an indented block of code, commonly used in control flow statements such as if else statements. |\n",
    "| 8   |  []  |   Square brackets [] are used to define lists of data, with values within the brackets forming the lists. |\n",
    "| 9   |  [[[]]]  |   [[[]]] means that there is a defined list of data within another list, which itself is within another list, forming nested lists. |\n",
    "| 10   |  {}  |   Curly brackets {} are used to define a dictionary, containing multiple key value pairs. |\n"
   ]
  },
  {
   "cell_type": "code",
   "execution_count": null,
   "id": "0d802352-0acc-4e4a-a424-601152941b2e",
   "metadata": {},
   "outputs": [],
   "source": [
    "Exercise 4"
   ]
  },
  {
   "cell_type": "code",
   "execution_count": 24,
   "id": "d4d83689-6c11-4288-8e07-90cbc049b6be",
   "metadata": {},
   "outputs": [
    {
     "name": "stdout",
     "output_type": "stream",
     "text": [
      "2.5\n"
     ]
    }
   ],
   "source": [
    "print(5/2)           # the / divides the numerator by the denominator. \n",
    "                     #In this case, 5 is divided by 2 to give 2.5\n"
   ]
  },
  {
   "cell_type": "code",
   "execution_count": 29,
   "id": "8749038a-99b0-4ae1-99a4-6f5f1e8d1055",
   "metadata": {},
   "outputs": [
    {
     "name": "stdout",
     "output_type": "stream",
     "text": [
      "2\n"
     ]
    }
   ],
   "source": [
    "print(5//2)          # the // divided the numerator by the denominator and then rounds down the answer to the nearestw hole number. \n",
    "                     #In this case, 5 divides by 2 to 2.5, which is rounded down to 2"
   ]
  },
  {
   "cell_type": "code",
   "execution_count": 31,
   "id": "392fd310-4fe5-4469-b512-8b34fdb177e8",
   "metadata": {},
   "outputs": [
    {
     "name": "stdout",
     "output_type": "stream",
     "text": [
      "1\n"
     ]
    }
   ],
   "source": [
    "print(5%2)           # the % gives the remainder when the numerator is divided by the denominator. \n",
    "                     #In this case, 5 divides by 2 to give 2 and remainder 1, which is shown."
   ]
  }
 ],
 "metadata": {
  "kernelspec": {
   "display_name": "Python 3 (ipykernel)",
   "language": "python",
   "name": "python3"
  },
  "language_info": {
   "codemirror_mode": {
    "name": "ipython",
    "version": 3
   },
   "file_extension": ".py",
   "mimetype": "text/x-python",
   "name": "python",
   "nbconvert_exporter": "python",
   "pygments_lexer": "ipython3",
   "version": "3.11.5"
  },
  "toc": {
   "base_numbering": 1,
   "nav_menu": {},
   "number_sections": true,
   "sideBar": true,
   "skip_h1_title": false,
   "title_cell": "Table of Contents",
   "title_sidebar": "Contents",
   "toc_cell": false,
   "toc_position": {},
   "toc_section_display": true,
   "toc_window_display": false
  },
  "vscode": {
   "interpreter": {
    "hash": "31f2aee4e71d21fbe5cf8b01ff0e069b9275f58929596ceb00d14d90e3e16cd6"
   }
  }
 },
 "nbformat": 4,
 "nbformat_minor": 5
}
